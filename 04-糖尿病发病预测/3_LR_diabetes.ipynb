{
 "cells": [
  {
   "cell_type": "markdown",
   "metadata": {},
   "source": [
    "# Logistic 回归 \n",
    "\n",
    "采用5折交叉验证，分别用log似然损失和正确率，对Logistic回归模型的正则超参数调优。"
   ]
  },
  {
   "cell_type": "code",
   "execution_count": 1,
   "metadata": {},
   "outputs": [],
   "source": [
    "import numpy as np\n",
    "import pandas as pd\n",
    "import seaborn as sns\n",
    "import matplotlib.pyplot as plt\n",
    "%matplotlib inline"
   ]
  },
  {
   "cell_type": "code",
   "execution_count": 2,
   "metadata": {},
   "outputs": [
    {
     "data": {
      "text/html": [
       "<div>\n",
       "<style scoped>\n",
       "    .dataframe tbody tr th:only-of-type {\n",
       "        vertical-align: middle;\n",
       "    }\n",
       "\n",
       "    .dataframe tbody tr th {\n",
       "        vertical-align: top;\n",
       "    }\n",
       "\n",
       "    .dataframe thead th {\n",
       "        text-align: right;\n",
       "    }\n",
       "</style>\n",
       "<table border=\"1\" class=\"dataframe\">\n",
       "  <thead>\n",
       "    <tr style=\"text-align: right;\">\n",
       "      <th></th>\n",
       "      <th>pregnants</th>\n",
       "      <th>Plasma_glucose_concentration</th>\n",
       "      <th>blood_pressure</th>\n",
       "      <th>Triceps_skin_fold_thickness</th>\n",
       "      <th>serum_insulin</th>\n",
       "      <th>BMI</th>\n",
       "      <th>Diabetes_pedigree_function</th>\n",
       "      <th>Age</th>\n",
       "      <th>Target</th>\n",
       "    </tr>\n",
       "  </thead>\n",
       "  <tbody>\n",
       "    <tr>\n",
       "      <td>0</td>\n",
       "      <td>0.639947</td>\n",
       "      <td>0.866045</td>\n",
       "      <td>-0.031990</td>\n",
       "      <td>0.670643</td>\n",
       "      <td>-0.181541</td>\n",
       "      <td>0.166619</td>\n",
       "      <td>0.468492</td>\n",
       "      <td>1.425995</td>\n",
       "      <td>1</td>\n",
       "    </tr>\n",
       "    <tr>\n",
       "      <td>1</td>\n",
       "      <td>-0.844885</td>\n",
       "      <td>-1.205066</td>\n",
       "      <td>-0.528319</td>\n",
       "      <td>-0.012301</td>\n",
       "      <td>-0.181541</td>\n",
       "      <td>-0.852200</td>\n",
       "      <td>-0.365061</td>\n",
       "      <td>-0.190672</td>\n",
       "      <td>0</td>\n",
       "    </tr>\n",
       "    <tr>\n",
       "      <td>2</td>\n",
       "      <td>1.233880</td>\n",
       "      <td>2.016662</td>\n",
       "      <td>-0.693761</td>\n",
       "      <td>-0.012301</td>\n",
       "      <td>-0.181541</td>\n",
       "      <td>-1.332500</td>\n",
       "      <td>0.604397</td>\n",
       "      <td>-0.105584</td>\n",
       "      <td>1</td>\n",
       "    </tr>\n",
       "    <tr>\n",
       "      <td>3</td>\n",
       "      <td>-0.844885</td>\n",
       "      <td>-1.073567</td>\n",
       "      <td>-0.528319</td>\n",
       "      <td>-0.695245</td>\n",
       "      <td>-0.540642</td>\n",
       "      <td>-0.633881</td>\n",
       "      <td>-0.920763</td>\n",
       "      <td>-1.041549</td>\n",
       "      <td>0</td>\n",
       "    </tr>\n",
       "    <tr>\n",
       "      <td>4</td>\n",
       "      <td>-1.141852</td>\n",
       "      <td>0.504422</td>\n",
       "      <td>-2.679076</td>\n",
       "      <td>0.670643</td>\n",
       "      <td>0.316566</td>\n",
       "      <td>1.549303</td>\n",
       "      <td>5.484909</td>\n",
       "      <td>-0.020496</td>\n",
       "      <td>1</td>\n",
       "    </tr>\n",
       "  </tbody>\n",
       "</table>\n",
       "</div>"
      ],
      "text/plain": [
       "   pregnants  Plasma_glucose_concentration  blood_pressure  \\\n",
       "0   0.639947                      0.866045       -0.031990   \n",
       "1  -0.844885                     -1.205066       -0.528319   \n",
       "2   1.233880                      2.016662       -0.693761   \n",
       "3  -0.844885                     -1.073567       -0.528319   \n",
       "4  -1.141852                      0.504422       -2.679076   \n",
       "\n",
       "   Triceps_skin_fold_thickness  serum_insulin       BMI  \\\n",
       "0                     0.670643      -0.181541  0.166619   \n",
       "1                    -0.012301      -0.181541 -0.852200   \n",
       "2                    -0.012301      -0.181541 -1.332500   \n",
       "3                    -0.695245      -0.540642 -0.633881   \n",
       "4                     0.670643       0.316566  1.549303   \n",
       "\n",
       "   Diabetes_pedigree_function       Age  Target  \n",
       "0                    0.468492  1.425995       1  \n",
       "1                   -0.365061 -0.190672       0  \n",
       "2                    0.604397 -0.105584       1  \n",
       "3                   -0.920763 -1.041549       0  \n",
       "4                    5.484909 -0.020496       1  "
      ]
     },
     "execution_count": 2,
     "metadata": {},
     "output_type": "execute_result"
    }
   ],
   "source": [
    "dpath = './data/'\n",
    "train = pd.read_csv(dpath + 'FE_pima-indians-diabetes.csv')\n",
    "train.head()"
   ]
  },
  {
   "cell_type": "code",
   "execution_count": 3,
   "metadata": {},
   "outputs": [],
   "source": [
    "y_train = train['Target']\n",
    "X_train = train.drop(['Target'], axis=1)\n",
    "\n",
    "feat_names = X_train.columns"
   ]
  },
  {
   "cell_type": "markdown",
   "metadata": {},
   "source": [
    "## 模型训练\n",
    "### default Logistic Regression"
   ]
  },
  {
   "cell_type": "code",
   "execution_count": 4,
   "metadata": {},
   "outputs": [],
   "source": [
    "from sklearn.linear_model import LogisticRegression\n",
    "\n",
    "lr = LogisticRegression()"
   ]
  },
  {
   "cell_type": "code",
   "execution_count": 5,
   "metadata": {},
   "outputs": [
    {
     "name": "stdout",
     "output_type": "stream",
     "text": [
      "logloss of each fold is:  [0.48797856 0.53011593 0.4562292  0.422546   0.48392885]\n",
      "mean cv logloss is: 0.47615970944434044\n"
     ]
    },
    {
     "name": "stderr",
     "output_type": "stream",
     "text": [
      "E:\\Anaconda\\envs\\tensorflow-cpu\\lib\\site-packages\\sklearn\\linear_model\\logistic.py:432: FutureWarning: Default solver will be changed to 'lbfgs' in 0.22. Specify a solver to silence this warning.\n",
      "  FutureWarning)\n",
      "E:\\Anaconda\\envs\\tensorflow-cpu\\lib\\site-packages\\sklearn\\linear_model\\logistic.py:432: FutureWarning: Default solver will be changed to 'lbfgs' in 0.22. Specify a solver to silence this warning.\n",
      "  FutureWarning)\n",
      "E:\\Anaconda\\envs\\tensorflow-cpu\\lib\\site-packages\\sklearn\\linear_model\\logistic.py:432: FutureWarning: Default solver will be changed to 'lbfgs' in 0.22. Specify a solver to silence this warning.\n",
      "  FutureWarning)\n",
      "E:\\Anaconda\\envs\\tensorflow-cpu\\lib\\site-packages\\sklearn\\linear_model\\logistic.py:432: FutureWarning: Default solver will be changed to 'lbfgs' in 0.22. Specify a solver to silence this warning.\n",
      "  FutureWarning)\n",
      "E:\\Anaconda\\envs\\tensorflow-cpu\\lib\\site-packages\\sklearn\\linear_model\\logistic.py:432: FutureWarning: Default solver will be changed to 'lbfgs' in 0.22. Specify a solver to silence this warning.\n",
      "  FutureWarning)\n"
     ]
    }
   ],
   "source": [
    "# 交叉验证用于评估模型性能和进行参数调优（模型选择）\n",
    "# 分类任务中交叉验证缺省是采用StratifiedKFold\n",
    "from sklearn.model_selection import cross_val_score\n",
    "\n",
    "loss = cross_val_score(lr, X_train, y_train, cv=5, scoring='neg_log_loss')\n",
    "print('logloss of each fold is: ', -loss)\n",
    "print('mean cv logloss is:', -loss.mean())"
   ]
  },
  {
   "cell_type": "markdown",
   "metadata": {},
   "source": [
    "使用缺省参数的logistic回归模型，即正则函数penalty='l2',正则参数C=1.0\n",
    "\n",
    "使用5折交叉验证来评价模型性能和参数调优，其中评价指标选择neg_log_loss，由于是负数，打印结果进行取反，其中损失值越小越好。"
   ]
  },
  {
   "cell_type": "markdown",
   "metadata": {},
   "source": [
    "### 正则化的 LogisticRegression 及参数调优(GridSearchCV)"
   ]
  },
  {
   "cell_type": "code",
   "execution_count": 6,
   "metadata": {},
   "outputs": [
    {
     "name": "stdout",
     "output_type": "stream",
     "text": [
      "Fitting 5 folds for each of 14 candidates, totalling 70 fits\n"
     ]
    },
    {
     "name": "stderr",
     "output_type": "stream",
     "text": [
      "[Parallel(n_jobs=-1)]: Using backend LokyBackend with 8 concurrent workers.\n",
      "[Parallel(n_jobs=-1)]: Done   2 tasks      | elapsed:    2.3s\n",
      "[Parallel(n_jobs=-1)]: Done  55 out of  70 | elapsed:    2.6s remaining:    0.6s\n",
      "[Parallel(n_jobs=-1)]: Done  70 out of  70 | elapsed:    2.6s remaining:    0.0s\n",
      "[Parallel(n_jobs=-1)]: Done  70 out of  70 | elapsed:    2.6s finished\n"
     ]
    },
    {
     "data": {
      "text/plain": [
       "GridSearchCV(cv=5, error_score='raise-deprecating',\n",
       "             estimator=LogisticRegression(C=1.0, class_weight=None, dual=False,\n",
       "                                          fit_intercept=True,\n",
       "                                          intercept_scaling=1, l1_ratio=None,\n",
       "                                          max_iter=100, multi_class='warn',\n",
       "                                          n_jobs=None, penalty='l2',\n",
       "                                          random_state=None, solver='liblinear',\n",
       "                                          tol=0.0001, verbose=0,\n",
       "                                          warm_start=False),\n",
       "             iid='warn', n_jobs=-1,\n",
       "             param_grid={'C': [0.001, 0.01, 0.1, 1, 10, 100, 1000],\n",
       "                         'penalty': ['l1', 'l2']},\n",
       "             pre_dispatch='2*n_jobs', refit=True, return_train_score=True,\n",
       "             scoring='neg_log_loss', verbose=5)"
      ]
     },
     "execution_count": 6,
     "metadata": {},
     "output_type": "execute_result"
    }
   ],
   "source": [
    "from sklearn.linear_model import LogisticRegression\n",
    "from sklearn.model_selection import GridSearchCV\n",
    "\n",
    "lr = LogisticRegression(solver='liblinear')\n",
    "\n",
    "penaltys = ['l1', 'l2']\n",
    "Cs = [0.001, 0.01, 0.1, 1, 10, 100, 1000]\n",
    "param_grid = dict(penalty = penaltys, C = Cs)\n",
    "\n",
    "grid = GridSearchCV(lr, param_grid, cv=5, scoring='neg_log_loss', n_jobs=-1, verbose=5, return_train_score=True)\n",
    "grid.fit(X_train, y_train)"
   ]
  },
  {
   "cell_type": "code",
   "execution_count": 7,
   "metadata": {},
   "outputs": [
    {
     "data": {
      "text/plain": [
       "0.47602647724350056"
      ]
     },
     "execution_count": 7,
     "metadata": {},
     "output_type": "execute_result"
    }
   ],
   "source": [
    "-grid.best_score_"
   ]
  },
  {
   "cell_type": "code",
   "execution_count": 8,
   "metadata": {},
   "outputs": [
    {
     "data": {
      "text/plain": [
       "{'C': 1, 'penalty': 'l1'}"
      ]
     },
     "execution_count": 8,
     "metadata": {},
     "output_type": "execute_result"
    }
   ],
   "source": [
    "grid.best_params_"
   ]
  },
  {
   "cell_type": "code",
   "execution_count": 9,
   "metadata": {},
   "outputs": [
    {
     "data": {
      "text/plain": [
       "{'mean_fit_time': array([0.00698147, 0.00738082, 0.00598426, 0.00558419, 0.00478668,\n",
       "        0.00478721, 0.00458732, 0.00478768, 0.00398908, 0.00418882,\n",
       "        0.00518565, 0.00558548, 0.00678549, 0.00578351]),\n",
       " 'std_fit_time': array([0.00109262, 0.00079812, 0.0008917 , 0.00079832, 0.00074679,\n",
       "        0.00039935, 0.00048903, 0.00039911, 0.00063098, 0.00074621,\n",
       "        0.00039897, 0.00079807, 0.00171407, 0.00074723]),\n",
       " 'mean_score_time': array([0.00478735, 0.00398889, 0.00398979, 0.00359035, 0.00379024,\n",
       "        0.00299196, 0.00319133, 0.00299158, 0.00319161, 0.00299206,\n",
       "        0.00379019, 0.00458746, 0.00398536, 0.00339122]),\n",
       " 'std_score_time': array([7.46773646e-04, 6.31129378e-04, 6.30902172e-04, 4.88714193e-04,\n",
       "        3.99519162e-04, 7.44843452e-07, 3.99065317e-04, 5.13569337e-07,\n",
       "        7.46824552e-04, 8.91803420e-04, 3.98423267e-04, 1.73989439e-03,\n",
       "        6.30725893e-04, 1.01746735e-03]),\n",
       " 'param_C': masked_array(data=[0.001, 0.001, 0.01, 0.01, 0.1, 0.1, 1, 1, 10, 10, 100,\n",
       "                    100, 1000, 1000],\n",
       "              mask=[False, False, False, False, False, False, False, False,\n",
       "                    False, False, False, False, False, False],\n",
       "        fill_value='?',\n",
       "             dtype=object),\n",
       " 'param_penalty': masked_array(data=['l1', 'l2', 'l1', 'l2', 'l1', 'l2', 'l1', 'l2', 'l1',\n",
       "                    'l2', 'l1', 'l2', 'l1', 'l2'],\n",
       "              mask=[False, False, False, False, False, False, False, False,\n",
       "                    False, False, False, False, False, False],\n",
       "        fill_value='?',\n",
       "             dtype=object),\n",
       " 'params': [{'C': 0.001, 'penalty': 'l1'},\n",
       "  {'C': 0.001, 'penalty': 'l2'},\n",
       "  {'C': 0.01, 'penalty': 'l1'},\n",
       "  {'C': 0.01, 'penalty': 'l2'},\n",
       "  {'C': 0.1, 'penalty': 'l1'},\n",
       "  {'C': 0.1, 'penalty': 'l2'},\n",
       "  {'C': 1, 'penalty': 'l1'},\n",
       "  {'C': 1, 'penalty': 'l2'},\n",
       "  {'C': 10, 'penalty': 'l1'},\n",
       "  {'C': 10, 'penalty': 'l2'},\n",
       "  {'C': 100, 'penalty': 'l1'},\n",
       "  {'C': 100, 'penalty': 'l2'},\n",
       "  {'C': 1000, 'penalty': 'l1'},\n",
       "  {'C': 1000, 'penalty': 'l2'}],\n",
       " 'split0_test_score': array([-0.69314718, -0.62523328, -0.6359066 , -0.51207677, -0.48922346,\n",
       "        -0.48350008, -0.48815663, -0.48797856, -0.48903452, -0.48902949,\n",
       "        -0.48914136, -0.4891444 , -0.48914173, -0.489156  ]),\n",
       " 'split1_test_score': array([-0.69314718, -0.6338686 , -0.64460736, -0.54322757, -0.52488289,\n",
       "        -0.52514943, -0.52916589, -0.53011593, -0.53103132, -0.53113632,\n",
       "        -0.53123427, -0.53124692, -0.53125586, -0.53125807]),\n",
       " 'split2_test_score': array([-0.69314718, -0.62566121, -0.63328109, -0.50673804, -0.45824614,\n",
       "        -0.46048749, -0.45561096, -0.4562292 , -0.45589012, -0.45595951,\n",
       "        -0.45593192, -0.45593526, -0.45593019, -0.45593286]),\n",
       " 'split3_test_score': array([-0.69314718, -0.62087342, -0.63024185, -0.48731256, -0.43336538,\n",
       "        -0.42929827, -0.42238028, -0.422546  , -0.42195613, -0.42197953,\n",
       "        -0.42192218, -0.42192491, -0.42191968, -0.42191947]),\n",
       " 'split4_test_score': array([-0.69314718, -0.63268716, -0.63580105, -0.52538884, -0.48686938,\n",
       "        -0.4853734 , -0.48452546, -0.48392885, -0.4841091 , -0.48408647,\n",
       "        -0.48411026, -0.48410727, -0.4841102 , -0.48410941]),\n",
       " 'mean_test_score': array([-0.69314718, -0.62766704, -0.63597526, -0.51497115, -0.47856537,\n",
       "        -0.47681232, -0.47602648, -0.4762194 , -0.4764651 , -0.47649922,\n",
       "        -0.47652907, -0.47653284, -0.47653261, -0.47653626]),\n",
       " 'std_test_score': array([1.11022302e-16, 4.89097299e-03, 4.79089060e-03, 1.86921266e-02,\n",
       "        3.09272781e-02, 3.15479636e-02, 3.55954410e-02, 3.57224624e-02,\n",
       "        3.62929316e-02, 3.63084245e-02, 3.63670138e-02, 3.63697206e-02,\n",
       "        3.63744929e-02, 3.63758791e-02]),\n",
       " 'rank_test_score': array([14, 12, 13, 11, 10,  9,  1,  2,  3,  4,  5,  7,  6,  8]),\n",
       " 'split0_train_score': array([-0.69314718, -0.62745539, -0.63279271, -0.50890565, -0.46651475,\n",
       "        -0.46237618, -0.45927693, -0.45918946, -0.4591377 , -0.45913682,\n",
       "        -0.45913626, -0.45913625, -0.45913625, -0.45913624]),\n",
       " 'split1_train_score': array([-0.69314718, -0.6232271 , -0.62102867, -0.50035915, -0.45841834,\n",
       "        -0.45417418, -0.45114258, -0.45108423, -0.45103429, -0.4510337 ,\n",
       "        -0.45103316, -0.45103316, -0.45103315, -0.45103315]),\n",
       " 'split2_train_score': array([-0.69314718, -0.62777054, -0.64122227, -0.5128013 , -0.47459887,\n",
       "        -0.46996298, -0.46735806, -0.46727381, -0.46723247, -0.46723158,\n",
       "        -0.46723114, -0.46723113, -0.46723113, -0.46723113]),\n",
       " 'split3_train_score': array([-0.69314718, -0.6300762 , -0.64391789, -0.5193933 , -0.48292778,\n",
       "        -0.47815891, -0.47566805, -0.47558312, -0.47554384, -0.47554298,\n",
       "        -0.47554256, -0.47554255, -0.47554255, -0.47554255]),\n",
       " 'split4_train_score': array([-0.69314718, -0.62408812, -0.63418802, -0.50711554, -0.46694484,\n",
       "        -0.46359351, -0.46084077, -0.4607505 , -0.46070618, -0.46070497,\n",
       "        -0.4607045 , -0.46070449, -0.46070448, -0.46070448]),\n",
       " 'mean_train_score': array([-0.69314718, -0.62652347, -0.63462991, -0.50971499, -0.46988092,\n",
       "        -0.46565315, -0.46285728, -0.46277622, -0.4627309 , -0.46273001,\n",
       "        -0.46272953, -0.46272951, -0.46272951, -0.46272951]),\n",
       " 'std_train_score': array([0.        , 0.00252359, 0.0079786 , 0.00629506, 0.00829243,\n",
       "        0.00802142, 0.0082279 , 0.0082209 , 0.00822505, 0.00822498,\n",
       "        0.00822503, 0.00822503, 0.00822503, 0.00822503])}"
      ]
     },
     "execution_count": 9,
     "metadata": {},
     "output_type": "execute_result"
    }
   ],
   "source": [
    "grid.cv_results_"
   ]
  },
  {
   "cell_type": "code",
   "execution_count": 13,
   "metadata": {},
   "outputs": [
    {
     "name": "stdout",
     "output_type": "stream",
     "text": [
      "(1, 8)\n"
     ]
    },
    {
     "data": {
      "text/plain": [
       "array([[ 0.40973524,  1.12850865, -0.092959  ,  0.02480787, -0.08407341,\n",
       "         0.62914384,  0.27934245,  0.14370693]])"
      ]
     },
     "execution_count": 13,
     "metadata": {},
     "output_type": "execute_result"
    }
   ],
   "source": [
    "print(grid.best_estimator_.coef_.shape)\n",
    "grid.best_estimator_.coef_"
   ]
  },
  {
   "cell_type": "code",
   "execution_count": 11,
   "metadata": {},
   "outputs": [
    {
     "data": {
      "text/html": [
       "<div>\n",
       "<style scoped>\n",
       "    .dataframe tbody tr th:only-of-type {\n",
       "        vertical-align: middle;\n",
       "    }\n",
       "\n",
       "    .dataframe tbody tr th {\n",
       "        vertical-align: top;\n",
       "    }\n",
       "\n",
       "    .dataframe thead th {\n",
       "        text-align: right;\n",
       "    }\n",
       "</style>\n",
       "<table border=\"1\" class=\"dataframe\">\n",
       "  <thead>\n",
       "    <tr style=\"text-align: right;\">\n",
       "      <th></th>\n",
       "      <th>columns</th>\n",
       "      <th>coeffient</th>\n",
       "    </tr>\n",
       "  </thead>\n",
       "  <tbody>\n",
       "    <tr>\n",
       "      <td>1</td>\n",
       "      <td>Plasma_glucose_concentration</td>\n",
       "      <td>[1.1285086515671077]</td>\n",
       "    </tr>\n",
       "    <tr>\n",
       "      <td>5</td>\n",
       "      <td>BMI</td>\n",
       "      <td>[0.6291438439023241]</td>\n",
       "    </tr>\n",
       "    <tr>\n",
       "      <td>0</td>\n",
       "      <td>pregnants</td>\n",
       "      <td>[0.4097352404249829]</td>\n",
       "    </tr>\n",
       "    <tr>\n",
       "      <td>6</td>\n",
       "      <td>Diabetes_pedigree_function</td>\n",
       "      <td>[0.27934244764937954]</td>\n",
       "    </tr>\n",
       "    <tr>\n",
       "      <td>7</td>\n",
       "      <td>Age</td>\n",
       "      <td>[0.1437069324182344]</td>\n",
       "    </tr>\n",
       "    <tr>\n",
       "      <td>3</td>\n",
       "      <td>Triceps_skin_fold_thickness</td>\n",
       "      <td>[0.024807871576962192]</td>\n",
       "    </tr>\n",
       "    <tr>\n",
       "      <td>4</td>\n",
       "      <td>serum_insulin</td>\n",
       "      <td>[-0.084073412553612]</td>\n",
       "    </tr>\n",
       "    <tr>\n",
       "      <td>2</td>\n",
       "      <td>blood_pressure</td>\n",
       "      <td>[-0.09295899702699302]</td>\n",
       "    </tr>\n",
       "  </tbody>\n",
       "</table>\n",
       "</div>"
      ],
      "text/plain": [
       "                        columns               coeffient\n",
       "1  Plasma_glucose_concentration    [1.1285086515671077]\n",
       "5                           BMI    [0.6291438439023241]\n",
       "0                     pregnants    [0.4097352404249829]\n",
       "6    Diabetes_pedigree_function   [0.27934244764937954]\n",
       "7                           Age    [0.1437069324182344]\n",
       "3   Triceps_skin_fold_thickness  [0.024807871576962192]\n",
       "4                 serum_insulin    [-0.084073412553612]\n",
       "2                blood_pressure  [-0.09295899702699302]"
      ]
     },
     "execution_count": 11,
     "metadata": {},
     "output_type": "execute_result"
    }
   ],
   "source": [
    "df = pd.DataFrame({'columns':list(feat_names), 'coeffient':list(grid.best_estimator_.coef_.T)})\n",
    "df.sort_values(by=['coeffient'], ascending=False)"
   ]
  },
  {
   "cell_type": "code",
   "execution_count": 14,
   "metadata": {},
   "outputs": [],
   "source": [
    "# plot CV误差曲线\n",
    "test_means = grid.cv_results_['mean_test_score']\n",
    "test_stds = grid.cv_results_['std_test_score']\n",
    "train_means = grid.cv_results_['mean_train_score']\n",
    "train_stds = grid.cv_results_['std_train_score']\n",
    "\n",
    "# plot results\n",
    "n_Cs = len(Cs)\n",
    "number_penaltys = len(penaltys)\n",
    "\n",
    "test_scores = test_means.reshape(n_Cs, number_penaltys)\n",
    "train_scores = train_means.reshape(n_Cs, number_penaltys)\n",
    "test_stds = test_stds.reshape(n_Cs, number_penaltys)\n",
    "train_stds = train_stds.reshape(n_Cs, number_penaltys)"
   ]
  },
  {
   "cell_type": "code",
   "execution_count": 16,
   "metadata": {},
   "outputs": [
    {
     "data": {
      "image/png": "[encoded data removed]",
      "text/plain": [
       "<Figure size 864x648 with 1 Axes>"
      ]
     },
     "metadata": {
      "needs_background": "light"
     },
     "output_type": "display_data"
    }
   ],
   "source": [
    "plt.figure(figsize=(12, 9))\n",
    "\n",
    "x_axis = np.log10(Cs)\n",
    "for i, value in enumerate(penaltys):\n",
    "#     plt.plot(x_axis, -test_scores[:, i], label= str(value) + 'Test')\n",
    "#     plt.plot(x_axis, -train_scores[:, i], label= str(value) + 'Train')\n",
    "    plt.errorbar(x_axis, -test_scores[:, i], yerr=test_stds[:, i], label = penaltys[i] + 'Test')\n",
    "    plt.errorbar(x_axis, -train_scores[:, i], yerr=train_stds[:, i], label = penaltys[i] + 'Train')\n",
    "\n",
    "plt.legend()\n",
    "plt.xlabel('log(C)')                                                                                                      \n",
    "plt.ylabel('logloss')\n",
    "plt.show()"
   ]
  },
  {
   "cell_type": "markdown",
   "metadata": {},
   "source": [
    "### 换正确率做评价指标"
   ]
  },
  {
   "cell_type": "code",
   "execution_count": 17,
   "metadata": {},
   "outputs": [
    {
     "name": "stdout",
     "output_type": "stream",
     "text": [
      "Fitting 5 folds for each of 14 candidates, totalling 70 fits\n"
     ]
    },
    {
     "name": "stderr",
     "output_type": "stream",
     "text": [
      "[Parallel(n_jobs=-1)]: Using backend LokyBackend with 8 concurrent workers.\n",
      "[Parallel(n_jobs=-1)]: Done   2 tasks      | elapsed:    0.0s\n",
      "[Parallel(n_jobs=-1)]: Done  40 out of  70 | elapsed:    0.1s remaining:    0.1s\n",
      "[Parallel(n_jobs=-1)]: Done  70 out of  70 | elapsed:    0.2s remaining:    0.0s\n",
      "[Parallel(n_jobs=-1)]: Done  70 out of  70 | elapsed:    0.2s finished\n"
     ]
    },
    {
     "data": {
      "text/plain": [
       "GridSearchCV(cv=5, error_score='raise-deprecating',\n",
       "             estimator=LogisticRegression(C=1.0, class_weight=None, dual=False,\n",
       "                                          fit_intercept=True,\n",
       "                                          intercept_scaling=1, l1_ratio=None,\n",
       "                                          max_iter=100, multi_class='warn',\n",
       "                                          n_jobs=None, penalty='l2',\n",
       "                                          random_state=None, solver='liblinear',\n",
       "                                          tol=0.0001, verbose=0,\n",
       "                                          warm_start=False),\n",
       "             iid='warn', n_jobs=-1,\n",
       "             param_grid={'C': [0.001, 0.01, 0.1, 1, 10, 100, 1000],\n",
       "                         'penalty': ['l1', 'l2']},\n",
       "             pre_dispatch='2*n_jobs', refit=True, return_train_score=True,\n",
       "             scoring=None, verbose=5)"
      ]
     },
     "execution_count": 17,
     "metadata": {},
     "output_type": "execute_result"
    }
   ],
   "source": [
    "from sklearn.linear_model import LogisticRegression\n",
    "from sklearn.model_selection import GridSearchCV\n",
    "\n",
    "lr = LogisticRegression(solver='liblinear')\n",
    "\n",
    "penaltys = ['l1', 'l2']\n",
    "Cs = [0.001, 0.01, 0.1, 1, 10, 100, 1000]\n",
    "param_grid = dict(penalty = penaltys, C = Cs)\n",
    "\n",
    "grid = GridSearchCV(lr, param_grid, cv=5, n_jobs=-1, verbose=5, return_train_score=True)  # 缺省scoring为正确率\n",
    "grid.fit(X_train, y_train)"
   ]
  },
  {
   "cell_type": "code",
   "execution_count": 18,
   "metadata": {},
   "outputs": [
    {
     "data": {
      "text/plain": [
       "0.7747395833333334"
      ]
     },
     "execution_count": 18,
     "metadata": {},
     "output_type": "execute_result"
    }
   ],
   "source": [
    "grid.best_score_"
   ]
  },
  {
   "cell_type": "code",
   "execution_count": 19,
   "metadata": {},
   "outputs": [
    {
     "data": {
      "text/plain": [
       "{'C': 0.1, 'penalty': 'l2'}"
      ]
     },
     "execution_count": 19,
     "metadata": {},
     "output_type": "execute_result"
    }
   ],
   "source": [
    "grid.best_params_"
   ]
  },
  {
   "cell_type": "code",
   "execution_count": 20,
   "metadata": {},
   "outputs": [
    {
     "data": {
      "text/plain": [
       "{'mean_fit_time': array([0.00437388, 0.00578561, 0.00478859, 0.00579209, 0.00458851,\n",
       "        0.00498619, 0.00618386, 0.00738072, 0.00578518, 0.00618315,\n",
       "        0.00578504, 0.00658245, 0.00638328, 0.00558519]),\n",
       " 'std_fit_time': array([0.0008055 , 0.00074703, 0.00039933, 0.0026287 , 0.00048834,\n",
       "        0.00109293, 0.00239348, 0.00223946, 0.00074577, 0.00074693,\n",
       "        0.00074617, 0.00079796, 0.0007983 , 0.00149312]),\n",
       " 'mean_score_time': array([0.00199466, 0.00259275, 0.00219364, 0.00159507, 0.00179462,\n",
       "        0.00239382, 0.00219445, 0.00239334, 0.0025929 , 0.00339112,\n",
       "        0.0019949 , 0.00259352, 0.00199442, 0.00259314]),\n",
       " 'std_score_time': array([4.10190833e-07, 4.88383904e-04, 3.99259668e-04, 4.88461902e-04,\n",
       "        3.98541153e-04, 4.88052245e-04, 3.98971089e-04, 4.88246850e-04,\n",
       "        1.19740965e-03, 2.32614801e-03, 4.10190833e-07, 4.88616644e-04,\n",
       "        6.31128185e-04, 1.35288771e-03]),\n",
       " 'param_C': masked_array(data=[0.001, 0.001, 0.01, 0.01, 0.1, 0.1, 1, 1, 10, 10, 100,\n",
       "                    100, 1000, 1000],\n",
       "              mask=[False, False, False, False, False, False, False, False,\n",
       "                    False, False, False, False, False, False],\n",
       "        fill_value='?',\n",
       "             dtype=object),\n",
       " 'param_penalty': masked_array(data=['l1', 'l2', 'l1', 'l2', 'l1', 'l2', 'l1', 'l2', 'l1',\n",
       "                    'l2', 'l1', 'l2', 'l1', 'l2'],\n",
       "              mask=[False, False, False, False, False, False, False, False,\n",
       "                    False, False, False, False, False, False],\n",
       "        fill_value='?',\n",
       "             dtype=object),\n",
       " 'params': [{'C': 0.001, 'penalty': 'l1'},\n",
       "  {'C': 0.001, 'penalty': 'l2'},\n",
       "  {'C': 0.01, 'penalty': 'l1'},\n",
       "  {'C': 0.01, 'penalty': 'l2'},\n",
       "  {'C': 0.1, 'penalty': 'l1'},\n",
       "  {'C': 0.1, 'penalty': 'l2'},\n",
       "  {'C': 1, 'penalty': 'l1'},\n",
       "  {'C': 1, 'penalty': 'l2'},\n",
       "  {'C': 10, 'penalty': 'l1'},\n",
       "  {'C': 10, 'penalty': 'l2'},\n",
       "  {'C': 100, 'penalty': 'l1'},\n",
       "  {'C': 100, 'penalty': 'l2'},\n",
       "  {'C': 1000, 'penalty': 'l1'},\n",
       "  {'C': 1000, 'penalty': 'l2'}],\n",
       " 'split0_test_score': array([0.64935065, 0.73376623, 0.68181818, 0.75324675, 0.75974026,\n",
       "        0.76623377, 0.75974026, 0.75974026, 0.75974026, 0.75974026,\n",
       "        0.75974026, 0.75974026, 0.75974026, 0.75974026]),\n",
       " 'split1_test_score': array([0.64935065, 0.71428571, 0.68181818, 0.70779221, 0.74025974,\n",
       "        0.74675325, 0.74675325, 0.74025974, 0.74025974, 0.74025974,\n",
       "        0.74025974, 0.74025974, 0.74025974, 0.74025974]),\n",
       " 'split2_test_score': array([0.64935065, 0.75324675, 0.73376623, 0.77272727, 0.77272727,\n",
       "        0.79220779, 0.78571429, 0.78571429, 0.78571429, 0.78571429,\n",
       "        0.78571429, 0.78571429, 0.78571429, 0.78571429]),\n",
       " 'split3_test_score': array([0.65359477, 0.78431373, 0.7254902 , 0.80392157, 0.78431373,\n",
       "        0.79738562, 0.79738562, 0.79738562, 0.79738562, 0.79738562,\n",
       "        0.79738562, 0.79738562, 0.79738562, 0.79738562]),\n",
       " 'split4_test_score': array([0.65359477, 0.75163399, 0.7124183 , 0.77124183, 0.75816993,\n",
       "        0.77124183, 0.77124183, 0.77124183, 0.77124183, 0.77124183,\n",
       "        0.77124183, 0.77124183, 0.77124183, 0.77124183]),\n",
       " 'mean_test_score': array([0.65104167, 0.74739583, 0.70703125, 0.76171875, 0.76302083,\n",
       "        0.77473958, 0.77213542, 0.77083333, 0.77083333, 0.77083333,\n",
       "        0.77083333, 0.77083333, 0.77083333, 0.77083333]),\n",
       " 'std_test_score': array([0.00207782, 0.02321726, 0.02172389, 0.03153907, 0.01483053,\n",
       "        0.01836721, 0.01800398, 0.01992491, 0.01992491, 0.01992491,\n",
       "        0.01992491, 0.01992491, 0.01992491, 0.01992491]),\n",
       " 'rank_test_score': array([14, 12, 13, 11, 10,  1,  2,  3,  3,  3,  3,  3,  3,  3]),\n",
       " 'split0_train_score': array([0.6514658 , 0.75081433, 0.71335505, 0.76710098, 0.76547231,\n",
       "        0.77035831, 0.77035831, 0.77198697, 0.77361564, 0.77361564,\n",
       "        0.77361564, 0.77361564, 0.77361564, 0.77361564]),\n",
       " 'split1_train_score': array([0.6514658 , 0.75732899, 0.71335505, 0.77361564, 0.7752443 ,\n",
       "        0.78338762, 0.77850163, 0.77850163, 0.77850163, 0.77850163,\n",
       "        0.77850163, 0.77850163, 0.77850163, 0.77850163]),\n",
       " 'split2_train_score': array([0.6514658 , 0.74592834, 0.70032573, 0.76058632, 0.77361564,\n",
       "        0.77035831, 0.7752443 , 0.77198697, 0.7752443 , 0.77361564,\n",
       "        0.77361564, 0.77361564, 0.77361564, 0.77361564]),\n",
       " 'split3_train_score': array([0.6504065 , 0.73333333, 0.70243902, 0.75609756, 0.75934959,\n",
       "        0.76422764, 0.76747967, 0.76747967, 0.76747967, 0.76747967,\n",
       "        0.76747967, 0.76747967, 0.76747967, 0.76747967]),\n",
       " 'split4_train_score': array([0.6504065 , 0.74634146, 0.70569106, 0.76260163, 0.77560976,\n",
       "        0.77723577, 0.78211382, 0.77886179, 0.77886179, 0.77886179,\n",
       "        0.77886179, 0.77886179, 0.77886179, 0.77886179]),\n",
       " 'mean_train_score': array([0.65104208, 0.74674929, 0.70703318, 0.76400042, 0.76985832,\n",
       "        0.77311353, 0.77473955, 0.77376341, 0.77474061, 0.77441487,\n",
       "        0.77441487, 0.77441487, 0.77441487, 0.77441487]),\n",
       " 'std_train_score': array([0.00051895, 0.00786489, 0.00543745, 0.00596881, 0.00641678,\n",
       "        0.00658318, 0.00530451, 0.00434145, 0.00413207, 0.0041437 ,\n",
       "        0.0041437 , 0.0041437 , 0.0041437 , 0.0041437 ])}"
      ]
     },
     "execution_count": 20,
     "metadata": {},
     "output_type": "execute_result"
    }
   ],
   "source": [
    "grid.cv_results_"
   ]
  },
  {
   "cell_type": "code",
   "execution_count": 21,
   "metadata": {},
   "outputs": [
    {
     "data": {
      "text/html": [
       "<div>\n",
       "<style scoped>\n",
       "    .dataframe tbody tr th:only-of-type {\n",
       "        vertical-align: middle;\n",
       "    }\n",
       "\n",
       "    .dataframe tbody tr th {\n",
       "        vertical-align: top;\n",
       "    }\n",
       "\n",
       "    .dataframe thead th {\n",
       "        text-align: right;\n",
       "    }\n",
       "</style>\n",
       "<table border=\"1\" class=\"dataframe\">\n",
       "  <thead>\n",
       "    <tr style=\"text-align: right;\">\n",
       "      <th></th>\n",
       "      <th>columns</th>\n",
       "      <th>coeffient</th>\n",
       "    </tr>\n",
       "  </thead>\n",
       "  <tbody>\n",
       "    <tr>\n",
       "      <td>1</td>\n",
       "      <td>Plasma_glucose_concentration</td>\n",
       "      <td>[0.9977309169127753]</td>\n",
       "    </tr>\n",
       "    <tr>\n",
       "      <td>5</td>\n",
       "      <td>BMI</td>\n",
       "      <td>[0.5460044910698728]</td>\n",
       "    </tr>\n",
       "    <tr>\n",
       "      <td>0</td>\n",
       "      <td>pregnants</td>\n",
       "      <td>[0.3616713513905088]</td>\n",
       "    </tr>\n",
       "    <tr>\n",
       "      <td>6</td>\n",
       "      <td>Diabetes_pedigree_function</td>\n",
       "      <td>[0.2599038326076921]</td>\n",
       "    </tr>\n",
       "    <tr>\n",
       "      <td>7</td>\n",
       "      <td>Age</td>\n",
       "      <td>[0.1554435734114967]</td>\n",
       "    </tr>\n",
       "    <tr>\n",
       "      <td>3</td>\n",
       "      <td>Triceps_skin_fold_thickness</td>\n",
       "      <td>[0.05966520979020303]</td>\n",
       "    </tr>\n",
       "    <tr>\n",
       "      <td>4</td>\n",
       "      <td>serum_insulin</td>\n",
       "      <td>[-0.04513553103768548]</td>\n",
       "    </tr>\n",
       "    <tr>\n",
       "      <td>2</td>\n",
       "      <td>blood_pressure</td>\n",
       "      <td>[-0.0648660966137046]</td>\n",
       "    </tr>\n",
       "  </tbody>\n",
       "</table>\n",
       "</div>"
      ],
      "text/plain": [
       "                        columns               coeffient\n",
       "1  Plasma_glucose_concentration    [0.9977309169127753]\n",
       "5                           BMI    [0.5460044910698728]\n",
       "0                     pregnants    [0.3616713513905088]\n",
       "6    Diabetes_pedigree_function    [0.2599038326076921]\n",
       "7                           Age    [0.1554435734114967]\n",
       "3   Triceps_skin_fold_thickness   [0.05966520979020303]\n",
       "4                 serum_insulin  [-0.04513553103768548]\n",
       "2                blood_pressure   [-0.0648660966137046]"
      ]
     },
     "execution_count": 21,
     "metadata": {},
     "output_type": "execute_result"
    }
   ],
   "source": [
    "df = pd.DataFrame({'columns':list(feat_names), 'coeffient':list(grid.best_estimator_.coef_.T)})\n",
    "df.sort_values(by=['coeffient'], ascending=False)"
   ]
  },
  {
   "cell_type": "code",
   "execution_count": 23,
   "metadata": {},
   "outputs": [
    {
     "data": {
      "image/png": "[encoded data removed]",
      "text/plain": [
       "<Figure size 864x648 with 1 Axes>"
      ]
     },
     "metadata": {
      "needs_background": "light"
     },
     "output_type": "display_data"
    }
   ],
   "source": [
    "# plot CV误差曲线\n",
    "test_means = grid.cv_results_['mean_test_score']\n",
    "test_stds = grid.cv_results_['std_test_score']\n",
    "train_means = grid.cv_results_['mean_train_score']\n",
    "train_stds = grid.cv_results_['std_train_score']\n",
    "\n",
    "# plot results\n",
    "n_Cs = len(Cs)\n",
    "number_penaltys = len(penaltys)\n",
    "\n",
    "test_scores = test_means.reshape(n_Cs, number_penaltys)\n",
    "train_scores = train_means.reshape(n_Cs, number_penaltys)\n",
    "test_stds = test_stds.reshape(n_Cs, number_penaltys)\n",
    "train_stds = train_stds.reshape(n_Cs, number_penaltys)\n",
    "\n",
    "plt.figure(figsize=(12, 9))\n",
    "\n",
    "x_axis = np.log10(Cs)\n",
    "for i, value in enumerate(penaltys):\n",
    "#     plt.plot(x_axis, test_scores[:, i], label= str(value) + 'Test')\n",
    "#     plt.plot(x_axis, train_scores[:, i], label= str(value) + 'Train')\n",
    "    plt.errorbar(x_axis, test_scores[:, i], yerr=test_stds[:, i], label = penaltys[i] + 'Test')\n",
    "    #plt.errorbar(x_axis, train_scores[:, i], yerr=train_stds[:, i], label = penaltys[i] + 'Train')\n",
    "\n",
    "plt.legend()\n",
    "plt.xlabel('log(C)')                                                                                                      \n",
    "plt.ylabel('accurary')\n",
    "plt.show()"
   ]
  }
 ],
 "metadata": {
  "kernelspec": {
   "display_name": "Python 3",
   "language": "python",
   "name": "python3"
  },
  "language_info": {
   "codemirror_mode": {
    "name": "ipython",
    "version": 3
   },
   "file_extension": ".py",
   "mimetype": "text/x-python",
   "name": "python",
   "nbconvert_exporter": "python",
   "pygments_lexer": "ipython3",
   "version": "3.6.9"
  }
 },
 "nbformat": 4,
 "nbformat_minor": 4
}
