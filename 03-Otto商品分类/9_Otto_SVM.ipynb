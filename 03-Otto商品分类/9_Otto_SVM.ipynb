{
 "cells": [
  {
   "cell_type": "markdown",
   "metadata": {},
   "source": [
    "# Otto商品分类——SVM"
   ]
  },
  {
   "cell_type": "code",
   "execution_count": 24,
   "metadata": {},
   "outputs": [],
   "source": [
    "import numpy as np\n",
    "import pandas as pd\n",
    "import matplotlib.pyplot as plt\n",
    "\n",
    "from sklearn.svm import LinearSVC, SVC\n",
    "from sklearn.metrics import accuracy_score, confusion_matrix, classification_report\n",
    "from sklearn.model_selection import train_test_split, cross_val_score, GridSearchCV"
   ]
  },
  {
   "cell_type": "code",
   "execution_count": 25,
   "metadata": {},
   "outputs": [
    {
     "data": {
      "text/html": [
       "<div>\n",
       "<style scoped>\n",
       "    .dataframe tbody tr th:only-of-type {\n",
       "        vertical-align: middle;\n",
       "    }\n",
       "\n",
       "    .dataframe tbody tr th {\n",
       "        vertical-align: top;\n",
       "    }\n",
       "\n",
       "    .dataframe thead th {\n",
       "        text-align: right;\n",
       "    }\n",
       "</style>\n",
       "<table border=\"1\" class=\"dataframe\">\n",
       "  <thead>\n",
       "    <tr style=\"text-align: right;\">\n",
       "      <th></th>\n",
       "      <th>id</th>\n",
       "      <th>feat_1</th>\n",
       "      <th>feat_2</th>\n",
       "      <th>feat_3</th>\n",
       "      <th>feat_4</th>\n",
       "      <th>feat_5</th>\n",
       "      <th>feat_6</th>\n",
       "      <th>feat_7</th>\n",
       "      <th>feat_8</th>\n",
       "      <th>feat_9</th>\n",
       "      <th>...</th>\n",
       "      <th>feat_84_tfidf</th>\n",
       "      <th>feat_85_tfidf</th>\n",
       "      <th>feat_86_tfidf</th>\n",
       "      <th>feat_87_tfidf</th>\n",
       "      <th>feat_88_tfidf</th>\n",
       "      <th>feat_89_tfidf</th>\n",
       "      <th>feat_90_tfidf</th>\n",
       "      <th>feat_91_tfidf</th>\n",
       "      <th>feat_92_tfidf</th>\n",
       "      <th>feat_93_tfidf</th>\n",
       "    </tr>\n",
       "  </thead>\n",
       "  <tbody>\n",
       "    <tr>\n",
       "      <th>0</th>\n",
       "      <td>1</td>\n",
       "      <td>0.016393</td>\n",
       "      <td>0.0</td>\n",
       "      <td>0.0</td>\n",
       "      <td>0.000000</td>\n",
       "      <td>0.000000</td>\n",
       "      <td>0.0</td>\n",
       "      <td>0.000000</td>\n",
       "      <td>0.000000</td>\n",
       "      <td>0.0</td>\n",
       "      <td>...</td>\n",
       "      <td>0.000000</td>\n",
       "      <td>0.075886</td>\n",
       "      <td>0.000000</td>\n",
       "      <td>0.000000</td>\n",
       "      <td>0.0</td>\n",
       "      <td>0.0</td>\n",
       "      <td>0.000000</td>\n",
       "      <td>0.0</td>\n",
       "      <td>0.0</td>\n",
       "      <td>0.0</td>\n",
       "    </tr>\n",
       "    <tr>\n",
       "      <th>1</th>\n",
       "      <td>2</td>\n",
       "      <td>0.000000</td>\n",
       "      <td>0.0</td>\n",
       "      <td>0.0</td>\n",
       "      <td>0.000000</td>\n",
       "      <td>0.000000</td>\n",
       "      <td>0.0</td>\n",
       "      <td>0.000000</td>\n",
       "      <td>0.013158</td>\n",
       "      <td>0.0</td>\n",
       "      <td>...</td>\n",
       "      <td>0.000000</td>\n",
       "      <td>0.000000</td>\n",
       "      <td>0.000000</td>\n",
       "      <td>0.000000</td>\n",
       "      <td>0.0</td>\n",
       "      <td>0.0</td>\n",
       "      <td>0.000000</td>\n",
       "      <td>0.0</td>\n",
       "      <td>0.0</td>\n",
       "      <td>0.0</td>\n",
       "    </tr>\n",
       "    <tr>\n",
       "      <th>2</th>\n",
       "      <td>3</td>\n",
       "      <td>0.000000</td>\n",
       "      <td>0.0</td>\n",
       "      <td>0.0</td>\n",
       "      <td>0.000000</td>\n",
       "      <td>0.000000</td>\n",
       "      <td>0.0</td>\n",
       "      <td>0.000000</td>\n",
       "      <td>0.013158</td>\n",
       "      <td>0.0</td>\n",
       "      <td>...</td>\n",
       "      <td>0.000000</td>\n",
       "      <td>0.000000</td>\n",
       "      <td>0.000000</td>\n",
       "      <td>0.000000</td>\n",
       "      <td>0.0</td>\n",
       "      <td>0.0</td>\n",
       "      <td>0.000000</td>\n",
       "      <td>0.0</td>\n",
       "      <td>0.0</td>\n",
       "      <td>0.0</td>\n",
       "    </tr>\n",
       "    <tr>\n",
       "      <th>3</th>\n",
       "      <td>4</td>\n",
       "      <td>0.016393</td>\n",
       "      <td>0.0</td>\n",
       "      <td>0.0</td>\n",
       "      <td>0.014286</td>\n",
       "      <td>0.315789</td>\n",
       "      <td>0.1</td>\n",
       "      <td>0.131579</td>\n",
       "      <td>0.000000</td>\n",
       "      <td>0.0</td>\n",
       "      <td>...</td>\n",
       "      <td>0.460983</td>\n",
       "      <td>0.000000</td>\n",
       "      <td>0.008244</td>\n",
       "      <td>0.022456</td>\n",
       "      <td>0.0</td>\n",
       "      <td>0.0</td>\n",
       "      <td>0.000000</td>\n",
       "      <td>0.0</td>\n",
       "      <td>0.0</td>\n",
       "      <td>0.0</td>\n",
       "    </tr>\n",
       "    <tr>\n",
       "      <th>4</th>\n",
       "      <td>5</td>\n",
       "      <td>0.000000</td>\n",
       "      <td>0.0</td>\n",
       "      <td>0.0</td>\n",
       "      <td>0.000000</td>\n",
       "      <td>0.000000</td>\n",
       "      <td>0.0</td>\n",
       "      <td>0.000000</td>\n",
       "      <td>0.000000</td>\n",
       "      <td>0.0</td>\n",
       "      <td>...</td>\n",
       "      <td>0.000000</td>\n",
       "      <td>0.124622</td>\n",
       "      <td>0.000000</td>\n",
       "      <td>0.000000</td>\n",
       "      <td>0.0</td>\n",
       "      <td>0.0</td>\n",
       "      <td>0.145988</td>\n",
       "      <td>0.0</td>\n",
       "      <td>0.0</td>\n",
       "      <td>0.0</td>\n",
       "    </tr>\n",
       "  </tbody>\n",
       "</table>\n",
       "<p>5 rows × 188 columns</p>\n",
       "</div>"
      ],
      "text/plain": [
       "   id    feat_1  feat_2  feat_3    feat_4    feat_5  feat_6    feat_7  \\\n",
       "0   1  0.016393     0.0     0.0  0.000000  0.000000     0.0  0.000000   \n",
       "1   2  0.000000     0.0     0.0  0.000000  0.000000     0.0  0.000000   \n",
       "2   3  0.000000     0.0     0.0  0.000000  0.000000     0.0  0.000000   \n",
       "3   4  0.016393     0.0     0.0  0.014286  0.315789     0.1  0.131579   \n",
       "4   5  0.000000     0.0     0.0  0.000000  0.000000     0.0  0.000000   \n",
       "\n",
       "     feat_8  feat_9      ...        feat_84_tfidf  feat_85_tfidf  \\\n",
       "0  0.000000     0.0      ...             0.000000       0.075886   \n",
       "1  0.013158     0.0      ...             0.000000       0.000000   \n",
       "2  0.013158     0.0      ...             0.000000       0.000000   \n",
       "3  0.000000     0.0      ...             0.460983       0.000000   \n",
       "4  0.000000     0.0      ...             0.000000       0.124622   \n",
       "\n",
       "   feat_86_tfidf  feat_87_tfidf  feat_88_tfidf  feat_89_tfidf  feat_90_tfidf  \\\n",
       "0       0.000000       0.000000            0.0            0.0       0.000000   \n",
       "1       0.000000       0.000000            0.0            0.0       0.000000   \n",
       "2       0.000000       0.000000            0.0            0.0       0.000000   \n",
       "3       0.008244       0.022456            0.0            0.0       0.000000   \n",
       "4       0.000000       0.000000            0.0            0.0       0.145988   \n",
       "\n",
       "   feat_91_tfidf  feat_92_tfidf  feat_93_tfidf  \n",
       "0            0.0            0.0            0.0  \n",
       "1            0.0            0.0            0.0  \n",
       "2            0.0            0.0            0.0  \n",
       "3            0.0            0.0            0.0  \n",
       "4            0.0            0.0            0.0  \n",
       "\n",
       "[5 rows x 188 columns]"
      ]
     },
     "execution_count": 25,
     "metadata": {},
     "output_type": "execute_result"
    }
   ],
   "source": [
    "train1 = pd.read_csv('Otto_FE_train_org.csv')\n",
    "train2 = pd.read_csv(\"Otto_FE_train_tfidf.csv\")\n",
    "\n",
    "train2 = train2.drop(['id', 'target'], axis=1)\n",
    "\n",
    "train = pd.concat([train1, train2], axis=1)\n",
    "train.head()"
   ]
  },
  {
   "cell_type": "code",
   "execution_count": 26,
   "metadata": {},
   "outputs": [],
   "source": [
    "del train1\n",
    "del train2"
   ]
  },
  {
   "cell_type": "code",
   "execution_count": 27,
   "metadata": {},
   "outputs": [
    {
     "name": "stdout",
     "output_type": "stream",
     "text": [
      "<class 'pandas.core.frame.DataFrame'>\n",
      "RangeIndex: 61878 entries, 0 to 61877\n",
      "Columns: 188 entries, id to feat_93_tfidf\n",
      "dtypes: float64(186), int64(1), object(1)\n",
      "memory usage: 88.8+ MB\n"
     ]
    }
   ],
   "source": [
    "train.info()"
   ]
  },
  {
   "cell_type": "code",
   "execution_count": 28,
   "metadata": {},
   "outputs": [],
   "source": [
    "# train = train.sample(n=15000, random_state=66, axis=0)  # pandas.DataFrame.sample 随机选取若干行\n",
    "\n",
    "# y = train['target']\n",
    "# X = train.drop(['id', 'target'], axis=1)\n",
    "\n",
    "# feat_names = X.columns\n",
    "\n",
    "# from scipy.sparse import csr_matrix\n",
    "\n",
    "# X = csr_matrix(X)\n",
    "\n",
    "# X_train, X_val, y_train, y_val = train_test_split(X, y, test_size=5000, random_state=66)\n",
    "# X_train = pd.DataFrame(data=X_train.toarray(), columns=feat_names)\n",
    "# X_train"
   ]
  },
  {
   "cell_type": "code",
   "execution_count": 29,
   "metadata": {},
   "outputs": [],
   "source": [
    "y = train['target']\n",
    "X = train.drop(['id', 'target'], axis=1)\n",
    "\n",
    "feat_names = X.columns\n",
    "\n",
    "from scipy.sparse import csr_matrix\n",
    "\n",
    "X = csr_matrix(X)"
   ]
  },
  {
   "cell_type": "code",
   "execution_count": 30,
   "metadata": {},
   "outputs": [
    {
     "data": {
      "text/plain": [
       "(5000, 186)"
      ]
     },
     "execution_count": 30,
     "metadata": {},
     "output_type": "execute_result"
    }
   ],
   "source": [
    "X_train, X_val, y_train, y_val = train_test_split(X, y, test_size=5000, train_size=5000, random_state=66)\n",
    "\n",
    "X_train = pd.DataFrame(data=X_train.toarray(), columns=feat_names)\n",
    "X_train.shape"
   ]
  },
  {
   "cell_type": "code",
   "execution_count": 31,
   "metadata": {},
   "outputs": [
    {
     "data": {
      "text/plain": [
       "(5000, 186)"
      ]
     },
     "execution_count": 31,
     "metadata": {},
     "output_type": "execute_result"
    }
   ],
   "source": [
    "X_val = pd.DataFrame(data=X_val.toarray(), columns=feat_names)\n",
    "X_val.shape"
   ]
  },
  {
   "cell_type": "code",
   "execution_count": 32,
   "metadata": {},
   "outputs": [
    {
     "data": {
      "text/plain": [
       "((5000,), (5000,))"
      ]
     },
     "execution_count": 32,
     "metadata": {},
     "output_type": "execute_result"
    }
   ],
   "source": [
    "y_train.shape, y_val.shape"
   ]
  },
  {
   "cell_type": "markdown",
   "metadata": {},
   "source": [
    "### 默认参数的 LinearSVC"
   ]
  },
  {
   "cell_type": "code",
   "execution_count": 33,
   "metadata": {},
   "outputs": [
    {
     "data": {
      "text/plain": [
       "LinearSVC(C=1.0, class_weight=None, dual=True, fit_intercept=True,\n",
       "     intercept_scaling=1, loss='squared_hinge', max_iter=1000,\n",
       "     multi_class='ovr', penalty='l2', random_state=None, tol=0.0001,\n",
       "     verbose=0)"
      ]
     },
     "execution_count": 33,
     "metadata": {},
     "output_type": "execute_result"
    }
   ],
   "source": [
    "lsvc1 = LinearSVC()\n",
    "lsvc1.fit(X_train, y_train)"
   ]
  },
  {
   "cell_type": "code",
   "execution_count": 34,
   "metadata": {},
   "outputs": [
    {
     "data": {
      "text/plain": [
       "array(['Class_2', 'Class_9', 'Class_3', 'Class_5', 'Class_2'],\n",
       "      dtype=object)"
      ]
     },
     "execution_count": 34,
     "metadata": {},
     "output_type": "execute_result"
    }
   ],
   "source": [
    "y_predict = lsvc1.predict(X_val)\n",
    "y_predict[:5]"
   ]
  },
  {
   "cell_type": "code",
   "execution_count": 35,
   "metadata": {},
   "outputs": [
    {
     "name": "stdout",
     "output_type": "stream",
     "text": [
      "准确率为： 0.7528 \n",
      "\n",
      "Classification report for classifier LinearSVC(C=1.0, class_weight=None, dual=True, fit_intercept=True,\n",
      "     intercept_scaling=1, loss='squared_hinge', max_iter=1000,\n",
      "     multi_class='ovr', penalty='l2', random_state=None, tol=0.0001,\n",
      "     verbose=0):\n",
      "             precision    recall  f1-score   support\n",
      "\n",
      "    Class_1       0.52      0.27      0.35       163\n",
      "    Class_2       0.66      0.84      0.74      1296\n",
      "    Class_3       0.49      0.37      0.42       612\n",
      "    Class_4       0.57      0.11      0.19       230\n",
      "    Class_5       0.94      0.96      0.95       208\n",
      "    Class_6       0.92      0.92      0.92      1134\n",
      "    Class_7       0.66      0.55      0.60       225\n",
      "    Class_8       0.84      0.92      0.88       710\n",
      "    Class_9       0.80      0.85      0.83       422\n",
      "\n",
      "avg / total       0.74      0.75      0.73      5000\n",
      "\n",
      "\n",
      "Confusion matrix:\n",
      "[[  44   15    3    1    0   11    3   50   36]\n",
      " [   1 1083  157    9    7    7   13    6   13]\n",
      " [   2  352  228    4    0    5   20    1    0]\n",
      " [   0  136   40   26    3   17    5    1    2]\n",
      " [   0    7    2    0  199    0    0    0    0]\n",
      " [  11    9    2    2    0 1046   13   29   22]\n",
      " [  12   23   26    1    2   18  123   14    6]\n",
      " [   9    8    3    0    0   15    9  656   10]\n",
      " [   6    4    1    3    1   20    1   27  359]]\n"
     ]
    }
   ],
   "source": [
    "#accuracy_score(y_val, y_predict)\n",
    "print('准确率为：', lsvc1.score(X_val, y_val), '\\n')\n",
    "\n",
    "print(\"Classification report for classifier %s:\\n%s\\n\" % (lsvc1, classification_report(y_val, y_predict)))\n",
    "\n",
    "print(\"Confusion matrix:\\n%s\" % confusion_matrix(y_val, y_predict))"
   ]
  },
  {
   "cell_type": "code",
   "execution_count": 36,
   "metadata": {},
   "outputs": [
    {
     "data": {
      "text/plain": [
       "0.7513963064861269"
      ]
     },
     "execution_count": 36,
     "metadata": {},
     "output_type": "execute_result"
    }
   ],
   "source": [
    "cross_val_score(lsvc1, X_train, y_train, cv=3).mean()"
   ]
  },
  {
   "cell_type": "markdown",
   "metadata": {},
   "source": [
    "### LinearSVC正则参数调优\n",
    "LinearSVC 需要调整正则超参数包括C（正则系数，一般在log域（取log后的值）均匀设置候选参数）和正则函数penalty（L2/L1）"
   ]
  },
  {
   "cell_type": "code",
   "execution_count": 37,
   "metadata": {},
   "outputs": [],
   "source": [
    "C_s = np.logspace(-1, 3, 5)\n",
    "penalty_s = ['l1','l2']\n",
    "param_grid = dict(penalty = penalty_s, C = C_s)"
   ]
  },
  {
   "cell_type": "code",
   "execution_count": 39,
   "metadata": {},
   "outputs": [
    {
     "data": {
      "text/plain": [
       "GridSearchCV(cv=3, error_score='raise',\n",
       "       estimator=LinearSVC(C=1.0, class_weight=None, dual=False, fit_intercept=True,\n",
       "     intercept_scaling=1, loss='squared_hinge', max_iter=1000,\n",
       "     multi_class='ovr', penalty='l2', random_state=None, tol=0.0001,\n",
       "     verbose=0),\n",
       "       fit_params={}, iid=True, n_jobs=-1,\n",
       "       param_grid={'penalty': ['l1', 'l2'], 'C': array([1.e-01, 1.e+00, 1.e+01, 1.e+02, 1.e+03])},\n",
       "       pre_dispatch='2*n_jobs', refit=True, return_train_score=True,\n",
       "       scoring=None, verbose=0)"
      ]
     },
     "execution_count": 39,
     "metadata": {},
     "output_type": "execute_result"
    }
   ],
   "source": [
    "lsvc2 = LinearSVC(dual=False)\n",
    "grid = GridSearchCV(lsvc2, param_grid, cv=3, n_jobs=-1, return_train_score=True)\n",
    "grid.fit(X_train, y_train)"
   ]
  },
  {
   "cell_type": "code",
   "execution_count": 40,
   "metadata": {},
   "outputs": [
    {
     "data": {
      "text/plain": [
       "LinearSVC(C=1.0, class_weight=None, dual=False, fit_intercept=True,\n",
       "     intercept_scaling=1, loss='squared_hinge', max_iter=1000,\n",
       "     multi_class='ovr', penalty='l2', random_state=None, tol=0.0001,\n",
       "     verbose=0)"
      ]
     },
     "execution_count": 40,
     "metadata": {},
     "output_type": "execute_result"
    }
   ],
   "source": [
    "grid.best_estimator_"
   ]
  },
  {
   "cell_type": "code",
   "execution_count": 41,
   "metadata": {},
   "outputs": [
    {
     "data": {
      "text/plain": [
       "{'C': 1.0, 'penalty': 'l2'}"
      ]
     },
     "execution_count": 41,
     "metadata": {},
     "output_type": "execute_result"
    }
   ],
   "source": [
    "grid.best_params_"
   ]
  },
  {
   "cell_type": "code",
   "execution_count": 42,
   "metadata": {},
   "outputs": [
    {
     "data": {
      "text/plain": [
       "0.7514"
      ]
     },
     "execution_count": 42,
     "metadata": {},
     "output_type": "execute_result"
    }
   ],
   "source": [
    "grid.best_score_"
   ]
  },
  {
   "cell_type": "code",
   "execution_count": 43,
   "metadata": {},
   "outputs": [
    {
     "data": {
      "text/plain": [
       "{'mean_fit_time': array([0.51704399, 0.2091434 , 4.20856849, 0.42160145, 7.78843403,\n",
       "        0.70894321, 8.90784558, 1.76354448, 8.22232779, 4.5480206 ]),\n",
       " 'mean_score_time': array([0.15334646, 0.15424895, 0.08157508, 0.14155189, 0.06118576,\n",
       "        0.18894243, 0.00749294, 0.06293631, 0.00763051, 0.0082616 ]),\n",
       " 'mean_test_score': array([0.7282, 0.7406, 0.749 , 0.7514, 0.7428, 0.7458, 0.7302, 0.7392,\n",
       "        0.7232, 0.7316]),\n",
       " 'mean_train_score': array([0.73600002, 0.75929993, 0.78779874, 0.79240065, 0.82789866,\n",
       "        0.81879901, 0.84029967, 0.83099907, 0.84300027, 0.83989867]),\n",
       " 'param_C': masked_array(data=[0.1, 0.1, 1.0, 1.0, 10.0, 10.0, 100.0, 100.0, 1000.0,\n",
       "                    1000.0],\n",
       "              mask=[False, False, False, False, False, False, False, False,\n",
       "                    False, False],\n",
       "        fill_value='?',\n",
       "             dtype=object),\n",
       " 'param_penalty': masked_array(data=['l1', 'l2', 'l1', 'l2', 'l1', 'l2', 'l1', 'l2', 'l1',\n",
       "                    'l2'],\n",
       "              mask=[False, False, False, False, False, False, False, False,\n",
       "                    False, False],\n",
       "        fill_value='?',\n",
       "             dtype=object),\n",
       " 'params': ({'C': 0.1, 'penalty': 'l1'},\n",
       "  {'C': 0.1, 'penalty': 'l2'},\n",
       "  {'C': 1.0, 'penalty': 'l1'},\n",
       "  {'C': 1.0, 'penalty': 'l2'},\n",
       "  {'C': 10.0, 'penalty': 'l1'},\n",
       "  {'C': 10.0, 'penalty': 'l2'},\n",
       "  {'C': 100.0, 'penalty': 'l1'},\n",
       "  {'C': 100.0, 'penalty': 'l2'},\n",
       "  {'C': 1000.0, 'penalty': 'l1'},\n",
       "  {'C': 1000.0, 'penalty': 'l2'}),\n",
       " 'rank_test_score': array([ 9,  5,  2,  1,  4,  3,  8,  6, 10,  7], dtype=int32),\n",
       " 'split0_test_score': array([0.72634731, 0.74371257, 0.75209581, 0.75508982, 0.7491018 ,\n",
       "        0.7497006 , 0.73712575, 0.74311377, 0.72994012, 0.73832335]),\n",
       " 'split0_train_score': array([0.73603604, 0.75915916, 0.78528529, 0.79369369, 0.82522523,\n",
       "        0.81681682, 0.83963964, 0.82912913, 0.84354354, 0.83723724]),\n",
       " 'split1_test_score': array([0.73993994, 0.74414414, 0.75375375, 0.75435435, 0.73993994,\n",
       "        0.74414414, 0.72612613, 0.73933934, 0.72252252, 0.73033033]),\n",
       " 'split1_train_score': array([0.72983508, 0.75232384, 0.78470765, 0.7886057 , 0.82728636,\n",
       "        0.8173913 , 0.83958021, 0.83178411, 0.84197901, 0.83958021]),\n",
       " 'split2_test_score': array([0.71831832, 0.73393393, 0.74114114, 0.74474474, 0.73933934,\n",
       "        0.74354354, 0.72732733, 0.73513514, 0.71711712, 0.72612613]),\n",
       " 'split2_train_score': array([0.74212894, 0.76641679, 0.7934033 , 0.79490255, 0.83118441,\n",
       "        0.82218891, 0.84167916, 0.83208396, 0.84347826, 0.84287856]),\n",
       " 'std_fit_time': array([0.02916803, 0.0019937 , 0.31611673, 0.12235293, 0.33089512,\n",
       "        0.12580625, 0.26594749, 0.1348881 , 0.4226914 , 0.4561553 ]),\n",
       " 'std_score_time': array([0.0307819 , 0.04464572, 0.05342062, 0.04518358, 0.01960202,\n",
       "        0.08758253, 0.0022711 , 0.03794695, 0.00409161, 0.0008818 ]),\n",
       " 'std_test_score': array([0.0089196 , 0.00471338, 0.005594  , 0.00471203, 0.00446945,\n",
       "        0.00277313, 0.00492902, 0.00325956, 0.00525811, 0.00506088]),\n",
       " 'std_train_score': array([0.00501901, 0.00575429, 0.00397003, 0.00272844, 0.00247105,\n",
       "        0.00240847, 0.00097575, 0.0013279 , 0.00072263, 0.00231404])}"
      ]
     },
     "execution_count": 43,
     "metadata": {},
     "output_type": "execute_result"
    }
   ],
   "source": [
    "grid.cv_results_"
   ]
  },
  {
   "cell_type": "code",
   "execution_count": 44,
   "metadata": {},
   "outputs": [
    {
     "data": {
      "image/png": "[encoded data removed]",
      "text/plain": [
       "<matplotlib.figure.Figure at 0x7fd276fd32b0>"
      ]
     },
     "metadata": {},
     "output_type": "display_data"
    }
   ],
   "source": [
    "mean_test_score = grid.cv_results_['mean_test_score']\n",
    "std_test_score = grid.cv_results_['std_test_score']\n",
    "\n",
    "mean_train_score = grid.cv_results_['mean_train_score']\n",
    "std_train_score = grid.cv_results_['std_train_score']\n",
    "\n",
    "n_Cs = len(C_s)\n",
    "n_penaltys = len(penalty_s)\n",
    "\n",
    "test_scores = mean_test_score.reshape(n_Cs, n_penaltys)\n",
    "train_scores = mean_train_score.reshape(n_Cs, n_penaltys)\n",
    "test_stds = std_test_score.reshape(n_Cs, n_penaltys)\n",
    "train_stds = std_train_score.reshape(n_Cs, n_penaltys)\n",
    "\n",
    "plt.figure(figsize=(12, 9))\n",
    "\n",
    "x_axis = np.log10(C_s)\n",
    "for i in range(n_penaltys):\n",
    "    plt.errorbar(x_axis, test_scores[:, i], yerr=test_stds[:, i], label=penalty_s[i] + 'Test')\n",
    "    plt.errorbar(x_axis, train_scores[:, i], yerr=train_stds[:, i], label=penalty_s[i] + 'Train')\n",
    "    \n",
    "plt.legend()\n",
    "plt.xlabel('log(C)')                                                                                                      \n",
    "plt.ylabel('accuracy')\n",
    "plt.axis()\n",
    "plt.show()"
   ]
  },
  {
   "cell_type": "markdown",
   "metadata": {},
   "source": [
    "### SVC正则参数调优"
   ]
  },
  {
   "cell_type": "code",
   "execution_count": 45,
   "metadata": {},
   "outputs": [
    {
     "data": {
      "text/plain": [
       "GridSearchCV(cv=3, error_score='raise',\n",
       "       estimator=SVC(C=1.0, cache_size=28000, class_weight=None, coef0=0.0,\n",
       "  decision_function_shape=None, degree=3, gamma='auto', kernel='rbf',\n",
       "  max_iter=-1, probability=False, random_state=None, shrinking=True,\n",
       "  tol=0.001, verbose=False),\n",
       "       fit_params={}, iid=True, n_jobs=-1,\n",
       "       param_grid=[{'C': [0.1, 1, 10, 100, 1000], 'kernel': ['linear']}, {'C': [0.1, 1, 10, 100, 1000], 'gamma': [0.1, 1, 10], 'kernel': ['rbf']}],\n",
       "       pre_dispatch='2*n_jobs', refit=True, return_train_score=True,\n",
       "       scoring=None, verbose=0)"
      ]
     },
     "execution_count": 45,
     "metadata": {},
     "output_type": "execute_result"
    }
   ],
   "source": [
    "param_grid=[\n",
    "    {'C':[0.1,1,10,100,1000],'kernel':['linear']}, \n",
    "    {'C':[0.1,1,10,100,1000],'gamma':[0.1,1,10],'kernel':['rbf']}\n",
    "]\n",
    "\n",
    "svc = SVC(cache_size=2000)\n",
    "\n",
    "grid = GridSearchCV(svc, param_grid, cv=3, n_jobs=-1, return_train_score=True)\n",
    "grid.fit(X_train, y_train)"
   ]
  },
  {
   "cell_type": "code",
   "execution_count": 46,
   "metadata": {},
   "outputs": [
    {
     "data": {
      "text/plain": [
       "{'C': 10, 'gamma': 1, 'kernel': 'rbf'}"
      ]
     },
     "execution_count": 46,
     "metadata": {},
     "output_type": "execute_result"
    }
   ],
   "source": [
    "grid.best_params_"
   ]
  },
  {
   "cell_type": "code",
   "execution_count": 47,
   "metadata": {},
   "outputs": [
    {
     "data": {
      "text/plain": [
       "0.7704"
      ]
     },
     "execution_count": 47,
     "metadata": {},
     "output_type": "execute_result"
    }
   ],
   "source": [
    "grid.best_score_"
   ]
  },
  {
   "cell_type": "code",
   "execution_count": 48,
   "metadata": {},
   "outputs": [
    {
     "data": {
      "text/plain": [
       "{'mean_fit_time': array([ 3.61599541,  2.35104513,  2.31924764,  3.32764173, 10.87300976,\n",
       "         7.51762001,  6.30474011, 14.872449  ,  4.0714399 ,  4.50807921,\n",
       "        14.89587625,  2.93522064,  4.68482931, 15.02736553,  3.08564091,\n",
       "         4.73327827, 14.24420746,  3.58210055,  4.55658197,  9.4256115 ]),\n",
       " 'mean_score_time': array([1.83504923, 1.55171378, 1.45076783, 1.4204007 , 1.39262867,\n",
       "        2.90251104, 2.51593582, 3.40109913, 2.12350996, 2.19303163,\n",
       "        3.24762567, 1.86185884, 2.28047991, 3.3010931 , 1.86164927,\n",
       "        2.21824384, 1.91083471, 1.81132285, 1.81951078, 1.42422358]),\n",
       " 'mean_test_score': array([0.7242, 0.7532, 0.753 , 0.7276, 0.7182, 0.6684, 0.7044, 0.2766,\n",
       "        0.733 , 0.7606, 0.5176, 0.7588, 0.7704, 0.5334, 0.7644, 0.7608,\n",
       "        0.5326, 0.7404, 0.7558, 0.5326]),\n",
       " 'mean_train_score': array([0.73189847, 0.78410014, 0.83919902, 0.88089649, 0.903698  ,\n",
       "        0.67089863, 0.71589761, 0.28019939, 0.74619942, 0.84399707,\n",
       "        0.98900009, 0.81939976, 0.97889959, 0.99979995, 0.92149976,\n",
       "        0.9986999 , 1.        , 0.98369974, 0.99979995, 1.        ]),\n",
       " 'param_C': masked_array(data=[0.1, 1, 10, 100, 1000, 0.1, 0.1, 0.1, 1, 1, 1, 10, 10,\n",
       "                    10, 100, 100, 100, 1000, 1000, 1000],\n",
       "              mask=[False, False, False, False, False, False, False, False,\n",
       "                    False, False, False, False, False, False, False, False,\n",
       "                    False, False, False, False],\n",
       "        fill_value='?',\n",
       "             dtype=object),\n",
       " 'param_gamma': masked_array(data=[--, --, --, --, --, 0.1, 1, 10, 0.1, 1, 10, 0.1, 1, 10,\n",
       "                    0.1, 1, 10, 0.1, 1, 10],\n",
       "              mask=[ True,  True,  True,  True,  True, False, False, False,\n",
       "                    False, False, False, False, False, False, False, False,\n",
       "                    False, False, False, False],\n",
       "        fill_value='?',\n",
       "             dtype=object),\n",
       " 'param_kernel': masked_array(data=['linear', 'linear', 'linear', 'linear', 'linear',\n",
       "                    'rbf', 'rbf', 'rbf', 'rbf', 'rbf', 'rbf', 'rbf', 'rbf',\n",
       "                    'rbf', 'rbf', 'rbf', 'rbf', 'rbf', 'rbf', 'rbf'],\n",
       "              mask=[False, False, False, False, False, False, False, False,\n",
       "                    False, False, False, False, False, False, False, False,\n",
       "                    False, False, False, False],\n",
       "        fill_value='?',\n",
       "             dtype=object),\n",
       " 'params': ({'C': 0.1, 'kernel': 'linear'},\n",
       "  {'C': 1, 'kernel': 'linear'},\n",
       "  {'C': 10, 'kernel': 'linear'},\n",
       "  {'C': 100, 'kernel': 'linear'},\n",
       "  {'C': 1000, 'kernel': 'linear'},\n",
       "  {'C': 0.1, 'gamma': 0.1, 'kernel': 'rbf'},\n",
       "  {'C': 0.1, 'gamma': 1, 'kernel': 'rbf'},\n",
       "  {'C': 0.1, 'gamma': 10, 'kernel': 'rbf'},\n",
       "  {'C': 1, 'gamma': 0.1, 'kernel': 'rbf'},\n",
       "  {'C': 1, 'gamma': 1, 'kernel': 'rbf'},\n",
       "  {'C': 1, 'gamma': 10, 'kernel': 'rbf'},\n",
       "  {'C': 10, 'gamma': 0.1, 'kernel': 'rbf'},\n",
       "  {'C': 10, 'gamma': 1, 'kernel': 'rbf'},\n",
       "  {'C': 10, 'gamma': 10, 'kernel': 'rbf'},\n",
       "  {'C': 100, 'gamma': 0.1, 'kernel': 'rbf'},\n",
       "  {'C': 100, 'gamma': 1, 'kernel': 'rbf'},\n",
       "  {'C': 100, 'gamma': 10, 'kernel': 'rbf'},\n",
       "  {'C': 1000, 'gamma': 0.1, 'kernel': 'rbf'},\n",
       "  {'C': 1000, 'gamma': 1, 'kernel': 'rbf'},\n",
       "  {'C': 1000, 'gamma': 10, 'kernel': 'rbf'}),\n",
       " 'rank_test_score': array([12,  7,  8, 11, 13, 15, 14, 20, 10,  4, 19,  5,  1, 16,  2,  3, 17,\n",
       "         9,  6, 17], dtype=int32),\n",
       " 'split0_test_score': array([0.72934132, 0.75868263, 0.75568862, 0.73113772, 0.7239521 ,\n",
       "        0.66407186, 0.70419162, 0.27904192, 0.74071856, 0.75988024,\n",
       "        0.51856287, 0.76227545, 0.77964072, 0.53952096, 0.76706587,\n",
       "        0.76946108, 0.53892216, 0.73592814, 0.76167665, 0.53892216]),\n",
       " 'split0_train_score': array([0.72882883, 0.78438438, 0.83723724, 0.87387387, 0.8996997 ,\n",
       "        0.66816817, 0.71111111, 0.27897898, 0.74504505, 0.83813814,\n",
       "        0.98918919, 0.81891892, 0.97807808, 0.9996997 , 0.92102102,\n",
       "        0.9984985 , 1.        , 0.98318318, 0.9996997 , 1.        ]),\n",
       " 'split1_test_score': array([0.73153153, 0.75675676, 0.75015015, 0.72552553, 0.70570571,\n",
       "        0.67927928, 0.71351351, 0.27447447, 0.73933934, 0.77057057,\n",
       "        0.52492492, 0.76516517, 0.76816817, 0.54054054, 0.76276276,\n",
       "        0.76096096, 0.54054054, 0.74474474, 0.75255255, 0.54054054]),\n",
       " 'split1_train_score': array([0.72953523, 0.7808096 , 0.83958021, 0.88395802, 0.90314843,\n",
       "        0.66506747, 0.71544228, 0.27796102, 0.74392804, 0.85007496,\n",
       "        0.98830585, 0.8191904 , 0.97961019, 1.        , 0.92083958,\n",
       "        0.99850075, 1.        , 0.98350825, 1.        , 1.        ]),\n",
       " 'split2_test_score': array([0.71171171, 0.74414414, 0.75315315, 0.72612613, 0.72492492,\n",
       "        0.66186186, 0.6954955 , 0.27627628, 0.71891892, 0.75135135,\n",
       "        0.50930931, 0.74894895, 0.76336336, 0.52012012, 0.76336336,\n",
       "        0.75195195, 0.51831832, 0.74054054, 0.75315315, 0.51831832]),\n",
       " 'split2_train_score': array([0.73733133, 0.78710645, 0.84077961, 0.88485757, 0.90824588,\n",
       "        0.67946027, 0.72113943, 0.28365817, 0.74962519, 0.84377811,\n",
       "        0.98950525, 0.82008996, 0.97901049, 0.99970015, 0.92263868,\n",
       "        0.99910045, 1.        , 0.9844078 , 0.99970015, 1.        ]),\n",
       " 'std_fit_time': array([0.04152926, 0.03654376, 0.0499529 , 0.0756807 , 0.5334581 ,\n",
       "        0.08767145, 0.07518985, 0.19439276, 0.03261206, 0.15091041,\n",
       "        0.09003041, 0.03841118, 0.03995224, 0.04601285, 0.00158193,\n",
       "        0.02204702, 0.08116693, 0.08267239, 0.23545988, 0.48457971]),\n",
       " 'std_score_time': array([0.03157728, 0.02040898, 0.05344336, 0.03259241, 0.00870244,\n",
       "        0.07614156, 0.03146641, 0.01577036, 0.04112722, 0.05616638,\n",
       "        0.04558553, 0.03790591, 0.00204759, 0.14275943, 0.03507507,\n",
       "        0.01121969, 0.04062124, 0.01143667, 0.22036547, 0.00180434]),\n",
       " 'std_test_score': array([0.00886914, 0.0064468 , 0.00226422, 0.00251726, 0.00883711,\n",
       "        0.00773984, 0.00735363, 0.00187909, 0.00996529, 0.00785884,\n",
       "        0.00640824, 0.00705984, 0.00683136, 0.00939248, 0.00190372,\n",
       "        0.00715075, 0.01011272, 0.00360163, 0.00416886, 0.01011272]),\n",
       " 'std_train_score': array([0.00385243, 0.00257852, 0.00147107, 0.0049793 , 0.00351054,\n",
       "        0.00618492, 0.00410668, 0.00248078, 0.00246493, 0.00487565,\n",
       "        0.00050758, 0.00050047, 0.00063038, 0.00014146, 0.00080874,\n",
       "        0.00028323, 0.        , 0.00051796, 0.00014146, 0.        ])}"
      ]
     },
     "execution_count": 48,
     "metadata": {},
     "output_type": "execute_result"
    }
   ],
   "source": [
    "grid.cv_results_"
   ]
  },
  {
   "cell_type": "code",
   "execution_count": 49,
   "metadata": {},
   "outputs": [
    {
     "data": {
      "image/png": "[encoded data removed]",
      "text/plain": [
       "<matplotlib.figure.Figure at 0x7fd276d14908>"
      ]
     },
     "metadata": {},
     "output_type": "display_data"
    }
   ],
   "source": [
    "mean_test_score = grid.cv_results_['mean_test_score']\n",
    "std_test_score = grid.cv_results_['std_test_score']\n",
    "\n",
    "mean_train_score = grid.cv_results_['mean_train_score']\n",
    "std_train_score = grid.cv_results_['std_train_score']\n",
    "\n",
    "n_Cs = len([0.1,1,10,100,1000])\n",
    "gammas = [0.1,1,10]\n",
    "n_gammas = len(gammas)\n",
    "\n",
    "test_scores = mean_test_score[5:].reshape(n_Cs, n_gammas)\n",
    "train_scores = mean_train_score[5:].reshape(n_Cs, n_gammas)\n",
    "test_stds = std_test_score[5:].reshape(n_Cs, n_gammas)\n",
    "train_stds = std_train_score[5:].reshape(n_Cs, n_gammas)\n",
    "\n",
    "plt.figure(figsize=(12, 9))\n",
    "\n",
    "x_axis = np.log10([0.1,1,10,100,1000])\n",
    "for i in range(3):\n",
    "    plt.errorbar(x_axis, test_scores[:, i], yerr=test_stds[:, i], label=' Test - log(gamma):' + str(np.log10(gammas[i])))  \n",
    "    plt.errorbar(x_axis, train_scores[:, i], yerr=train_stds[:, i], linestyle='--', label=' Train - log(gamma):' + str(np.log10(gammas[i]))) \n",
    "    \n",
    "plt.legend()\n",
    "plt.xlabel('log(C)')                                                                                                      \n",
    "plt.ylabel('accuracy')\n",
    "plt.axis()\n",
    "plt.show()"
   ]
  },
  {
   "cell_type": "code",
   "execution_count": null,
   "metadata": {},
   "outputs": [],
   "source": []
  }
 ],
 "metadata": {
  "kernelspec": {
   "display_name": "Python 3",
   "language": "python",
   "name": "python3"
  },
  "language_info": {
   "codemirror_mode": {
    "name": "ipython",
    "version": 3
   },
   "file_extension": ".py",
   "mimetype": "text/x-python",
   "name": "python",
   "nbconvert_exporter": "python",
   "pygments_lexer": "ipython3",
   "version": "3.6.9"
  }
 },
 "nbformat": 4,
 "nbformat_minor": 4
}
