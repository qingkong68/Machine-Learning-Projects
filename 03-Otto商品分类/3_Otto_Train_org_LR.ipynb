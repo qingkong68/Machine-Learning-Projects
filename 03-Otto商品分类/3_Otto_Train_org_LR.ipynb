{
 "cells": [
  {
   "cell_type": "markdown",
   "metadata": {},
   "source": [
    "# Otto商品分类——Logistic 回归"
   ]
  },
  {
   "cell_type": "code",
   "execution_count": 1,
   "metadata": {},
   "outputs": [],
   "source": [
    "import pandas as pd \n",
    "import numpy as np\n",
    "import seaborn as sns\n",
    "import matplotlib.pyplot as plt"
   ]
  },
  {
   "cell_type": "code",
   "execution_count": 2,
   "metadata": {},
   "outputs": [
    {
     "data": {
      "text/html": [
       "<div>\n",
       "<style scoped>\n",
       "    .dataframe tbody tr th:only-of-type {\n",
       "        vertical-align: middle;\n",
       "    }\n",
       "\n",
       "    .dataframe tbody tr th {\n",
       "        vertical-align: top;\n",
       "    }\n",
       "\n",
       "    .dataframe thead th {\n",
       "        text-align: right;\n",
       "    }\n",
       "</style>\n",
       "<table border=\"1\" class=\"dataframe\">\n",
       "  <thead>\n",
       "    <tr style=\"text-align: right;\">\n",
       "      <th></th>\n",
       "      <th>id</th>\n",
       "      <th>feat_1</th>\n",
       "      <th>feat_2</th>\n",
       "      <th>feat_3</th>\n",
       "      <th>feat_4</th>\n",
       "      <th>feat_5</th>\n",
       "      <th>feat_6</th>\n",
       "      <th>feat_7</th>\n",
       "      <th>feat_8</th>\n",
       "      <th>feat_9</th>\n",
       "      <th>...</th>\n",
       "      <th>feat_85</th>\n",
       "      <th>feat_86</th>\n",
       "      <th>feat_87</th>\n",
       "      <th>feat_88</th>\n",
       "      <th>feat_89</th>\n",
       "      <th>feat_90</th>\n",
       "      <th>feat_91</th>\n",
       "      <th>feat_92</th>\n",
       "      <th>feat_93</th>\n",
       "      <th>target</th>\n",
       "    </tr>\n",
       "  </thead>\n",
       "  <tbody>\n",
       "    <tr>\n",
       "      <td>0</td>\n",
       "      <td>1</td>\n",
       "      <td>0.016393</td>\n",
       "      <td>0.0</td>\n",
       "      <td>0.0</td>\n",
       "      <td>0.000000</td>\n",
       "      <td>0.000000</td>\n",
       "      <td>0.0</td>\n",
       "      <td>0.000000</td>\n",
       "      <td>0.000000</td>\n",
       "      <td>0.0</td>\n",
       "      <td>...</td>\n",
       "      <td>0.018182</td>\n",
       "      <td>0.000000</td>\n",
       "      <td>0.000000</td>\n",
       "      <td>0.0</td>\n",
       "      <td>0.0</td>\n",
       "      <td>0.000000</td>\n",
       "      <td>0.0</td>\n",
       "      <td>0.0</td>\n",
       "      <td>0.0</td>\n",
       "      <td>Class_1</td>\n",
       "    </tr>\n",
       "    <tr>\n",
       "      <td>1</td>\n",
       "      <td>2</td>\n",
       "      <td>0.000000</td>\n",
       "      <td>0.0</td>\n",
       "      <td>0.0</td>\n",
       "      <td>0.000000</td>\n",
       "      <td>0.000000</td>\n",
       "      <td>0.0</td>\n",
       "      <td>0.000000</td>\n",
       "      <td>0.013158</td>\n",
       "      <td>0.0</td>\n",
       "      <td>...</td>\n",
       "      <td>0.000000</td>\n",
       "      <td>0.000000</td>\n",
       "      <td>0.000000</td>\n",
       "      <td>0.0</td>\n",
       "      <td>0.0</td>\n",
       "      <td>0.000000</td>\n",
       "      <td>0.0</td>\n",
       "      <td>0.0</td>\n",
       "      <td>0.0</td>\n",
       "      <td>Class_1</td>\n",
       "    </tr>\n",
       "    <tr>\n",
       "      <td>2</td>\n",
       "      <td>3</td>\n",
       "      <td>0.000000</td>\n",
       "      <td>0.0</td>\n",
       "      <td>0.0</td>\n",
       "      <td>0.000000</td>\n",
       "      <td>0.000000</td>\n",
       "      <td>0.0</td>\n",
       "      <td>0.000000</td>\n",
       "      <td>0.013158</td>\n",
       "      <td>0.0</td>\n",
       "      <td>...</td>\n",
       "      <td>0.000000</td>\n",
       "      <td>0.000000</td>\n",
       "      <td>0.000000</td>\n",
       "      <td>0.0</td>\n",
       "      <td>0.0</td>\n",
       "      <td>0.000000</td>\n",
       "      <td>0.0</td>\n",
       "      <td>0.0</td>\n",
       "      <td>0.0</td>\n",
       "      <td>Class_1</td>\n",
       "    </tr>\n",
       "    <tr>\n",
       "      <td>3</td>\n",
       "      <td>4</td>\n",
       "      <td>0.016393</td>\n",
       "      <td>0.0</td>\n",
       "      <td>0.0</td>\n",
       "      <td>0.014286</td>\n",
       "      <td>0.315789</td>\n",
       "      <td>0.1</td>\n",
       "      <td>0.131579</td>\n",
       "      <td>0.000000</td>\n",
       "      <td>0.0</td>\n",
       "      <td>...</td>\n",
       "      <td>0.000000</td>\n",
       "      <td>0.015385</td>\n",
       "      <td>0.029851</td>\n",
       "      <td>0.0</td>\n",
       "      <td>0.0</td>\n",
       "      <td>0.000000</td>\n",
       "      <td>0.0</td>\n",
       "      <td>0.0</td>\n",
       "      <td>0.0</td>\n",
       "      <td>Class_1</td>\n",
       "    </tr>\n",
       "    <tr>\n",
       "      <td>4</td>\n",
       "      <td>5</td>\n",
       "      <td>0.000000</td>\n",
       "      <td>0.0</td>\n",
       "      <td>0.0</td>\n",
       "      <td>0.000000</td>\n",
       "      <td>0.000000</td>\n",
       "      <td>0.0</td>\n",
       "      <td>0.000000</td>\n",
       "      <td>0.000000</td>\n",
       "      <td>0.0</td>\n",
       "      <td>...</td>\n",
       "      <td>0.018182</td>\n",
       "      <td>0.000000</td>\n",
       "      <td>0.000000</td>\n",
       "      <td>0.0</td>\n",
       "      <td>0.0</td>\n",
       "      <td>0.007692</td>\n",
       "      <td>0.0</td>\n",
       "      <td>0.0</td>\n",
       "      <td>0.0</td>\n",
       "      <td>Class_1</td>\n",
       "    </tr>\n",
       "  </tbody>\n",
       "</table>\n",
       "<p>5 rows × 95 columns</p>\n",
       "</div>"
      ],
      "text/plain": [
       "   id    feat_1  feat_2  feat_3    feat_4    feat_5  feat_6    feat_7  \\\n",
       "0   1  0.016393     0.0     0.0  0.000000  0.000000     0.0  0.000000   \n",
       "1   2  0.000000     0.0     0.0  0.000000  0.000000     0.0  0.000000   \n",
       "2   3  0.000000     0.0     0.0  0.000000  0.000000     0.0  0.000000   \n",
       "3   4  0.016393     0.0     0.0  0.014286  0.315789     0.1  0.131579   \n",
       "4   5  0.000000     0.0     0.0  0.000000  0.000000     0.0  0.000000   \n",
       "\n",
       "     feat_8  feat_9  ...   feat_85   feat_86   feat_87  feat_88  feat_89  \\\n",
       "0  0.000000     0.0  ...  0.018182  0.000000  0.000000      0.0      0.0   \n",
       "1  0.013158     0.0  ...  0.000000  0.000000  0.000000      0.0      0.0   \n",
       "2  0.013158     0.0  ...  0.000000  0.000000  0.000000      0.0      0.0   \n",
       "3  0.000000     0.0  ...  0.000000  0.015385  0.029851      0.0      0.0   \n",
       "4  0.000000     0.0  ...  0.018182  0.000000  0.000000      0.0      0.0   \n",
       "\n",
       "    feat_90  feat_91  feat_92  feat_93   target  \n",
       "0  0.000000      0.0      0.0      0.0  Class_1  \n",
       "1  0.000000      0.0      0.0      0.0  Class_1  \n",
       "2  0.000000      0.0      0.0      0.0  Class_1  \n",
       "3  0.000000      0.0      0.0      0.0  Class_1  \n",
       "4  0.007692      0.0      0.0      0.0  Class_1  \n",
       "\n",
       "[5 rows x 95 columns]"
      ]
     },
     "execution_count": 2,
     "metadata": {},
     "output_type": "execute_result"
    }
   ],
   "source": [
    "dpath = './data/'\n",
    "train = pd.read_csv(dpath +\"Otto_FE_train_org.csv\")\n",
    "train.head()"
   ]
  },
  {
   "cell_type": "code",
   "execution_count": 3,
   "metadata": {},
   "outputs": [],
   "source": [
    "y_train = train['target']   \n",
    "X_train = train.drop([\"id\", \"target\"], axis=1)\n",
    "\n",
    "# 保存特征名字以备后用（可视化）\n",
    "feat_names_org = X_train.columns \n",
    "\n",
    "from scipy.sparse import csr_matrix\n",
    "\n",
    "X_train = csr_matrix(X_train)  # sklearn的学习器大多支持稀疏数据输入，模型训练会快很多"
   ]
  },
  {
   "cell_type": "markdown",
   "metadata": {},
   "source": [
    "## 默认参数的Logistic Regression"
   ]
  },
  {
   "cell_type": "code",
   "execution_count": 5,
   "metadata": {},
   "outputs": [
    {
     "name": "stderr",
     "output_type": "stream",
     "text": [
      "E:\\Anaconda\\envs\\tensorflow-cpu\\lib\\site-packages\\sklearn\\linear_model\\logistic.py:432: FutureWarning: Default solver will be changed to 'lbfgs' in 0.22. Specify a solver to silence this warning.\n",
      "  FutureWarning)\n",
      "E:\\Anaconda\\envs\\tensorflow-cpu\\lib\\site-packages\\sklearn\\linear_model\\logistic.py:469: FutureWarning: Default multi_class will be changed to 'auto' in 0.22. Specify the multi_class option to silence this warning.\n",
      "  \"this warning.\", FutureWarning)\n",
      "E:\\Anaconda\\envs\\tensorflow-cpu\\lib\\site-packages\\sklearn\\linear_model\\logistic.py:432: FutureWarning: Default solver will be changed to 'lbfgs' in 0.22. Specify a solver to silence this warning.\n",
      "  FutureWarning)\n",
      "E:\\Anaconda\\envs\\tensorflow-cpu\\lib\\site-packages\\sklearn\\linear_model\\logistic.py:469: FutureWarning: Default multi_class will be changed to 'auto' in 0.22. Specify the multi_class option to silence this warning.\n",
      "  \"this warning.\", FutureWarning)\n",
      "E:\\Anaconda\\envs\\tensorflow-cpu\\lib\\site-packages\\sklearn\\linear_model\\logistic.py:432: FutureWarning: Default solver will be changed to 'lbfgs' in 0.22. Specify a solver to silence this warning.\n",
      "  FutureWarning)\n",
      "E:\\Anaconda\\envs\\tensorflow-cpu\\lib\\site-packages\\sklearn\\linear_model\\logistic.py:469: FutureWarning: Default multi_class will be changed to 'auto' in 0.22. Specify the multi_class option to silence this warning.\n",
      "  \"this warning.\", FutureWarning)\n"
     ]
    },
    {
     "name": "stdout",
     "output_type": "stream",
     "text": [
      "logloss of each fold is:  [0.79764026 0.79738585 0.79737362]\n",
      "mean cv logloss is: 0.7974665740063602\n"
     ]
    }
   ],
   "source": [
    "from sklearn.linear_model import LogisticRegression\n",
    "from sklearn.model_selection import cross_val_score\n",
    "\n",
    "lr = LogisticRegression()\n",
    "loss = cross_val_score(lr, X_train, y_train, cv=3, scoring='neg_log_loss')\n",
    "print('logloss of each fold is: ', -loss)\n",
    "print('mean cv logloss is:', -loss.mean())"
   ]
  },
  {
   "cell_type": "markdown",
   "metadata": {},
   "source": [
    "## Logistic Regression + GridSearchCV\n",
    "logistic回归的需要调整超参数有：C（正则系数，一般在log域（取log后的值）均匀设置候选参数）和正则函数penalty（L2/L1） 目标函数为：J = C* sum(logloss(f(xi), yi)) + penalty\n",
    "\n",
    "在sklearn框架下，不同学习器的参数调整步骤相同：\n",
    "\n",
    "设置参数搜索范围\n",
    "\n",
    "生成学习器实例（参数设置）\n",
    "\n",
    "生成GridSearchCV的实例（参数设置）\n",
    "\n",
    "调用GridSearchCV的fit方法"
   ]
  },
  {
   "cell_type": "code",
   "execution_count": 6,
   "metadata": {},
   "outputs": [],
   "source": [
    "# 为了比较 GridSearchCV 和 LogisticRegressionCV，两者用相同的交叉验证数据分割\n",
    "from sklearn.model_selection import StratifiedKFold\n",
    "\n",
    "fold = StratifiedKFold(n_splits=3, shuffle=True, random_state=666)"
   ]
  },
  {
   "cell_type": "code",
   "execution_count": 7,
   "metadata": {},
   "outputs": [
    {
     "name": "stderr",
     "output_type": "stream",
     "text": [
      "E:\\Anaconda\\envs\\tensorflow-cpu\\lib\\site-packages\\sklearn\\linear_model\\logistic.py:469: FutureWarning: Default multi_class will be changed to 'auto' in 0.22. Specify the multi_class option to silence this warning.\n",
      "  \"this warning.\", FutureWarning)\n"
     ]
    },
    {
     "data": {
      "text/plain": [
       "GridSearchCV(cv=StratifiedKFold(n_splits=3, random_state=666, shuffle=True),\n",
       "             error_score='raise-deprecating',\n",
       "             estimator=LogisticRegression(C=1.0, class_weight=None, dual=False,\n",
       "                                          fit_intercept=True,\n",
       "                                          intercept_scaling=1, l1_ratio=None,\n",
       "                                          max_iter=100, multi_class='warn',\n",
       "                                          n_jobs=None, penalty='l2',\n",
       "                                          random_state=None, solver='liblinear',\n",
       "                                          tol=0.0001, verbose=0,\n",
       "                                          warm_start=False),\n",
       "             iid='warn', n_jobs=4,\n",
       "             param_grid={'C': [0.001, 0.01, 0.1, 1, 10, 100, 1000],\n",
       "                         'penalty': ['l1', 'l2']},\n",
       "             pre_dispatch='2*n_jobs', refit=True, return_train_score=True,\n",
       "             scoring='neg_log_loss', verbose=0)"
      ]
     },
     "execution_count": 7,
     "metadata": {},
     "output_type": "execute_result"
    }
   ],
   "source": [
    "from sklearn.model_selection import GridSearchCV\n",
    "\n",
    "penaltys = ['l1', 'l2']\n",
    "Cs = [0.001, 0.01, 0.1, 1, 10, 100, 1000]\n",
    "param_grid = dict(penalty = penaltys, C = Cs)\n",
    "\n",
    "lr = LogisticRegression(solver='liblinear')\n",
    "\n",
    "grid = GridSearchCV(lr, param_grid, cv=fold, scoring='neg_log_loss', n_jobs=4, return_train_score=True)\n",
    "\n",
    "grid.fit(X_train, y_train)"
   ]
  },
  {
   "cell_type": "code",
   "execution_count": 8,
   "metadata": {},
   "outputs": [
    {
     "data": {
      "text/plain": [
       "LogisticRegression(C=100, class_weight=None, dual=False, fit_intercept=True,\n",
       "                   intercept_scaling=1, l1_ratio=None, max_iter=100,\n",
       "                   multi_class='warn', n_jobs=None, penalty='l1',\n",
       "                   random_state=None, solver='liblinear', tol=0.0001, verbose=0,\n",
       "                   warm_start=False)"
      ]
     },
     "execution_count": 8,
     "metadata": {},
     "output_type": "execute_result"
    }
   ],
   "source": [
    "grid.best_estimator_"
   ]
  },
  {
   "cell_type": "code",
   "execution_count": 9,
   "metadata": {},
   "outputs": [
    {
     "data": {
      "text/plain": [
       "{'C': 100, 'penalty': 'l1'}"
      ]
     },
     "execution_count": 9,
     "metadata": {},
     "output_type": "execute_result"
    }
   ],
   "source": [
    "grid.best_params_"
   ]
  },
  {
   "cell_type": "code",
   "execution_count": 11,
   "metadata": {},
   "outputs": [
    {
     "data": {
      "text/plain": [
       "0.6717109852451912"
      ]
     },
     "execution_count": 11,
     "metadata": {},
     "output_type": "execute_result"
    }
   ],
   "source": [
    "-grid.best_score_"
   ]
  },
  {
   "cell_type": "code",
   "execution_count": 12,
   "metadata": {},
   "outputs": [
    {
     "data": {
      "text/plain": [
       "{'mean_fit_time': array([ 0.60571345,  0.98835627,  0.85237805,  1.30650496,  1.58509374,\n",
       "         2.15290705,  2.01960826,  3.10235715,  2.22936002,  4.79384486,\n",
       "         2.34539262,  7.60233307,  2.45443583, 10.69044503]),\n",
       " 'std_fit_time': array([0.01353685, 0.01232311, 0.0103012 , 0.01763465, 0.03065715,\n",
       "        0.03394375, 0.08958066, 0.00170318, 0.05804421, 0.06856498,\n",
       "        0.04144663, 0.10568589, 0.06479566, 0.54001672]),\n",
       " 'mean_score_time': array([0.11103559, 0.11735423, 0.13197875, 0.11668992, 0.10870949,\n",
       "        0.13164814, 0.11401884, 0.12267256, 0.12566455, 0.1253322 ,\n",
       "        0.10638197, 0.11369554, 0.13264585, 0.11368267]),\n",
       " 'std_score_time': array([0.0174144 , 0.01005108, 0.0195492 , 0.01205042, 0.01391461,\n",
       "        0.00814393, 0.01185615, 0.01634891, 0.00785352, 0.01547982,\n",
       "        0.00248665, 0.00570124, 0.01310492, 0.01769051]),\n",
       " 'param_C': masked_array(data=[0.001, 0.001, 0.01, 0.01, 0.1, 0.1, 1, 1, 10, 10, 100,\n",
       "                    100, 1000, 1000],\n",
       "              mask=[False, False, False, False, False, False, False, False,\n",
       "                    False, False, False, False, False, False],\n",
       "        fill_value='?',\n",
       "             dtype=object),\n",
       " 'param_penalty': masked_array(data=['l1', 'l2', 'l1', 'l2', 'l1', 'l2', 'l1', 'l2', 'l1',\n",
       "                    'l2', 'l1', 'l2', 'l1', 'l2'],\n",
       "              mask=[False, False, False, False, False, False, False, False,\n",
       "                    False, False, False, False, False, False],\n",
       "        fill_value='?',\n",
       "             dtype=object),\n",
       " 'params': [{'C': 0.001, 'penalty': 'l1'},\n",
       "  {'C': 0.001, 'penalty': 'l2'},\n",
       "  {'C': 0.01, 'penalty': 'l1'},\n",
       "  {'C': 0.01, 'penalty': 'l2'},\n",
       "  {'C': 0.1, 'penalty': 'l1'},\n",
       "  {'C': 0.1, 'penalty': 'l2'},\n",
       "  {'C': 1, 'penalty': 'l1'},\n",
       "  {'C': 1, 'penalty': 'l2'},\n",
       "  {'C': 10, 'penalty': 'l1'},\n",
       "  {'C': 10, 'penalty': 'l2'},\n",
       "  {'C': 100, 'penalty': 'l1'},\n",
       "  {'C': 100, 'penalty': 'l2'},\n",
       "  {'C': 1000, 'penalty': 'l1'},\n",
       "  {'C': 1000, 'penalty': 'l2'}],\n",
       " 'split0_test_score': array([-1.95986295, -1.89230297, -1.3769196 , -1.50195593, -0.86011423,\n",
       "        -1.05169205, -0.70092046, -0.79527907, -0.67410485, -0.70026581,\n",
       "        -0.6715992 , -0.67657233, -0.67137544, -0.67209116]),\n",
       " 'split1_test_score': array([-1.95981981, -1.89258116, -1.38151807, -1.50342652, -0.86699923,\n",
       "        -1.0554608 , -0.70575131, -0.80128458, -0.67991255, -0.70579034,\n",
       "        -0.67816192, -0.68240147, -0.67846381, -0.67844713]),\n",
       " 'split2_test_score': array([-1.95981371, -1.89272929, -1.38103592, -1.50257981, -0.86190753,\n",
       "        -1.05227917, -0.69563948, -0.79511548, -0.66768398, -0.69630502,\n",
       "        -0.66537123, -0.66993404, -0.66543162, -0.66561085]),\n",
       " 'mean_test_score': array([-1.95983216, -1.89253779, -1.3798244 , -1.50265406, -0.86300694,\n",
       "        -1.05314398, -0.70077059, -0.79722638, -0.67390067, -0.70078718,\n",
       "        -0.67171099, -0.67630283, -0.67175715, -0.67204992]),\n",
       " 'std_test_score': array([2.19162399e-05, 1.76724113e-04, 2.06355990e-03, 6.02672098e-04,\n",
       "        2.91636750e-03, 1.65567503e-03, 4.12939682e-03, 2.87035616e-03,\n",
       "        4.99425826e-03, 3.88978525e-03, 5.22224810e-03, 5.09325002e-03,\n",
       "        5.32708571e-03, 5.24034302e-03]),\n",
       " 'rank_test_score': array([14, 13, 11, 12,  9, 10,  6,  8,  4,  7,  1,  5,  2,  3]),\n",
       " 'split0_train_score': array([-1.95981377, -1.89273173, -1.37985448, -1.50259585, -0.86099776,\n",
       "        -1.05265691, -0.69345032, -0.79404048, -0.66229114, -0.69345656,\n",
       "        -0.6587144 , -0.66553202, -0.65839816, -0.65955788]),\n",
       " 'split1_train_score': array([-1.95984036, -1.89229873, -1.37910611, -1.50098657, -0.85789581,\n",
       "        -1.04964934, -0.68954383, -0.79066576, -0.65753173, -0.68945729,\n",
       "        -0.6536932 , -0.66098795, -0.65334769, -0.6546605 ]),\n",
       " 'split2_train_score': array([-1.95984233, -1.89234132, -1.37903836, -1.50288057, -0.8631793 ,\n",
       "        -1.05250152, -0.69730611, -0.79564383, -0.66622025, -0.69673369,\n",
       "        -0.66258567, -0.66938916, -0.66226101, -0.6635466 ]),\n",
       " 'mean_train_score': array([-1.95983215, -1.89245726, -1.37933298, -1.50215433, -0.86069096,\n",
       "        -1.05160259, -0.69343342, -0.79345002, -0.66201437, -0.69321585,\n",
       "        -0.65833109, -0.66530304, -0.65800229, -0.65925499]),\n",
       " 'std_train_score': array([1.30234333e-05, 1.94854800e-04, 3.69790982e-04, 8.33872899e-04,\n",
       "        2.16785653e-03, 1.38261406e-03, 3.16896268e-03, 2.07473312e-03,\n",
       "        3.55246830e-03, 2.97544944e-03, 3.64043907e-03, 3.43360255e-03,\n",
       "        3.64959864e-03, 3.63405197e-03])}"
      ]
     },
     "execution_count": 12,
     "metadata": {},
     "output_type": "execute_result"
    }
   ],
   "source": [
    "grid.cv_results_"
   ]
  },
  {
   "cell_type": "code",
   "execution_count": 13,
   "metadata": {},
   "outputs": [],
   "source": [
    "mean_test_score = grid.cv_results_['mean_test_score']\n",
    "std_test_score = grid.cv_results_['std_test_score']\n",
    "\n",
    "mean_train_score = grid.cv_results_['mean_train_score']\n",
    "std_train_score = grid.cv_results_['std_train_score']\n",
    "\n",
    "n_Cs = len(Cs)\n",
    "n_penaltys = len(penaltys)\n",
    "\n",
    "test_scores = mean_test_score.reshape(n_Cs, n_penaltys)\n",
    "train_scores = mean_train_score.reshape(n_Cs, n_penaltys)\n",
    "test_stds = std_test_score.reshape(n_Cs, n_penaltys)\n",
    "train_stds = std_train_score.reshape(n_Cs, n_penaltys)"
   ]
  },
  {
   "cell_type": "code",
   "execution_count": 15,
   "metadata": {},
   "outputs": [
    {
     "data": {
      "image/png": "[encoded data removed]",
      "text/plain": [
       "<Figure size 864x648 with 1 Axes>"
      ]
     },
     "metadata": {
      "needs_background": "light"
     },
     "output_type": "display_data"
    }
   ],
   "source": [
    "plt.figure(figsize=(12, 9))\n",
    "\n",
    "x_axis = np.log10(Cs)\n",
    "for i in range(n_penaltys):\n",
    "    plt.errorbar(x_axis, -test_scores[:, i], yerr=test_stds[:, i], label=penaltys[i] + 'Test')\n",
    "    plt.errorbar(x_axis, -train_scores[:, i], yerr=train_stds[:, i], label=penaltys[i] + 'Train')\n",
    "    \n",
    "plt.legend()\n",
    "plt.xlabel('log(C)')                                                                                                      \n",
    "plt.ylabel('logloss')\n",
    "plt.axis([-1, 4, 0.6, 1.0])\n",
    "plt.show()"
   ]
  },
  {
   "cell_type": "code",
   "execution_count": 16,
   "metadata": {},
   "outputs": [],
   "source": [
    "import pickle\n",
    "\n",
    "pickle.dump(grid.best_estimator_, open(\"Otto_L1_org_lr_and_grid.pkl\", 'wb'))"
   ]
  },
  {
   "cell_type": "markdown",
   "metadata": {},
   "source": [
    "## LogisticRegressionCV"
   ]
  },
  {
   "cell_type": "code",
   "execution_count": 20,
   "metadata": {},
   "outputs": [
    {
     "data": {
      "text/plain": [
       "LogisticRegressionCV(Cs=[0.001, 0.01, 0.1, 1, 10, 100, 1000], class_weight=None,\n",
       "                     cv=StratifiedKFold(n_splits=3, random_state=666, shuffle=True),\n",
       "                     dual=False, fit_intercept=True, intercept_scaling=1.0,\n",
       "                     l1_ratios=None, max_iter=100, multi_class='ovr', n_jobs=-1,\n",
       "                     penalty='l1', random_state=None, refit=True,\n",
       "                     scoring='neg_log_loss', solver='liblinear', tol=0.0001,\n",
       "                     verbose=0)"
      ]
     },
     "execution_count": 20,
     "metadata": {},
     "output_type": "execute_result"
    }
   ],
   "source": [
    "from sklearn.linear_model import LogisticRegressionCV\n",
    "\n",
    "Cs = [1e-3, 1e-2, 1e-1, 1, 10, 100, 1000]\n",
    "\n",
    "# 大量样本（6W+）、高维度（93），L1正则 --> 可选用saga优化求解器\n",
    "# LogisticRegressionCV 比 GridSearchCV 快\n",
    "lrcv = LogisticRegressionCV(Cs=Cs, cv=fold, scoring='neg_log_loss', penalty='l1', solver='liblinear', \n",
    "                             multi_class='ovr', n_jobs=-1)\n",
    "lrcv.fit(X_train, y_train)"
   ]
  },
  {
   "cell_type": "code",
   "execution_count": 21,
   "metadata": {},
   "outputs": [
    {
     "data": {
      "text/plain": [
       "{'Class_1': array([[-0.14540941, -0.13888326, -0.10927772, -0.08614724, -0.08266708,\n",
       "         -0.08255354, -0.08254852],\n",
       "        [-0.14541674, -0.13889331, -0.11088573, -0.08621938, -0.0838848 ,\n",
       "         -0.08403835, -0.08406948],\n",
       "        [-0.14542407, -0.13890327, -0.11042757, -0.087133  , -0.08538942,\n",
       "         -0.08571134, -0.08575832]]),\n",
       " 'Class_2': array([[-0.57507308, -0.45011152, -0.34855959, -0.3197611 , -0.31704966,\n",
       "         -0.3170371 , -0.31704243],\n",
       "        [-0.5750947 , -0.45026754, -0.34940244, -0.32252659, -0.31928555,\n",
       "         -0.31923863, -0.31924229],\n",
       "        [-0.57511632, -0.44986128, -0.34743996, -0.31901388, -0.31744454,\n",
       "         -0.3176095 , -0.3176295 ]]),\n",
       " 'Class_3': array([[-0.38749796, -0.34518835, -0.28478051, -0.26733148, -0.26498239,\n",
       "         -0.26495836, -0.26495968],\n",
       "        [-0.38751797, -0.34667748, -0.28358925, -0.2646472 , -0.26322801,\n",
       "         -0.26348834, -0.26353416],\n",
       "        [-0.38753799, -0.34489294, -0.2851527 , -0.26600111, -0.26347497,\n",
       "         -0.26332671, -0.26332105]]),\n",
       " 'Class_4': array([[-0.18415472, -0.17893305, -0.14669354, -0.13130015, -0.12853095,\n",
       "         -0.12872089, -0.12877715],\n",
       "        [-0.18416452, -0.17894572, -0.14689727, -0.13135607, -0.12841302,\n",
       "         -0.12831038, -0.12831773],\n",
       "        [-0.18417431, -0.17895839, -0.14585076, -0.12971943, -0.12690583,\n",
       "         -0.12697223, -0.12700961]]),\n",
       " 'Class_5': array([[-0.18648008, -0.07969291, -0.03832044, -0.01935046, -0.01357446,\n",
       "         -0.01242274, -0.01234971],\n",
       "        [-0.18649002, -0.082176  , -0.04182561, -0.02326768, -0.01775756,\n",
       "         -0.01791213, -0.01853594],\n",
       "        [-0.18649996, -0.08082125, -0.04191926, -0.0217482 , -0.01511507,\n",
       "         -0.01395041, -0.01412836]]),\n",
       " 'Class_6': array([[-0.53896138, -0.22319929, -0.13812259, -0.1166157 , -0.11509248,\n",
       "         -0.11530776, -0.11533686],\n",
       "        [-0.53898383, -0.22159823, -0.13391803, -0.11113253, -0.1102353 ,\n",
       "         -0.11039942, -0.11041822],\n",
       "        [-0.53895681, -0.22626156, -0.13086117, -0.10707487, -0.10557084,\n",
       "         -0.10566028, -0.10567374]]),\n",
       " 'Class_7': array([[-0.19136209, -0.17406637, -0.12579515, -0.10332123, -0.10080383,\n",
       "         -0.1008542 , -0.10086881],\n",
       "        [-0.19125602, -0.17350678, -0.1271068 , -0.10797207, -0.10653816,\n",
       "         -0.10678549, -0.10682612],\n",
       "        [-0.19126625, -0.17405296, -0.12665168, -0.10584901, -0.10357505,\n",
       "         -0.10353466, -0.10353834]]),\n",
       " 'Class_8': array([[-0.40138531, -0.29813457, -0.13216812, -0.10356931, -0.10212685,\n",
       "         -0.1022384 , -0.10225469],\n",
       "        [-0.40133013, -0.30188421, -0.13601934, -0.10902707, -0.10792671,\n",
       "         -0.10833145, -0.10838475],\n",
       "        [-0.40135062, -0.30085691, -0.13682349, -0.10517029, -0.10202667,\n",
       "         -0.10192549, -0.10191855]]),\n",
       " 'Class_9': array([[-0.28236401, -0.22341539, -0.11822107, -0.09584095, -0.09369372,\n",
       "         -0.09413137, -0.0941999 ],\n",
       "        [-0.2823794 , -0.22489024, -0.11882066, -0.09299603, -0.08949726,\n",
       "         -0.0895313 , -0.08955202],\n",
       "        [-0.28229682, -0.22015453, -0.11347343, -0.09034176, -0.08776157,\n",
       "         -0.08774887, -0.08775815]])}"
      ]
     },
     "execution_count": 21,
     "metadata": {},
     "output_type": "execute_result"
    },
    {
     "name": "stderr",
     "output_type": "stream",
     "text": [
      "E:\\Anaconda\\envs\\tensorflow-cpu\\lib\\site-packages\\sklearn\\linear_model\\sag.py:337: ConvergenceWarning: The max_iter was reached which means the coef_ did not converge\n",
      "  \"the coef_ did not converge\", ConvergenceWarning)\n",
      "E:\\Anaconda\\envs\\tensorflow-cpu\\lib\\site-packages\\sklearn\\linear_model\\sag.py:337: ConvergenceWarning: The max_iter was reached which means the coef_ did not converge\n",
      "  \"the coef_ did not converge\", ConvergenceWarning)\n"
     ]
    }
   ],
   "source": [
    "lrcv.scores_"
   ]
  },
  {
   "cell_type": "code",
   "execution_count": 22,
   "metadata": {},
   "outputs": [
    {
     "name": "stderr",
     "output_type": "stream",
     "text": [
      "E:\\Anaconda\\envs\\tensorflow-cpu\\lib\\site-packages\\sklearn\\linear_model\\sag.py:337: ConvergenceWarning: The max_iter was reached which means the coef_ did not converge\n",
      "  \"the coef_ did not converge\", ConvergenceWarning)\n"
     ]
    },
    {
     "data": {
      "text/plain": [
       "array([[-0.14540941, -0.13888326, -0.10927772, -0.08614724, -0.08266708,\n",
       "        -0.08255354, -0.08254852],\n",
       "       [-0.14541674, -0.13889331, -0.11088573, -0.08621938, -0.0838848 ,\n",
       "        -0.08403835, -0.08406948],\n",
       "       [-0.14542407, -0.13890327, -0.11042757, -0.087133  , -0.08538942,\n",
       "        -0.08571134, -0.08575832]])"
      ]
     },
     "execution_count": 22,
     "metadata": {},
     "output_type": "execute_result"
    },
    {
     "name": "stderr",
     "output_type": "stream",
     "text": [
      "E:\\Anaconda\\envs\\tensorflow-cpu\\lib\\site-packages\\sklearn\\linear_model\\sag.py:337: ConvergenceWarning: The max_iter was reached which means the coef_ did not converge\n",
      "  \"the coef_ did not converge\", ConvergenceWarning)\n",
      "E:\\Anaconda\\envs\\tensorflow-cpu\\lib\\site-packages\\sklearn\\linear_model\\sag.py:337: ConvergenceWarning: The max_iter was reached which means the coef_ did not converge\n",
      "  \"the coef_ did not converge\", ConvergenceWarning)\n"
     ]
    }
   ],
   "source": [
    "lrcv.scores_['Class_1']"
   ]
  },
  {
   "cell_type": "code",
   "execution_count": 23,
   "metadata": {},
   "outputs": [
    {
     "data": {
      "text/plain": [
       "array([[-0.14541674, -0.13889328, -0.11019701, -0.08649988, -0.08398044,\n",
       "        -0.08410108, -0.08412544],\n",
       "       [-0.5750947 , -0.45008011, -0.34846733, -0.32043386, -0.31792658,\n",
       "        -0.31796174, -0.31797141],\n",
       "       [-0.38751797, -0.34558626, -0.28450749, -0.26599326, -0.26389512,\n",
       "        -0.26392447, -0.2639383 ],\n",
       "       [-0.18416452, -0.17894572, -0.14648053, -0.13079188, -0.12794993,\n",
       "        -0.12800116, -0.12803483],\n",
       "       [-0.18649002, -0.08089672, -0.04068844, -0.02145545, -0.01548236,\n",
       "        -0.01476176, -0.01500467],\n",
       "       [-0.53896734, -0.22368636, -0.1343006 , -0.1116077 , -0.11029954,\n",
       "        -0.11045582, -0.11047627],\n",
       "       [-0.19129479, -0.17387537, -0.12651788, -0.1057141 , -0.10363901,\n",
       "        -0.10372478, -0.10374442],\n",
       "       [-0.40135535, -0.3002919 , -0.13500365, -0.10592222, -0.10402674,\n",
       "        -0.10416512, -0.104186  ],\n",
       "       [-0.28234674, -0.22282005, -0.11683838, -0.09305958, -0.09031752,\n",
       "        -0.09047051, -0.09050336]])"
      ]
     },
     "execution_count": 23,
     "metadata": {},
     "output_type": "execute_result"
    }
   ],
   "source": [
    "n_Cs = len(Cs)\n",
    "n_classes = 9\n",
    "\n",
    "scores =  np.zeros((n_classes, n_Cs))\n",
    "\n",
    "for j in range(n_classes):\n",
    "    scores[j, :] = np.mean(lrcv.scores_['Class_'+ str(j+1)], axis = 0)\n",
    "    \n",
    "scores"
   ]
  },
  {
   "cell_type": "code",
   "execution_count": 25,
   "metadata": {},
   "outputs": [
    {
     "data": {
      "text/plain": [
       "(9, 7)"
      ]
     },
     "execution_count": 25,
     "metadata": {},
     "output_type": "execute_result"
    }
   ],
   "source": [
    "scores.shape"
   ]
  },
  {
   "cell_type": "code",
   "execution_count": 26,
   "metadata": {},
   "outputs": [
    {
     "data": {
      "text/plain": [
       "array([0.32140535, 0.23500842, 0.16033348, 0.13794199, 0.13527969,\n",
       "       0.13528516, 0.13533163])"
      ]
     },
     "execution_count": 26,
     "metadata": {},
     "output_type": "execute_result"
    }
   ],
   "source": [
    "logloss_mean = -np.mean(scores, axis = 0)\n",
    "logloss_mean"
   ]
  },
  {
   "cell_type": "code",
   "execution_count": 27,
   "metadata": {},
   "outputs": [
    {
     "name": "stdout",
     "output_type": "stream",
     "text": [
      "best_C: 10\n",
      "best_score: 0.13527969390382064\n"
     ]
    }
   ],
   "source": [
    "best_C = np.argmin(logloss_mean)\n",
    "best_score = np.min(logloss_mean)\n",
    "print('best_C:', Cs[best_C])\n",
    "print('best_score:', best_score)"
   ]
  },
  {
   "cell_type": "code",
   "execution_count": 28,
   "metadata": {},
   "outputs": [
    {
     "data": {
      "image/png": "[encoded data removed]",
      "text/plain": [
       "<Figure size 720x360 with 1 Axes>"
      ]
     },
     "metadata": {
      "needs_background": "light"
     },
     "output_type": "display_data"
    }
   ],
   "source": [
    "plt.figure(figsize=(10, 5))\n",
    "plt.plot(np.log10(Cs), logloss_mean.reshape(n_Cs, 1)) \n",
    "plt.xlabel('log(C)')\n",
    "plt.ylabel('logloss')\n",
    "plt.ylim(0.1, 0.35)\n",
    "\n",
    "plt.show()"
   ]
  },
  {
   "cell_type": "code",
   "execution_count": 29,
   "metadata": {},
   "outputs": [],
   "source": [
    "# 保存模型，用于后续测试\n",
    "import pickle\n",
    "\n",
    "pickle.dump(grid.best_estimator_, open(\"Otto_L1_org_lrcv.pkl\", 'wb'))"
   ]
  }
 ],
 "metadata": {
  "kernelspec": {
   "display_name": "Python 3",
   "language": "python",
   "name": "python3"
  },
  "language_info": {
   "codemirror_mode": {
    "name": "ipython",
    "version": 3
   },
   "file_extension": ".py",
   "mimetype": "text/x-python",
   "name": "python",
   "nbconvert_exporter": "python",
   "pygments_lexer": "ipython3",
   "version": "3.6.9"
  }
 },
 "nbformat": 4,
 "nbformat_minor": 4
}
