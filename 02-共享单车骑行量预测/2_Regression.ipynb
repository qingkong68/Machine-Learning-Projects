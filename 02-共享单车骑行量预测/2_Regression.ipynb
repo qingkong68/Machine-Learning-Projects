{
 "cells": [
  {
   "cell_type": "markdown",
   "metadata": {},
   "source": [
    "# Bike Sharing 数据集上的回归分析"
   ]
  },
  {
   "cell_type": "code",
   "execution_count": 3,
   "metadata": {},
   "outputs": [
    {
     "data": {
      "text/html": [
       "<div>\n",
       "<style scoped>\n",
       "    .dataframe tbody tr th:only-of-type {\n",
       "        vertical-align: middle;\n",
       "    }\n",
       "\n",
       "    .dataframe tbody tr th {\n",
       "        vertical-align: top;\n",
       "    }\n",
       "\n",
       "    .dataframe thead th {\n",
       "        text-align: right;\n",
       "    }\n",
       "</style>\n",
       "<table border=\"1\" class=\"dataframe\">\n",
       "  <thead>\n",
       "    <tr style=\"text-align: right;\">\n",
       "      <th></th>\n",
       "      <th>instant</th>\n",
       "      <th>season_1</th>\n",
       "      <th>season_2</th>\n",
       "      <th>season_3</th>\n",
       "      <th>season_4</th>\n",
       "      <th>mnth_1</th>\n",
       "      <th>mnth_2</th>\n",
       "      <th>mnth_3</th>\n",
       "      <th>mnth_4</th>\n",
       "      <th>mnth_5</th>\n",
       "      <th>...</th>\n",
       "      <th>weekday_5</th>\n",
       "      <th>weekday_6</th>\n",
       "      <th>temp</th>\n",
       "      <th>atemp</th>\n",
       "      <th>hum</th>\n",
       "      <th>windspeed</th>\n",
       "      <th>holiday</th>\n",
       "      <th>workingday</th>\n",
       "      <th>yr</th>\n",
       "      <th>cnt</th>\n",
       "    </tr>\n",
       "  </thead>\n",
       "  <tbody>\n",
       "    <tr>\n",
       "      <td>0</td>\n",
       "      <td>1</td>\n",
       "      <td>1</td>\n",
       "      <td>0</td>\n",
       "      <td>0</td>\n",
       "      <td>0</td>\n",
       "      <td>1</td>\n",
       "      <td>0</td>\n",
       "      <td>0</td>\n",
       "      <td>0</td>\n",
       "      <td>0</td>\n",
       "      <td>...</td>\n",
       "      <td>0</td>\n",
       "      <td>1</td>\n",
       "      <td>0.355170</td>\n",
       "      <td>0.373517</td>\n",
       "      <td>0.828620</td>\n",
       "      <td>0.284606</td>\n",
       "      <td>0</td>\n",
       "      <td>0</td>\n",
       "      <td>0</td>\n",
       "      <td>985</td>\n",
       "    </tr>\n",
       "    <tr>\n",
       "      <td>1</td>\n",
       "      <td>2</td>\n",
       "      <td>1</td>\n",
       "      <td>0</td>\n",
       "      <td>0</td>\n",
       "      <td>0</td>\n",
       "      <td>1</td>\n",
       "      <td>0</td>\n",
       "      <td>0</td>\n",
       "      <td>0</td>\n",
       "      <td>0</td>\n",
       "      <td>...</td>\n",
       "      <td>0</td>\n",
       "      <td>0</td>\n",
       "      <td>0.379232</td>\n",
       "      <td>0.360541</td>\n",
       "      <td>0.715771</td>\n",
       "      <td>0.466215</td>\n",
       "      <td>0</td>\n",
       "      <td>0</td>\n",
       "      <td>0</td>\n",
       "      <td>801</td>\n",
       "    </tr>\n",
       "    <tr>\n",
       "      <td>2</td>\n",
       "      <td>3</td>\n",
       "      <td>1</td>\n",
       "      <td>0</td>\n",
       "      <td>0</td>\n",
       "      <td>0</td>\n",
       "      <td>1</td>\n",
       "      <td>0</td>\n",
       "      <td>0</td>\n",
       "      <td>0</td>\n",
       "      <td>0</td>\n",
       "      <td>...</td>\n",
       "      <td>0</td>\n",
       "      <td>0</td>\n",
       "      <td>0.171000</td>\n",
       "      <td>0.144830</td>\n",
       "      <td>0.449638</td>\n",
       "      <td>0.465740</td>\n",
       "      <td>0</td>\n",
       "      <td>1</td>\n",
       "      <td>0</td>\n",
       "      <td>1349</td>\n",
       "    </tr>\n",
       "    <tr>\n",
       "      <td>3</td>\n",
       "      <td>4</td>\n",
       "      <td>1</td>\n",
       "      <td>0</td>\n",
       "      <td>0</td>\n",
       "      <td>0</td>\n",
       "      <td>1</td>\n",
       "      <td>0</td>\n",
       "      <td>0</td>\n",
       "      <td>0</td>\n",
       "      <td>0</td>\n",
       "      <td>...</td>\n",
       "      <td>0</td>\n",
       "      <td>0</td>\n",
       "      <td>0.175530</td>\n",
       "      <td>0.174649</td>\n",
       "      <td>0.607131</td>\n",
       "      <td>0.284297</td>\n",
       "      <td>0</td>\n",
       "      <td>1</td>\n",
       "      <td>0</td>\n",
       "      <td>1562</td>\n",
       "    </tr>\n",
       "    <tr>\n",
       "      <td>4</td>\n",
       "      <td>5</td>\n",
       "      <td>1</td>\n",
       "      <td>0</td>\n",
       "      <td>0</td>\n",
       "      <td>0</td>\n",
       "      <td>1</td>\n",
       "      <td>0</td>\n",
       "      <td>0</td>\n",
       "      <td>0</td>\n",
       "      <td>0</td>\n",
       "      <td>...</td>\n",
       "      <td>0</td>\n",
       "      <td>0</td>\n",
       "      <td>0.209120</td>\n",
       "      <td>0.197158</td>\n",
       "      <td>0.449313</td>\n",
       "      <td>0.339143</td>\n",
       "      <td>0</td>\n",
       "      <td>1</td>\n",
       "      <td>0</td>\n",
       "      <td>1600</td>\n",
       "    </tr>\n",
       "  </tbody>\n",
       "</table>\n",
       "<p>5 rows × 35 columns</p>\n",
       "</div>"
      ],
      "text/plain": [
       "   instant  season_1  season_2  season_3  season_4  mnth_1  mnth_2  mnth_3  \\\n",
       "0        1         1         0         0         0       1       0       0   \n",
       "1        2         1         0         0         0       1       0       0   \n",
       "2        3         1         0         0         0       1       0       0   \n",
       "3        4         1         0         0         0       1       0       0   \n",
       "4        5         1         0         0         0       1       0       0   \n",
       "\n",
       "   mnth_4  mnth_5  ...  weekday_5  weekday_6      temp     atemp       hum  \\\n",
       "0       0       0  ...          0          1  0.355170  0.373517  0.828620   \n",
       "1       0       0  ...          0          0  0.379232  0.360541  0.715771   \n",
       "2       0       0  ...          0          0  0.171000  0.144830  0.449638   \n",
       "3       0       0  ...          0          0  0.175530  0.174649  0.607131   \n",
       "4       0       0  ...          0          0  0.209120  0.197158  0.449313   \n",
       "\n",
       "   windspeed  holiday  workingday  yr   cnt  \n",
       "0   0.284606        0           0   0   985  \n",
       "1   0.466215        0           0   0   801  \n",
       "2   0.465740        0           1   0  1349  \n",
       "3   0.284297        0           1   0  1562  \n",
       "4   0.339143        0           1   0  1600  \n",
       "\n",
       "[5 rows x 35 columns]"
      ]
     },
     "execution_count": 3,
     "metadata": {},
     "output_type": "execute_result"
    }
   ],
   "source": [
    "import pandas as pd\n",
    "import numpy as np\n",
    "import matplotlib.pyplot as plt\n",
    "%matplotlib inline\n",
    "\n",
    "dpath = './data/'\n",
    "data = pd.read_csv(dpath + 'FE_day.csv')\n",
    "data.head()"
   ]
  },
  {
   "cell_type": "code",
   "execution_count": 4,
   "metadata": {},
   "outputs": [
    {
     "data": {
      "text/plain": [
       "(584, 34)"
      ]
     },
     "execution_count": 4,
     "metadata": {},
     "output_type": "execute_result"
    }
   ],
   "source": [
    "y = data.cnt\n",
    "X = data.drop('cnt', axis=1)\n",
    "\n",
    "from sklearn.model_selection import train_test_split\n",
    "\n",
    "X_train, X_test, y_train, y_test = train_test_split(X, y, test_size=0.2, random_state=0)\n",
    "X_train.shape"
   ]
  },
  {
   "cell_type": "code",
   "execution_count": 5,
   "metadata": {},
   "outputs": [
    {
     "name": "stderr",
     "output_type": "stream",
     "text": [
      "E:\\Anaconda\\envs\\tensorflow-cpu\\lib\\site-packages\\pandas\\core\\frame.py:4102: SettingWithCopyWarning: \n",
      "A value is trying to be set on a copy of a slice from a DataFrame\n",
      "\n",
      "See the caveats in the documentation: http://pandas.pydata.org/pandas-docs/stable/user_guide/indexing.html#returning-a-view-versus-a-copy\n",
      "  errors=errors,\n"
     ]
    }
   ],
   "source": [
    "testID = X_test['instant']\n",
    "\n",
    "X_train.drop(['instant'], axis=1, inplace = True)\n",
    "X_test.drop(['instant'], axis=1, inplace = True)\n",
    "\n",
    "feat_names = X_train.columns"
   ]
  },
  {
   "cell_type": "markdown",
   "metadata": {},
   "source": [
    "## 1.Linear Regression without regularization\n",
    "最小二乘线性回归\n",
    "最小二乘没有超参数需要调优，直接用全体训练数据训练模型"
   ]
  },
  {
   "cell_type": "code",
   "execution_count": 6,
   "metadata": {},
   "outputs": [
    {
     "data": {
      "text/plain": [
       "LinearRegression(copy_X=True, fit_intercept=True, n_jobs=None, normalize=False)"
      ]
     },
     "execution_count": 6,
     "metadata": {},
     "output_type": "execute_result"
    }
   ],
   "source": [
    "from sklearn.linear_model import LinearRegression\n",
    "from sklearn.metrics import r2_score, mean_squared_error\n",
    "\n",
    "lr = LinearRegression()\n",
    "lr.fit(X_train, y_train)"
   ]
  },
  {
   "cell_type": "code",
   "execution_count": 7,
   "metadata": {},
   "outputs": [
    {
     "name": "stdout",
     "output_type": "stream",
     "text": [
      "RMSE on Training set : 752.2641169543666\n",
      "RMSE on Test set : 785.609115051007\n",
      "r2_score on Training set : 0.8436740400232239\n",
      "r2_score on Test set : 0.8548880893459053\n"
     ]
    }
   ],
   "source": [
    "y_train_pred = lr.predict(X_train)\n",
    "y_test_pred = lr.predict(X_test)\n",
    "\n",
    "rmse_train = np.sqrt(mean_squared_error(y_train, y_train_pred))\n",
    "rmse_test = np.sqrt(mean_squared_error(y_test, y_test_pred))\n",
    "print(\"RMSE on Training set :\", rmse_train)\n",
    "print(\"RMSE on Test set :\", rmse_test)\n",
    "\n",
    "r2_score_train = r2_score(y_train, y_train_pred)\n",
    "r2_score_test = r2_score(y_test, y_test_pred)\n",
    "print(\"r2_score on Training set :\", r2_score_train)\n",
    "print(\"r2_score on Test set :\", r2_score_test)"
   ]
  },
  {
   "cell_type": "code",
   "execution_count": 8,
   "metadata": {},
   "outputs": [
    {
     "data": {
      "text/plain": [
       "array([ -804.64804582,    45.68500053,    58.09108259,   700.87196269,\n",
       "        -281.06463485,  -186.42363521,   238.55005026,    32.66932106,\n",
       "         427.12124864,     4.08599721,  -429.2588373 ,    48.76684032,\n",
       "         664.02536558,   215.19726972,  -405.00773932,  -328.66124609,\n",
       "         718.86265112,   361.71909201, -1080.58174312,  -156.67384234,\n",
       "        -148.1020523 ,   -53.85635947,    -9.71054887,    54.37546294,\n",
       "          78.2901677 ,   235.67717232,  2815.80146724,  1075.71122802,\n",
       "       -1884.93624337, -1512.25510289,  -228.90398686,   149.90065687,\n",
       "        1938.70043415])"
      ]
     },
     "execution_count": 8,
     "metadata": {},
     "output_type": "execute_result"
    }
   ],
   "source": [
    "lr.coef_"
   ]
  },
  {
   "cell_type": "code",
   "execution_count": 10,
   "metadata": {},
   "outputs": [
    {
     "data": {
      "text/plain": [
       "season_1        -804.648046\n",
       "season_2          45.685001\n",
       "season_3          58.091083\n",
       "season_4         700.871963\n",
       "mnth_1          -281.064635\n",
       "mnth_2          -186.423635\n",
       "mnth_3           238.550050\n",
       "mnth_4            32.669321\n",
       "mnth_5           427.121249\n",
       "mnth_6             4.085997\n",
       "mnth_7          -429.258837\n",
       "mnth_8            48.766840\n",
       "mnth_9           664.025366\n",
       "mnth_10          215.197270\n",
       "mnth_11         -405.007739\n",
       "mnth_12         -328.661246\n",
       "weathersit_1     718.862651\n",
       "weathersit_2     361.719092\n",
       "weathersit_3   -1080.581743\n",
       "weekday_0       -156.673842\n",
       "weekday_1       -148.102052\n",
       "weekday_2        -53.856359\n",
       "weekday_3         -9.710549\n",
       "weekday_4         54.375463\n",
       "weekday_5         78.290168\n",
       "weekday_6        235.677172\n",
       "temp            2815.801467\n",
       "atemp           1075.711228\n",
       "hum            -1884.936243\n",
       "windspeed      -1512.255103\n",
       "holiday         -228.903987\n",
       "workingday       149.900657\n",
       "yr              1938.700434\n",
       "dtype: float64"
      ]
     },
     "execution_count": 10,
     "metadata": {},
     "output_type": "execute_result"
    }
   ],
   "source": [
    "coefs = pd.Series(lr.coef_, index = feat_names)\n",
    "coefs"
   ]
  },
  {
   "cell_type": "code",
   "execution_count": 12,
   "metadata": {},
   "outputs": [
    {
     "name": "stdout",
     "output_type": "stream",
     "text": [
      "OLS picked 33 features and eliminated the other 0 features\n",
      "hum            -1884.936243\n",
      "windspeed      -1512.255103\n",
      "weathersit_3   -1080.581743\n",
      "season_1        -804.648046\n",
      "mnth_7          -429.258837\n",
      "mnth_11         -405.007739\n",
      "mnth_12         -328.661246\n",
      "mnth_1          -281.064635\n",
      "holiday         -228.903987\n",
      "mnth_2          -186.423635\n",
      "weekday_6        235.677172\n",
      "mnth_3           238.550050\n",
      "weathersit_2     361.719092\n",
      "mnth_5           427.121249\n",
      "mnth_9           664.025366\n",
      "season_4         700.871963\n",
      "weathersit_1     718.862651\n",
      "atemp           1075.711228\n",
      "yr              1938.700434\n",
      "temp            2815.801467\n",
      "dtype: float64\n"
     ]
    },
    {
     "data": {
      "image/png": "[encoded data removed]",
      "text/plain": [
       "<Figure size 864x432 with 1 Axes>"
      ]
     },
     "metadata": {
      "needs_background": "light"
     },
     "output_type": "display_data"
    }
   ],
   "source": [
    "print(\"OLS picked \" + str(sum(coefs != 0)) + \" features and eliminated the other \" +  \\\n",
    "      str(sum(coefs == 0)) + \" features\")\n",
    "\n",
    "imp_coefs = pd.concat([coefs.sort_values().head(10), coefs.sort_values().tail(10)])\n",
    "print(imp_coefs)\n",
    "\n",
    "plt.figure(figsize=(12, 6))\n",
    "imp_coefs.plot(kind = \"barh\")\n",
    "plt.title(\"Coefficients in the OLS Model\")\n",
    "plt.show()"
   ]
  },
  {
   "cell_type": "markdown",
   "metadata": {},
   "source": [
    "系数的值非常大。由于特征之间强相关，OLS模型的性能并不好"
   ]
  },
  {
   "cell_type": "markdown",
   "metadata": {},
   "source": [
    "## 2.Linear Regression with Ridge regularization (L2 penalty)"
   ]
  },
  {
   "cell_type": "code",
   "execution_count": 15,
   "metadata": {},
   "outputs": [
    {
     "name": "stdout",
     "output_type": "stream",
     "text": [
      "Best alpha : 1.0198989898989899\n"
     ]
    }
   ],
   "source": [
    "from sklearn.linear_model import RidgeCV\n",
    "\n",
    "alphas = np.linspace(0.01, 50, num=100)\n",
    "ridge = RidgeCV(alphas=alphas, store_cv_values=True)\n",
    "ridge.fit(X_train, y_train)\n",
    "print(\"Best alpha :\", ridge.alpha_)"
   ]
  },
  {
   "cell_type": "code",
   "execution_count": 24,
   "metadata": {},
   "outputs": [
    {
     "data": {
      "text/plain": [
       "array([804.98946948, 798.34429432, 797.95614386, 798.32478073,\n",
       "       799.08045233, 800.07595173, 801.23235346, 802.50201722,\n",
       "       803.85419203, 805.26808663, 806.72913145, 808.22681275,\n",
       "       809.75335238, 811.30287101, 812.87084044, 814.45371517,\n",
       "       816.04867867, 817.65346475, 819.26622943, 820.88545734,\n",
       "       822.50989219, 824.13848447, 825.77035135, 827.40474579,\n",
       "       829.04103219, 830.67866723, 832.31718444, 833.95618182,\n",
       "       835.59531171, 837.23427249, 838.87280169, 840.51067032,\n",
       "       842.14767805, 843.78364919, 845.41842933, 847.05188238,\n",
       "       848.68388817, 850.31434029, 851.94314432, 853.57021625,\n",
       "       855.19548112, 856.81887191, 858.44032848, 860.0597967 ,\n",
       "       861.67722771, 863.29257726, 864.9058051 , 866.51687452,\n",
       "       868.12575185, 869.73240615, 871.33680881, 872.93893329,\n",
       "       874.53875486, 876.13625035, 877.731398  , 879.32417725,\n",
       "       880.91456861, 882.50255352, 884.08811423, 885.67123372,\n",
       "       887.25189561, 888.83008407, 890.40578377, 891.97897982,\n",
       "       893.54965772, 895.11780333, 896.68340281, 898.24644262,\n",
       "       899.80690947, 901.36479031, 902.92007232, 904.47274287,\n",
       "       906.02278954, 907.57020009, 909.11496244, 910.65706469,\n",
       "       912.19649512, 913.73324216, 915.26729438, 916.79864054,\n",
       "       918.32726954, 919.85317044, 921.37633246, 922.89674497,\n",
       "       924.41439752, 925.9292798 , 927.44138167, 928.95069317,\n",
       "       930.4572045 , 931.96090603, 933.46178829, 934.95984201,\n",
       "       936.45505808, 937.94742758, 939.43694175, 940.92359204,\n",
       "       942.40737008, 943.88826768, 945.36627683, 946.84138974])"
      ]
     },
     "execution_count": 24,
     "metadata": {},
     "output_type": "execute_result"
    }
   ],
   "source": [
    "mse_mean = np.mean(ridge.cv_values_, axis=0)\n",
    "rmse_mean = np.sqrt(mse_mean)\n",
    "rmse_mean"
   ]
  },
  {
   "cell_type": "code",
   "execution_count": 21,
   "metadata": {},
   "outputs": [
    {
     "name": "stdout",
     "output_type": "stream",
     "text": [
      "RMSE on Training set : 754.0887759882739\n",
      "RMSE on Test set : 776.9040181561336\n",
      "r2_score on Training set : 0.8429147654455016\n",
      "r2_score on Test set : 0.8580861545844983\n"
     ]
    }
   ],
   "source": [
    "y_train_pred = ridge.predict(X_train)\n",
    "rmse_train = np.sqrt(mean_squared_error(y_train, y_train_pred))\n",
    "\n",
    "y_test_pred = ridge.predict(X_test)\n",
    "rmse_test = np.sqrt(mean_squared_error(y_test, y_test_pred))\n",
    "\n",
    "print(\"RMSE on Training set :\", rmse_train)\n",
    "print(\"RMSE on Test set :\" , rmse_test)\n",
    "\n",
    "r2_score_train = r2_score(y_train, y_train_pred)\n",
    "r2_score_test = r2_score(y_test, y_test_pred)\n",
    "print(\"r2_score on Training set :\" , r2_score_train)\n",
    "print(\"r2_score on Test set :\" , r2_score_test)"
   ]
  },
  {
   "cell_type": "code",
   "execution_count": 27,
   "metadata": {},
   "outputs": [
    {
     "name": "stdout",
     "output_type": "stream",
     "text": [
      "Ridge picked 33 features and eliminated the other 0 features\n"
     ]
    },
    {
     "data": {
      "image/png": "[encoded data removed]",
      "text/plain": [
       "<Figure size 720x432 with 1 Axes>"
      ]
     },
     "metadata": {
      "needs_background": "light"
     },
     "output_type": "display_data"
    },
    {
     "data": {
      "image/png": "[encoded data removed]",
      "text/plain": [
       "<Figure size 720x432 with 1 Axes>"
      ]
     },
     "metadata": {
      "needs_background": "light"
     },
     "output_type": "display_data"
    }
   ],
   "source": [
    "coefs = pd.Series(ridge.coef_, index = feat_names)\n",
    "print(\"Ridge picked \" + str(sum(coefs != 0)) + \" features and eliminated the other \" +  \\\n",
    "      str(sum(coefs == 0)) + \" features\")\n",
    "\n",
    "#正系数值最大的10个特征和负系数值最小（绝对值大）的10个特征\n",
    "imp_coefs = pd.concat([coefs.sort_values().head(10),\n",
    "                     coefs.sort_values().tail(10)])\n",
    "\n",
    "plt.figure(figsize=(10, 6))\n",
    "imp_coefs.plot(kind = \"barh\")\n",
    "plt.title(\"Coefficients in the Ridge Model\")\n",
    "plt.show()\n",
    "\n",
    "plt.figure(figsize=(10, 6))\n",
    "plt.plot(np.log10(alphas), rmse_mean) \n",
    "plt.scatter(np.log10(ridge.alpha_), rmse_mean[np.log10(alphas)==np.log10(ridge.alpha_)], c='r', marker='*')\n",
    "plt.xlabel('log(alpha)')\n",
    "plt.ylabel('rmse')\n",
    "plt.show()"
   ]
  },
  {
   "cell_type": "markdown",
   "metadata": {},
   "source": [
    "相比OLS，岭回归模型增加了L2正则，系数值进行了收缩。\n",
    "由于增加正则限制了模型复杂度，相比OLS模型，岭回归模型在训练集上的误差略有增大，但在测试集上的误差有所减小。"
   ]
  },
  {
   "cell_type": "markdown",
   "metadata": {},
   "source": [
    "## 3.Linear Regression with Lasso regularization (L1 penalty)"
   ]
  },
  {
   "cell_type": "code",
   "execution_count": 28,
   "metadata": {},
   "outputs": [
    {
     "name": "stdout",
     "output_type": "stream",
     "text": [
      "Best alpha : 2.336453166053946\n"
     ]
    },
    {
     "name": "stderr",
     "output_type": "stream",
     "text": [
      "E:\\Anaconda\\envs\\tensorflow-cpu\\lib\\site-packages\\sklearn\\model_selection\\_split.py:1978: FutureWarning: The default value of cv will change from 3 to 5 in version 0.22. Specify it explicitly to silence this warning.\n",
      "  warnings.warn(CV_WARNING, FutureWarning)\n"
     ]
    }
   ],
   "source": [
    "from sklearn.linear_model import LassoCV\n",
    "\n",
    "lasso = LassoCV()\n",
    "lasso.fit(X_train, y_train)\n",
    "alpha = lasso.alpha_\n",
    "print(\"Best alpha :\" , alpha)"
   ]
  },
  {
   "cell_type": "code",
   "execution_count": 30,
   "metadata": {},
   "outputs": [
    {
     "data": {
      "text/plain": [
       "array([539.75098518, 503.37357526, 469.44788102, 437.80866502,\n",
       "       408.3018263 , 380.78364974, 355.12010619, 331.18619958,\n",
       "       308.86535817, 288.04886676, 268.63533721, 250.53021457,\n",
       "       233.64531661, 217.89840425, 203.21278108, 189.51691977,\n",
       "       176.74411367, 164.83215195, 153.72301658, 143.36259976,\n",
       "       133.70044035, 124.68947815, 116.28582464, 108.44854926,\n",
       "       101.13948   ,  94.32301755,  87.96596186,  82.03735044,\n",
       "        76.50830759,  71.35190372,  66.54302422,  62.0582471 ,\n",
       "        57.87572895,  53.97509852,  50.33735753,  46.9447881 ,\n",
       "        43.7808665 ,  40.83018263,  38.07836497,  35.51201062,\n",
       "        33.11861996,  30.88653582,  28.80488668,  26.86353372,\n",
       "        25.05302146,  23.36453166,  21.78984042,  20.32127811,\n",
       "        18.95169198,  17.67441137,  16.48321519,  15.37230166,\n",
       "        14.33625998,  13.37004404,  12.46894782,  11.62858246,\n",
       "        10.84485493,  10.113948  ,   9.43230176,   8.79659619,\n",
       "         8.20373504,   7.65083076,   7.13519037,   6.65430242,\n",
       "         6.20582471,   5.78757289,   5.39750985,   5.03373575,\n",
       "         4.69447881,   4.37808665,   4.08301826,   3.8078365 ,\n",
       "         3.55120106,   3.311862  ,   3.08865358,   2.88048867,\n",
       "         2.68635337,   2.50530215,   2.33645317,   2.17898404,\n",
       "         2.03212781,   1.8951692 ,   1.76744114,   1.64832152,\n",
       "         1.53723017,   1.433626  ,   1.3370044 ,   1.24689478,\n",
       "         1.16285825,   1.08448549,   1.0113948 ,   0.94323018,\n",
       "         0.87965962,   0.8203735 ,   0.76508308,   0.71351904,\n",
       "         0.66543024,   0.62058247,   0.57875729,   0.53975099])"
      ]
     },
     "execution_count": 30,
     "metadata": {},
     "output_type": "execute_result"
    }
   ],
   "source": [
    "lasso.alphas_"
   ]
  },
  {
   "cell_type": "code",
   "execution_count": 39,
   "metadata": {},
   "outputs": [
    {
     "data": {
      "text/plain": [
       "array([1900.50547786, 1862.81149   , 1827.06897867, 1784.29618567,\n",
       "       1720.50865875, 1658.6832452 , 1602.98651419, 1552.93400081,\n",
       "       1508.06326872, 1467.93420787, 1432.09240454, 1398.8834745 ,\n",
       "       1367.90032682, 1339.95293517, 1315.12431911, 1290.4806003 ,\n",
       "       1262.69773224, 1234.67706919, 1203.13541012, 1174.64938806,\n",
       "       1144.41019072, 1116.95639   , 1092.48461388, 1070.76562219,\n",
       "       1051.52771194, 1034.52220276, 1019.51683744, 1006.29931636,\n",
       "        994.74940185,  984.68243237,  975.83193011,  966.86126128,\n",
       "        958.432518  ,  950.96813358,  944.53388534,  938.79791851,\n",
       "        933.96359457,  928.59131436,  923.27330252,  918.89208423,\n",
       "        914.98149283,  911.37335993,  908.2394348 ,  905.38954722,\n",
       "        902.47701624,  899.72033239,  895.6868328 ,  891.38712615,\n",
       "        887.68255275,  883.94939428,  880.63582787,  876.94139714,\n",
       "        872.18891316,  867.92750431,  863.67591637,  859.4208311 ,\n",
       "        855.6599015 ,  852.36136917,  848.91449048,  845.964299  ,\n",
       "        843.40527871,  841.18349657,  839.2741256 ,  837.64805833,\n",
       "        836.21166066,  834.96668568,  833.91770853,  832.93230622,\n",
       "        832.01814741,  831.23745668,  830.56847642,  829.96991436,\n",
       "        829.45022619,  829.05178079,  828.84855822,  828.71858975,\n",
       "        828.62939597,  828.5751236 ,  828.55504605,  828.57584156,\n",
       "        828.64179816,  828.7663991 ,  828.90325963,  829.04494571,\n",
       "        829.19065255,  829.33592286,  829.47997449,  829.62436778,\n",
       "        829.77400693,  830.0055476 ,  830.23739951,  830.45889435,\n",
       "        830.67207651,  830.87363479,  831.05766589,  831.24505455,\n",
       "        831.41655387,  831.57941684,  831.7344635 ,  831.87791756])"
      ]
     },
     "execution_count": 39,
     "metadata": {},
     "output_type": "execute_result"
    }
   ],
   "source": [
    "mse_mean = np.mean(lasso.mse_path_, axis=1)\n",
    "rmse_mean = np.sqrt(mse_mean)\n",
    "rmse_mean"
   ]
  },
  {
   "cell_type": "code",
   "execution_count": 41,
   "metadata": {},
   "outputs": [
    {
     "name": "stdout",
     "output_type": "stream",
     "text": [
      "Ridge picked 27 features and eliminated the other 6 features\n"
     ]
    },
    {
     "data": {
      "image/png": "[encoded data removed]",
      "text/plain": [
       "<Figure size 720x432 with 1 Axes>"
      ]
     },
     "metadata": {
      "needs_background": "light"
     },
     "output_type": "display_data"
    },
    {
     "data": {
      "image/png": "[encoded data removed]",
      "text/plain": [
       "<Figure size 720x432 with 1 Axes>"
      ]
     },
     "metadata": {
      "needs_background": "light"
     },
     "output_type": "display_data"
    }
   ],
   "source": [
    "coefs = pd.Series(lasso.coef_, index = feat_names)\n",
    "print(\"Ridge picked \" + str(sum(coefs != 0)) + \" features and eliminated the other \" +  \\\n",
    "      str(sum(coefs == 0)) + \" features\")\n",
    "\n",
    "#正系数值最大的10个特征和负系数值最小（绝对值大）的10个特征\n",
    "imp_coefs = pd.concat([coefs.sort_values().head(10),\n",
    "                     coefs.sort_values().tail(10)])\n",
    "\n",
    "plt.figure(figsize=(10, 6))\n",
    "imp_coefs.plot(kind = \"barh\")\n",
    "plt.title(\"Coefficients in the Lasso Model\")\n",
    "plt.show()\n",
    "\n",
    "alphas = lasso.alphas_\n",
    "\n",
    "plt.figure(figsize=(10, 6))\n",
    "plt.plot(np.log10(alphas), rmse_mean) \n",
    "plt.scatter(np.log10(lasso.alpha_), rmse_mean[np.log10(alphas)==np.log10(lasso.alpha_)], c='r', marker='*')\n",
    "plt.xlabel('log(alpha)')\n",
    "plt.ylabel('rmse')\n",
    "plt.show()"
   ]
  },
  {
   "cell_type": "code",
   "execution_count": 43,
   "metadata": {},
   "outputs": [
    {
     "name": "stdout",
     "output_type": "stream",
     "text": [
      "RMSE on Training set : 754.2656275844785\n",
      "RMSE on Test set : 786.6230585764281\n",
      "r2_score on Training set : 0.8428410764237866\n",
      "r2_score on Test set : 0.8545132713117076\n"
     ]
    }
   ],
   "source": [
    "#训练误差\n",
    "y_train_pred = lasso.predict(X_train)\n",
    "rmse_train = np.sqrt(mean_squared_error(y_train, y_train_pred))\n",
    "print(\"RMSE on Training set :\" , rmse_train)\n",
    "\n",
    "#测试误差\n",
    "y_test_pred = lasso.predict(X_test)\n",
    "rmse_test = np.sqrt(mean_squared_error(y_test, y_test_pred))\n",
    "print(\"RMSE on Test set :\" , rmse_test)\n",
    "\n",
    "r2_score_train = r2_score(y_train, y_train_pred)\n",
    "r2_score_test = r2_score(y_test, y_test_pred)\n",
    "print(\"r2_score on Training set :\" , r2_score_train)\n",
    "print(\"r2_score on Test set :\" , r2_score_test)"
   ]
  },
  {
   "cell_type": "markdown",
   "metadata": {},
   "source": [
    "Lasso模型增加了L1正则，系数值进行了收缩，同时有些特征的系数为0。 在这个例子中，岭回归模型比Lasso模型性能稍好。"
   ]
  },
  {
   "cell_type": "code",
   "execution_count": 46,
   "metadata": {},
   "outputs": [],
   "source": [
    "# 对测试集进行测试，生成提交文件\n",
    "y_test_pred = ridge.predict(X_test)\n",
    "df = pd.DataFrame({\"instant\":testID, 'cnt':y_test_pred})\n",
    "df.to_csv(dpath + 'submission.csv')"
   ]
  },
  {
   "cell_type": "code",
   "execution_count": 47,
   "metadata": {},
   "outputs": [
    {
     "data": {
      "text/html": [
       "<div>\n",
       "<style scoped>\n",
       "    .dataframe tbody tr th:only-of-type {\n",
       "        vertical-align: middle;\n",
       "    }\n",
       "\n",
       "    .dataframe tbody tr th {\n",
       "        vertical-align: top;\n",
       "    }\n",
       "\n",
       "    .dataframe thead th {\n",
       "        text-align: right;\n",
       "    }\n",
       "</style>\n",
       "<table border=\"1\" class=\"dataframe\">\n",
       "  <thead>\n",
       "    <tr style=\"text-align: right;\">\n",
       "      <th></th>\n",
       "      <th>instant</th>\n",
       "      <th>cnt</th>\n",
       "    </tr>\n",
       "  </thead>\n",
       "  <tbody>\n",
       "    <tr>\n",
       "      <td>196</td>\n",
       "      <td>197</td>\n",
       "      <td>4445.330242</td>\n",
       "    </tr>\n",
       "    <tr>\n",
       "      <td>187</td>\n",
       "      <td>188</td>\n",
       "      <td>4714.800464</td>\n",
       "    </tr>\n",
       "    <tr>\n",
       "      <td>14</td>\n",
       "      <td>15</td>\n",
       "      <td>1419.777931</td>\n",
       "    </tr>\n",
       "    <tr>\n",
       "      <td>31</td>\n",
       "      <td>32</td>\n",
       "      <td>1070.674439</td>\n",
       "    </tr>\n",
       "    <tr>\n",
       "      <td>390</td>\n",
       "      <td>391</td>\n",
       "      <td>3651.194100</td>\n",
       "    </tr>\n",
       "  </tbody>\n",
       "</table>\n",
       "</div>"
      ],
      "text/plain": [
       "     instant          cnt\n",
       "196      197  4445.330242\n",
       "187      188  4714.800464\n",
       "14        15  1419.777931\n",
       "31        32  1070.674439\n",
       "390      391  3651.194100"
      ]
     },
     "execution_count": 47,
     "metadata": {},
     "output_type": "execute_result"
    }
   ],
   "source": [
    "df.head()"
   ]
  }
 ],
 "metadata": {
  "kernelspec": {
   "display_name": "Python 3",
   "language": "python",
   "name": "python3"
  },
  "language_info": {
   "codemirror_mode": {
    "name": "ipython",
    "version": 3
   },
   "file_extension": ".py",
   "mimetype": "text/x-python",
   "name": "python",
   "nbconvert_exporter": "python",
   "pygments_lexer": "ipython3",
   "version": "3.6.9"
  }
 },
 "nbformat": 4,
 "nbformat_minor": 4
}
