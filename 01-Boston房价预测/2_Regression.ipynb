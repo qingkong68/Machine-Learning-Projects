{
 "cells": [
  {
   "cell_type": "markdown",
   "metadata": {},
   "source": [
    "# 波士顿房价预测案例——线性回归分析"
   ]
  },
  {
   "cell_type": "code",
   "execution_count": 2,
   "metadata": {},
   "outputs": [
    {
     "data": {
      "text/html": [
       "<div>\n",
       "<style scoped>\n",
       "    .dataframe tbody tr th:only-of-type {\n",
       "        vertical-align: middle;\n",
       "    }\n",
       "\n",
       "    .dataframe tbody tr th {\n",
       "        vertical-align: top;\n",
       "    }\n",
       "\n",
       "    .dataframe thead th {\n",
       "        text-align: right;\n",
       "    }\n",
       "</style>\n",
       "<table border=\"1\" class=\"dataframe\">\n",
       "  <thead>\n",
       "    <tr style=\"text-align: right;\">\n",
       "      <th></th>\n",
       "      <th>CRIM</th>\n",
       "      <th>ZN</th>\n",
       "      <th>INDUS</th>\n",
       "      <th>CHAS</th>\n",
       "      <th>NOX</th>\n",
       "      <th>RM</th>\n",
       "      <th>AGE</th>\n",
       "      <th>DIS</th>\n",
       "      <th>TAX</th>\n",
       "      <th>PTRATIO</th>\n",
       "      <th>...</th>\n",
       "      <th>RAD_2</th>\n",
       "      <th>RAD_3</th>\n",
       "      <th>RAD_4</th>\n",
       "      <th>RAD_5</th>\n",
       "      <th>RAD_6</th>\n",
       "      <th>RAD_7</th>\n",
       "      <th>RAD_8</th>\n",
       "      <th>RAD_24</th>\n",
       "      <th>MEDV</th>\n",
       "      <th>log_MEDV</th>\n",
       "    </tr>\n",
       "  </thead>\n",
       "  <tbody>\n",
       "    <tr>\n",
       "      <td>0</td>\n",
       "      <td>-0.417401</td>\n",
       "      <td>0.302696</td>\n",
       "      <td>-1.291856</td>\n",
       "      <td>-0.250812</td>\n",
       "      <td>-0.139895</td>\n",
       "      <td>0.505040</td>\n",
       "      <td>-0.109432</td>\n",
       "      <td>0.121208</td>\n",
       "      <td>-0.667101</td>\n",
       "      <td>-1.415179</td>\n",
       "      <td>...</td>\n",
       "      <td>0</td>\n",
       "      <td>0</td>\n",
       "      <td>0</td>\n",
       "      <td>0</td>\n",
       "      <td>0</td>\n",
       "      <td>0</td>\n",
       "      <td>0</td>\n",
       "      <td>0</td>\n",
       "      <td>0.300878</td>\n",
       "      <td>0.446452</td>\n",
       "    </tr>\n",
       "    <tr>\n",
       "      <td>1</td>\n",
       "      <td>-0.414992</td>\n",
       "      <td>-0.486479</td>\n",
       "      <td>-0.593329</td>\n",
       "      <td>-0.250812</td>\n",
       "      <td>-0.731821</td>\n",
       "      <td>0.269017</td>\n",
       "      <td>0.377488</td>\n",
       "      <td>0.537330</td>\n",
       "      <td>-0.988734</td>\n",
       "      <td>-0.516361</td>\n",
       "      <td>...</td>\n",
       "      <td>1</td>\n",
       "      <td>0</td>\n",
       "      <td>0</td>\n",
       "      <td>0</td>\n",
       "      <td>0</td>\n",
       "      <td>0</td>\n",
       "      <td>0</td>\n",
       "      <td>0</td>\n",
       "      <td>-0.004571</td>\n",
       "      <td>0.166718</td>\n",
       "    </tr>\n",
       "    <tr>\n",
       "      <td>2</td>\n",
       "      <td>-0.414995</td>\n",
       "      <td>-0.486479</td>\n",
       "      <td>-0.593329</td>\n",
       "      <td>-0.250812</td>\n",
       "      <td>-0.731821</td>\n",
       "      <td>1.439934</td>\n",
       "      <td>-0.255152</td>\n",
       "      <td>0.537330</td>\n",
       "      <td>-0.988734</td>\n",
       "      <td>-0.516361</td>\n",
       "      <td>...</td>\n",
       "      <td>1</td>\n",
       "      <td>0</td>\n",
       "      <td>0</td>\n",
       "      <td>0</td>\n",
       "      <td>0</td>\n",
       "      <td>0</td>\n",
       "      <td>0</td>\n",
       "      <td>0</td>\n",
       "      <td>1.662674</td>\n",
       "      <td>1.433933</td>\n",
       "    </tr>\n",
       "    <tr>\n",
       "      <td>3</td>\n",
       "      <td>-0.414412</td>\n",
       "      <td>-0.486479</td>\n",
       "      <td>-1.310933</td>\n",
       "      <td>-0.250812</td>\n",
       "      <td>-0.826186</td>\n",
       "      <td>1.153335</td>\n",
       "      <td>-0.798939</td>\n",
       "      <td>1.056878</td>\n",
       "      <td>-1.107857</td>\n",
       "      <td>-0.066953</td>\n",
       "      <td>...</td>\n",
       "      <td>0</td>\n",
       "      <td>1</td>\n",
       "      <td>0</td>\n",
       "      <td>0</td>\n",
       "      <td>0</td>\n",
       "      <td>0</td>\n",
       "      <td>0</td>\n",
       "      <td>0</td>\n",
       "      <td>1.497222</td>\n",
       "      <td>1.331120</td>\n",
       "    </tr>\n",
       "    <tr>\n",
       "      <td>4</td>\n",
       "      <td>-0.410202</td>\n",
       "      <td>-0.486479</td>\n",
       "      <td>-1.310933</td>\n",
       "      <td>-0.250812</td>\n",
       "      <td>-0.826186</td>\n",
       "      <td>1.381694</td>\n",
       "      <td>-0.500390</td>\n",
       "      <td>1.056878</td>\n",
       "      <td>-1.107857</td>\n",
       "      <td>-0.066953</td>\n",
       "      <td>...</td>\n",
       "      <td>0</td>\n",
       "      <td>1</td>\n",
       "      <td>0</td>\n",
       "      <td>0</td>\n",
       "      <td>0</td>\n",
       "      <td>0</td>\n",
       "      <td>0</td>\n",
       "      <td>0</td>\n",
       "      <td>1.853580</td>\n",
       "      <td>1.548010</td>\n",
       "    </tr>\n",
       "  </tbody>\n",
       "</table>\n",
       "<p>5 rows × 23 columns</p>\n",
       "</div>"
      ],
      "text/plain": [
       "       CRIM        ZN     INDUS      CHAS       NOX        RM       AGE  \\\n",
       "0 -0.417401  0.302696 -1.291856 -0.250812 -0.139895  0.505040 -0.109432   \n",
       "1 -0.414992 -0.486479 -0.593329 -0.250812 -0.731821  0.269017  0.377488   \n",
       "2 -0.414995 -0.486479 -0.593329 -0.250812 -0.731821  1.439934 -0.255152   \n",
       "3 -0.414412 -0.486479 -1.310933 -0.250812 -0.826186  1.153335 -0.798939   \n",
       "4 -0.410202 -0.486479 -1.310933 -0.250812 -0.826186  1.381694 -0.500390   \n",
       "\n",
       "        DIS       TAX   PTRATIO  ...  RAD_2  RAD_3  RAD_4  RAD_5  RAD_6  \\\n",
       "0  0.121208 -0.667101 -1.415179  ...      0      0      0      0      0   \n",
       "1  0.537330 -0.988734 -0.516361  ...      1      0      0      0      0   \n",
       "2  0.537330 -0.988734 -0.516361  ...      1      0      0      0      0   \n",
       "3  1.056878 -1.107857 -0.066953  ...      0      1      0      0      0   \n",
       "4  1.056878 -1.107857 -0.066953  ...      0      1      0      0      0   \n",
       "\n",
       "   RAD_7  RAD_8  RAD_24      MEDV  log_MEDV  \n",
       "0      0      0       0  0.300878  0.446452  \n",
       "1      0      0       0 -0.004571  0.166718  \n",
       "2      0      0       0  1.662674  1.433933  \n",
       "3      0      0       0  1.497222  1.331120  \n",
       "4      0      0       0  1.853580  1.548010  \n",
       "\n",
       "[5 rows x 23 columns]"
      ]
     },
     "execution_count": 2,
     "metadata": {},
     "output_type": "execute_result"
    }
   ],
   "source": [
    "import numpy as np\n",
    "import pandas as pd\n",
    "import matplotlib.pyplot as plt\n",
    "\n",
    "from sklearn.linear_model import LinearRegression\n",
    "from sklearn.metrics import mean_squared_error\n",
    "from sklearn.model_selection import train_test_split\n",
    "\n",
    "dpath = './data/'\n",
    "data = pd.read_csv(dpath + 'FE_boston_housing_try.csv')\n",
    "data.head()"
   ]
  },
  {
   "cell_type": "code",
   "execution_count": 5,
   "metadata": {},
   "outputs": [
    {
     "data": {
      "text/plain": [
       "(392, 21)"
      ]
     },
     "execution_count": 5,
     "metadata": {},
     "output_type": "execute_result"
    }
   ],
   "source": [
    "y = data.MEDV\n",
    "log_y = data.log_MEDV\n",
    "X = data.drop(['MEDV', 'log_MEDV'], axis=1)\n",
    "feat_names = X.columns\n",
    "\n",
    "X_train, X_test, y_train, y_test = train_test_split(X, y, test_size=0.2, random_state=666)\n",
    "X_train.shape"
   ]
  },
  {
   "cell_type": "markdown",
   "metadata": {},
   "source": [
    "## 缺省参数的线性回归"
   ]
  },
  {
   "cell_type": "code",
   "execution_count": 7,
   "metadata": {},
   "outputs": [
    {
     "data": {
      "text/plain": [
       "0.8069551816288218"
      ]
     },
     "execution_count": 7,
     "metadata": {},
     "output_type": "execute_result"
    }
   ],
   "source": [
    "lr_reg = LinearRegression()\n",
    "lr_reg.fit(X_train, y_train)\n",
    "y_predict = lr_reg.predict(X_test)\n",
    "lr_reg.score(X_test, y_test)"
   ]
  },
  {
   "cell_type": "code",
   "execution_count": 36,
   "metadata": {},
   "outputs": [
    {
     "name": "stdout",
     "output_type": "stream",
     "text": [
      "[-0.30726291 -0.27028767 -0.11800731 -0.1950786  -0.29422444 -0.27859879\n",
      " -0.32569919 -0.26498884 -0.16403131 -0.25421336]\n",
      "0.24723924250093235\n"
     ]
    }
   ],
   "source": [
    "from sklearn.model_selection import cross_val_score\n",
    "\n",
    "mse_cv = cross_val_score(lr_reg, X_train, y_train, cv=10, scoring='neg_mean_squared_error')\n",
    "print(mse_cv)\n",
    "print(mse_cv.mean()*(-1))"
   ]
  },
  {
   "cell_type": "code",
   "execution_count": 38,
   "metadata": {},
   "outputs": [
    {
     "name": "stdout",
     "output_type": "stream",
     "text": [
      "[0.77552725 0.69666799 0.83383511 0.7218369  0.79801148 0.59038016\n",
      " 0.72032688 0.7521432  0.73109022 0.78639722]\n",
      "0.7406216417434295\n"
     ]
    }
   ],
   "source": [
    "r2_cv = cross_val_score(lr_reg, X_train, y_train, cv=10, scoring='r2')\n",
    "print(r2_cv)\n",
    "print(r2_cv.mean())"
   ]
  },
  {
   "cell_type": "code",
   "execution_count": 8,
   "metadata": {},
   "outputs": [
    {
     "data": {
      "text/plain": [
       "array([-0.13050737,  0.15498425, -0.02809411, -0.00985337, -0.14866117,\n",
       "        0.2628706 , -0.09262156, -0.33830713, -0.21288868, -0.2061531 ,\n",
       "        0.09561135, -0.34082239, -0.47929285, -0.14117792,  0.07398988,\n",
       "       -0.11415381, -0.04847588, -0.29075388,  0.2188131 ,  0.43097976,\n",
       "        0.3500716 ])"
      ]
     },
     "execution_count": 8,
     "metadata": {},
     "output_type": "execute_result"
    }
   ],
   "source": [
    "# 看看各特征的权重系数，系数的绝对值大小可视为该特征的重要性\n",
    "lr_reg.coef_"
   ]
  },
  {
   "cell_type": "code",
   "execution_count": 15,
   "metadata": {},
   "outputs": [
    {
     "data": {
      "text/html": [
       "<div>\n",
       "<style scoped>\n",
       "    .dataframe tbody tr th:only-of-type {\n",
       "        vertical-align: middle;\n",
       "    }\n",
       "\n",
       "    .dataframe tbody tr th {\n",
       "        vertical-align: top;\n",
       "    }\n",
       "\n",
       "    .dataframe thead th {\n",
       "        text-align: right;\n",
       "    }\n",
       "</style>\n",
       "<table border=\"1\" class=\"dataframe\">\n",
       "  <thead>\n",
       "    <tr style=\"text-align: right;\">\n",
       "      <th></th>\n",
       "      <th>columns</th>\n",
       "      <th>coef</th>\n",
       "    </tr>\n",
       "  </thead>\n",
       "  <tbody>\n",
       "    <tr>\n",
       "      <td>19</td>\n",
       "      <td>RAD_8</td>\n",
       "      <td>0.430980</td>\n",
       "    </tr>\n",
       "    <tr>\n",
       "      <td>20</td>\n",
       "      <td>RAD_24</td>\n",
       "      <td>0.350072</td>\n",
       "    </tr>\n",
       "    <tr>\n",
       "      <td>5</td>\n",
       "      <td>RM</td>\n",
       "      <td>0.262871</td>\n",
       "    </tr>\n",
       "    <tr>\n",
       "      <td>18</td>\n",
       "      <td>RAD_7</td>\n",
       "      <td>0.218813</td>\n",
       "    </tr>\n",
       "    <tr>\n",
       "      <td>1</td>\n",
       "      <td>ZN</td>\n",
       "      <td>0.154984</td>\n",
       "    </tr>\n",
       "    <tr>\n",
       "      <td>10</td>\n",
       "      <td>B</td>\n",
       "      <td>0.095611</td>\n",
       "    </tr>\n",
       "    <tr>\n",
       "      <td>14</td>\n",
       "      <td>RAD_3</td>\n",
       "      <td>0.073990</td>\n",
       "    </tr>\n",
       "    <tr>\n",
       "      <td>3</td>\n",
       "      <td>CHAS</td>\n",
       "      <td>-0.009853</td>\n",
       "    </tr>\n",
       "    <tr>\n",
       "      <td>2</td>\n",
       "      <td>INDUS</td>\n",
       "      <td>-0.028094</td>\n",
       "    </tr>\n",
       "    <tr>\n",
       "      <td>16</td>\n",
       "      <td>RAD_5</td>\n",
       "      <td>-0.048476</td>\n",
       "    </tr>\n",
       "    <tr>\n",
       "      <td>6</td>\n",
       "      <td>AGE</td>\n",
       "      <td>-0.092622</td>\n",
       "    </tr>\n",
       "    <tr>\n",
       "      <td>15</td>\n",
       "      <td>RAD_4</td>\n",
       "      <td>-0.114154</td>\n",
       "    </tr>\n",
       "    <tr>\n",
       "      <td>0</td>\n",
       "      <td>CRIM</td>\n",
       "      <td>-0.130507</td>\n",
       "    </tr>\n",
       "    <tr>\n",
       "      <td>13</td>\n",
       "      <td>RAD_2</td>\n",
       "      <td>-0.141178</td>\n",
       "    </tr>\n",
       "    <tr>\n",
       "      <td>4</td>\n",
       "      <td>NOX</td>\n",
       "      <td>-0.148661</td>\n",
       "    </tr>\n",
       "    <tr>\n",
       "      <td>9</td>\n",
       "      <td>PTRATIO</td>\n",
       "      <td>-0.206153</td>\n",
       "    </tr>\n",
       "    <tr>\n",
       "      <td>8</td>\n",
       "      <td>TAX</td>\n",
       "      <td>-0.212889</td>\n",
       "    </tr>\n",
       "    <tr>\n",
       "      <td>17</td>\n",
       "      <td>RAD_6</td>\n",
       "      <td>-0.290754</td>\n",
       "    </tr>\n",
       "    <tr>\n",
       "      <td>7</td>\n",
       "      <td>DIS</td>\n",
       "      <td>-0.338307</td>\n",
       "    </tr>\n",
       "    <tr>\n",
       "      <td>11</td>\n",
       "      <td>LSTAT</td>\n",
       "      <td>-0.340822</td>\n",
       "    </tr>\n",
       "    <tr>\n",
       "      <td>12</td>\n",
       "      <td>RAD_1</td>\n",
       "      <td>-0.479293</td>\n",
       "    </tr>\n",
       "  </tbody>\n",
       "</table>\n",
       "</div>"
      ],
      "text/plain": [
       "    columns      coef\n",
       "19    RAD_8  0.430980\n",
       "20   RAD_24  0.350072\n",
       "5        RM  0.262871\n",
       "18    RAD_7  0.218813\n",
       "1        ZN  0.154984\n",
       "10        B  0.095611\n",
       "14    RAD_3  0.073990\n",
       "3      CHAS -0.009853\n",
       "2     INDUS -0.028094\n",
       "16    RAD_5 -0.048476\n",
       "6       AGE -0.092622\n",
       "15    RAD_4 -0.114154\n",
       "0      CRIM -0.130507\n",
       "13    RAD_2 -0.141178\n",
       "4       NOX -0.148661\n",
       "9   PTRATIO -0.206153\n",
       "8       TAX -0.212889\n",
       "17    RAD_6 -0.290754\n",
       "7       DIS -0.338307\n",
       "11    LSTAT -0.340822\n",
       "12    RAD_1 -0.479293"
      ]
     },
     "execution_count": 15,
     "metadata": {},
     "output_type": "execute_result"
    }
   ],
   "source": [
    "feat_coef = pd.DataFrame({'columns':list(feat_names), 'coef':list(lr_reg.coef_)})\n",
    "feat_coef.sort_values(by=['coef'], ascending=False)"
   ]
  },
  {
   "cell_type": "code",
   "execution_count": 40,
   "metadata": {},
   "outputs": [
    {
     "data": {
      "image/png": "[encoded data removed]",
      "text/plain": [
       "<Figure size 432x288 with 1 Axes>"
      ]
     },
     "metadata": {
      "needs_background": "light"
     },
     "output_type": "display_data"
    }
   ],
   "source": [
    "plt.scatter(range(len(y_test)), list(y_test), color='b')\n",
    "plt.scatter(range(len(y_test)), list(y_predict), color='r')\n",
    "plt.show()"
   ]
  },
  {
   "cell_type": "code",
   "execution_count": 41,
   "metadata": {},
   "outputs": [
    {
     "data": {
      "image/png": "[encoded data removed]",
      "text/plain": [
       "<Figure size 432x288 with 1 Axes>"
      ]
     },
     "metadata": {
      "needs_background": "light"
     },
     "output_type": "display_data"
    }
   ],
   "source": [
    "plt.plot(range(len(y_test)), sorted(y_test), color='b', label='y_test')\n",
    "plt.plot(range(len(y_test)), sorted(y_predict), color='r', label='y_predict')\n",
    "plt.legend()\n",
    "plt.show()"
   ]
  },
  {
   "cell_type": "markdown",
   "metadata": {},
   "source": [
    "可以看出，前半段拟合效果较好，后半段拟合效果较差"
   ]
  },
  {
   "cell_type": "markdown",
   "metadata": {},
   "source": [
    "## 岭回归"
   ]
  },
  {
   "cell_type": "code",
   "execution_count": 43,
   "metadata": {},
   "outputs": [
    {
     "data": {
      "text/plain": [
       "RidgeCV(alphas=array([1.00000000e-02, 5.14949495e-01, 1.01989899e+00, 1.52484848e+00,\n",
       "       2.02979798e+00, 2.53474747e+00, 3.03969697e+00, 3.54464646e+00,\n",
       "       4.04959596e+00, 4.55454545e+00, 5.05949495e+00, 5.56444444e+00,\n",
       "       6.06939394e+00, 6.57434343e+00, 7.07929293e+00, 7.58424242e+00,\n",
       "       8.08919192e+00, 8.59414141e+00, 9.09909091e+00, 9.60404040e+00,\n",
       "       1.01089899e+01, 1.06139394e+0...\n",
       "       4.04059596e+01, 4.09109091e+01, 4.14158586e+01, 4.19208081e+01,\n",
       "       4.24257576e+01, 4.29307071e+01, 4.34356566e+01, 4.39406061e+01,\n",
       "       4.44455556e+01, 4.49505051e+01, 4.54554545e+01, 4.59604040e+01,\n",
       "       4.64653535e+01, 4.69703030e+01, 4.74752525e+01, 4.79802020e+01,\n",
       "       4.84851515e+01, 4.89901010e+01, 4.94950505e+01, 5.00000000e+01]),\n",
       "        cv=None, fit_intercept=True, gcv_mode=None, normalize=False,\n",
       "        scoring=None, store_cv_values=True)"
      ]
     },
     "execution_count": 43,
     "metadata": {},
     "output_type": "execute_result"
    }
   ],
   "source": [
    "from sklearn.linear_model import RidgeCV\n",
    "\n",
    "alphas = np.linspace(0.01, 50, num=100)\n",
    "ridge = RidgeCV(alphas=alphas, store_cv_values=True)\n",
    "ridge.fit(X_train, y_train)"
   ]
  },
  {
   "cell_type": "code",
   "execution_count": 47,
   "metadata": {},
   "outputs": [
    {
     "data": {
      "text/plain": [
       "(392, 100)"
      ]
     },
     "execution_count": 47,
     "metadata": {},
     "output_type": "execute_result"
    }
   ],
   "source": [
    "ridge.cv_values_.shape"
   ]
  },
  {
   "cell_type": "code",
   "execution_count": 48,
   "metadata": {},
   "outputs": [
    {
     "data": {
      "text/plain": [
       "array([0.24870733, 0.24839458, 0.2481807 , 0.24804484, 0.24797113,\n",
       "       0.24794733, 0.24796386, 0.24801312, 0.24808905, 0.24818675,\n",
       "       0.24830225, 0.24843228, 0.24857417, 0.24872571, 0.24888507,\n",
       "       0.24905072, 0.24922139, 0.24939599, 0.24957365, 0.2497536 ,\n",
       "       0.24993521, 0.25011796, 0.25030139, 0.25048512, 0.25066885,\n",
       "       0.2508523 , 0.25103525, 0.25121752, 0.25139895, 0.25157943,\n",
       "       0.25175884, 0.2519371 , 0.25211415, 0.25228993, 0.25246441,\n",
       "       0.25263755, 0.25280934, 0.25297975, 0.2531488 , 0.25331647,\n",
       "       0.25348277, 0.2536477 , 0.25381129, 0.25397354, 0.25413448,\n",
       "       0.25429411, 0.25445247, 0.25460957, 0.25476544, 0.2549201 ,\n",
       "       0.25507358, 0.25522589, 0.25537707, 0.25552714, 0.25567613,\n",
       "       0.25582406, 0.25597096, 0.25611684, 0.25626175, 0.25640569,\n",
       "       0.25654871, 0.25669081, 0.25683202, 0.25697238, 0.25711189,\n",
       "       0.25725058, 0.25738847, 0.25752559, 0.25766196, 0.25779758,\n",
       "       0.2579325 , 0.25806672, 0.25820026, 0.25833315, 0.2584654 ,\n",
       "       0.25859702, 0.25872804, 0.25885847, 0.25898833, 0.25911763,\n",
       "       0.2592464 , 0.25937463, 0.25950236, 0.25962959, 0.25975633,\n",
       "       0.25988261, 0.26000843, 0.2601338 , 0.26025874, 0.26038327,\n",
       "       0.26050738, 0.26063111, 0.26075444, 0.2608774 , 0.261     ,\n",
       "       0.26112224, 0.26124414, 0.2613657 , 0.26148694, 0.26160787])"
      ]
     },
     "execution_count": 48,
     "metadata": {},
     "output_type": "execute_result"
    }
   ],
   "source": [
    "mse_mean = np.mean(ridge.cv_values_, axis=0)\n",
    "mse_mean"
   ]
  },
  {
   "cell_type": "code",
   "execution_count": 49,
   "metadata": {},
   "outputs": [
    {
     "data": {
      "text/plain": [
       "2.5347474747474745"
      ]
     },
     "execution_count": 49,
     "metadata": {},
     "output_type": "execute_result"
    }
   ],
   "source": [
    "ridge.alpha_  # best alpha"
   ]
  },
  {
   "cell_type": "code",
   "execution_count": 50,
   "metadata": {},
   "outputs": [
    {
     "data": {
      "text/plain": [
       "0.8108655762007414"
      ]
     },
     "execution_count": 50,
     "metadata": {},
     "output_type": "execute_result"
    }
   ],
   "source": [
    "ridge.score(X_test, y_test)"
   ]
  },
  {
   "cell_type": "code",
   "execution_count": 63,
   "metadata": {},
   "outputs": [
    {
     "data": {
      "image/png": "[encoded data removed]",
      "text/plain": [
       "<Figure size 432x288 with 1 Axes>"
      ]
     },
     "metadata": {
      "needs_background": "light"
     },
     "output_type": "display_data"
    }
   ],
   "source": [
    "plt.plot(np.log10(alphas), mse_mean)\n",
    "#plt.plot(np.log10(ridge.alpha_)*np.ones(3), [0.24, 0.24, 0.25])\n",
    "plt.scatter(np.log10(ridge.alpha_), mse_mean[np.log10(alphas) == np.log10(ridge.alpha_)], c='r', marker='*')\n",
    "plt.ylim([0.247, 0.262])\n",
    "plt.xlabel('log(alpha)')\n",
    "plt.ylabel('mse')\n",
    "plt.show()"
   ]
  },
  {
   "cell_type": "code",
   "execution_count": 64,
   "metadata": {},
   "outputs": [
    {
     "data": {
      "text/html": [
       "<div>\n",
       "<style scoped>\n",
       "    .dataframe tbody tr th:only-of-type {\n",
       "        vertical-align: middle;\n",
       "    }\n",
       "\n",
       "    .dataframe tbody tr th {\n",
       "        vertical-align: top;\n",
       "    }\n",
       "\n",
       "    .dataframe thead th {\n",
       "        text-align: right;\n",
       "    }\n",
       "</style>\n",
       "<table border=\"1\" class=\"dataframe\">\n",
       "  <thead>\n",
       "    <tr style=\"text-align: right;\">\n",
       "      <th></th>\n",
       "      <th>columns</th>\n",
       "      <th>coef_lr</th>\n",
       "      <th>coef_ridge</th>\n",
       "    </tr>\n",
       "  </thead>\n",
       "  <tbody>\n",
       "    <tr>\n",
       "      <td>19</td>\n",
       "      <td>RAD_8</td>\n",
       "      <td>0.430980</td>\n",
       "      <td>0.369360</td>\n",
       "    </tr>\n",
       "    <tr>\n",
       "      <td>20</td>\n",
       "      <td>RAD_24</td>\n",
       "      <td>0.350072</td>\n",
       "      <td>0.265701</td>\n",
       "    </tr>\n",
       "    <tr>\n",
       "      <td>5</td>\n",
       "      <td>RM</td>\n",
       "      <td>0.262871</td>\n",
       "      <td>0.269159</td>\n",
       "    </tr>\n",
       "    <tr>\n",
       "      <td>18</td>\n",
       "      <td>RAD_7</td>\n",
       "      <td>0.218813</td>\n",
       "      <td>0.189883</td>\n",
       "    </tr>\n",
       "    <tr>\n",
       "      <td>1</td>\n",
       "      <td>ZN</td>\n",
       "      <td>0.154984</td>\n",
       "      <td>0.142650</td>\n",
       "    </tr>\n",
       "    <tr>\n",
       "      <td>10</td>\n",
       "      <td>B</td>\n",
       "      <td>0.095611</td>\n",
       "      <td>0.093884</td>\n",
       "    </tr>\n",
       "    <tr>\n",
       "      <td>14</td>\n",
       "      <td>RAD_3</td>\n",
       "      <td>0.073990</td>\n",
       "      <td>0.083285</td>\n",
       "    </tr>\n",
       "    <tr>\n",
       "      <td>3</td>\n",
       "      <td>CHAS</td>\n",
       "      <td>-0.009853</td>\n",
       "      <td>-0.005911</td>\n",
       "    </tr>\n",
       "    <tr>\n",
       "      <td>2</td>\n",
       "      <td>INDUS</td>\n",
       "      <td>-0.028094</td>\n",
       "      <td>-0.039446</td>\n",
       "    </tr>\n",
       "    <tr>\n",
       "      <td>16</td>\n",
       "      <td>RAD_5</td>\n",
       "      <td>-0.048476</td>\n",
       "      <td>-0.042601</td>\n",
       "    </tr>\n",
       "    <tr>\n",
       "      <td>6</td>\n",
       "      <td>AGE</td>\n",
       "      <td>-0.092622</td>\n",
       "      <td>-0.093357</td>\n",
       "    </tr>\n",
       "    <tr>\n",
       "      <td>15</td>\n",
       "      <td>RAD_4</td>\n",
       "      <td>-0.114154</td>\n",
       "      <td>-0.106715</td>\n",
       "    </tr>\n",
       "    <tr>\n",
       "      <td>0</td>\n",
       "      <td>CRIM</td>\n",
       "      <td>-0.130507</td>\n",
       "      <td>-0.123610</td>\n",
       "    </tr>\n",
       "    <tr>\n",
       "      <td>13</td>\n",
       "      <td>RAD_2</td>\n",
       "      <td>-0.141178</td>\n",
       "      <td>-0.099093</td>\n",
       "    </tr>\n",
       "    <tr>\n",
       "      <td>4</td>\n",
       "      <td>NOX</td>\n",
       "      <td>-0.148661</td>\n",
       "      <td>-0.139663</td>\n",
       "    </tr>\n",
       "    <tr>\n",
       "      <td>9</td>\n",
       "      <td>PTRATIO</td>\n",
       "      <td>-0.206153</td>\n",
       "      <td>-0.201251</td>\n",
       "    </tr>\n",
       "    <tr>\n",
       "      <td>8</td>\n",
       "      <td>TAX</td>\n",
       "      <td>-0.212889</td>\n",
       "      <td>-0.176020</td>\n",
       "    </tr>\n",
       "    <tr>\n",
       "      <td>17</td>\n",
       "      <td>RAD_6</td>\n",
       "      <td>-0.290754</td>\n",
       "      <td>-0.262571</td>\n",
       "    </tr>\n",
       "    <tr>\n",
       "      <td>7</td>\n",
       "      <td>DIS</td>\n",
       "      <td>-0.338307</td>\n",
       "      <td>-0.326647</td>\n",
       "    </tr>\n",
       "    <tr>\n",
       "      <td>11</td>\n",
       "      <td>LSTAT</td>\n",
       "      <td>-0.340822</td>\n",
       "      <td>-0.337822</td>\n",
       "    </tr>\n",
       "    <tr>\n",
       "      <td>12</td>\n",
       "      <td>RAD_1</td>\n",
       "      <td>-0.479293</td>\n",
       "      <td>-0.397250</td>\n",
       "    </tr>\n",
       "  </tbody>\n",
       "</table>\n",
       "</div>"
      ],
      "text/plain": [
       "    columns   coef_lr  coef_ridge\n",
       "19    RAD_8  0.430980    0.369360\n",
       "20   RAD_24  0.350072    0.265701\n",
       "5        RM  0.262871    0.269159\n",
       "18    RAD_7  0.218813    0.189883\n",
       "1        ZN  0.154984    0.142650\n",
       "10        B  0.095611    0.093884\n",
       "14    RAD_3  0.073990    0.083285\n",
       "3      CHAS -0.009853   -0.005911\n",
       "2     INDUS -0.028094   -0.039446\n",
       "16    RAD_5 -0.048476   -0.042601\n",
       "6       AGE -0.092622   -0.093357\n",
       "15    RAD_4 -0.114154   -0.106715\n",
       "0      CRIM -0.130507   -0.123610\n",
       "13    RAD_2 -0.141178   -0.099093\n",
       "4       NOX -0.148661   -0.139663\n",
       "9   PTRATIO -0.206153   -0.201251\n",
       "8       TAX -0.212889   -0.176020\n",
       "17    RAD_6 -0.290754   -0.262571\n",
       "7       DIS -0.338307   -0.326647\n",
       "11    LSTAT -0.340822   -0.337822\n",
       "12    RAD_1 -0.479293   -0.397250"
      ]
     },
     "execution_count": 64,
     "metadata": {},
     "output_type": "execute_result"
    }
   ],
   "source": [
    "fs = pd.DataFrame({\"columns\":list(feat_names), \n",
    "                   \"coef_lr\":list(lr_reg.coef_), \n",
    "                   \"coef_ridge\":list(ridge.coef_)})\n",
    "fs.sort_values(by=['coef_lr'], ascending=False)"
   ]
  },
  {
   "cell_type": "markdown",
   "metadata": {},
   "source": [
    "回归系数收缩"
   ]
  },
  {
   "cell_type": "markdown",
   "metadata": {},
   "source": [
    "## LASSO"
   ]
  },
  {
   "cell_type": "code",
   "execution_count": 65,
   "metadata": {},
   "outputs": [
    {
     "name": "stderr",
     "output_type": "stream",
     "text": [
      "E:\\Anaconda\\envs\\tensorflow-cpu\\lib\\site-packages\\sklearn\\model_selection\\_split.py:1978: FutureWarning: The default value of cv will change from 3 to 5 in version 0.22. Specify it explicitly to silence this warning.\n",
      "  warnings.warn(CV_WARNING, FutureWarning)\n"
     ]
    },
    {
     "data": {
      "text/plain": [
       "LassoCV(alphas=None, copy_X=True, cv='warn', eps=0.001, fit_intercept=True,\n",
       "        max_iter=1000, n_alphas=100, n_jobs=None, normalize=False,\n",
       "        positive=False, precompute='auto', random_state=None,\n",
       "        selection='cyclic', tol=0.0001, verbose=False)"
      ]
     },
     "execution_count": 65,
     "metadata": {},
     "output_type": "execute_result"
    }
   ],
   "source": [
    "from sklearn.linear_model import LassoCV\n",
    "\n",
    "lasso = LassoCV()\n",
    "lasso.fit(X_train, y_train)"
   ]
  },
  {
   "cell_type": "code",
   "execution_count": 66,
   "metadata": {},
   "outputs": [
    {
     "data": {
      "text/plain": [
       "0.8083240165745612"
      ]
     },
     "execution_count": 66,
     "metadata": {},
     "output_type": "execute_result"
    }
   ],
   "source": [
    "lasso.score(X_test, y_test)"
   ]
  },
  {
   "cell_type": "code",
   "execution_count": 67,
   "metadata": {},
   "outputs": [
    {
     "data": {
      "text/plain": [
       "array([0.76481966, 0.71327337, 0.66520113, 0.6203688 , 0.57855802,\n",
       "       0.53956515, 0.50320026, 0.46928625, 0.43765793, 0.40816125,\n",
       "       0.38065255, 0.35499784, 0.33107217, 0.30875902, 0.28794969,\n",
       "       0.26854285, 0.25044396, 0.23356487, 0.21782338, 0.20314281,\n",
       "       0.18945167, 0.17668326, 0.1647754 , 0.15367009, 0.14331324,\n",
       "       0.13365441, 0.12464655, 0.11624579, 0.10841121, 0.10110466,\n",
       "       0.09429054, 0.08793568, 0.0820091 , 0.07648197, 0.07132734,\n",
       "       0.06652011, 0.06203688, 0.0578558 , 0.05395651, 0.05032003,\n",
       "       0.04692862, 0.04376579, 0.04081612, 0.03806525, 0.03549978,\n",
       "       0.03310722, 0.0308759 , 0.02879497, 0.02685428, 0.0250444 ,\n",
       "       0.02335649, 0.02178234, 0.02031428, 0.01894517, 0.01766833,\n",
       "       0.01647754, 0.01536701, 0.01433132, 0.01336544, 0.01246465,\n",
       "       0.01162458, 0.01084112, 0.01011047, 0.00942905, 0.00879357,\n",
       "       0.00820091, 0.0076482 , 0.00713273, 0.00665201, 0.00620369,\n",
       "       0.00578558, 0.00539565, 0.005032  , 0.00469286, 0.00437658,\n",
       "       0.00408161, 0.00380653, 0.00354998, 0.00331072, 0.00308759,\n",
       "       0.0028795 , 0.00268543, 0.00250444, 0.00233565, 0.00217823,\n",
       "       0.00203143, 0.00189452, 0.00176683, 0.00164775, 0.0015367 ,\n",
       "       0.00143313, 0.00133654, 0.00124647, 0.00116246, 0.00108411,\n",
       "       0.00101105, 0.00094291, 0.00087936, 0.00082009, 0.00076482])"
      ]
     },
     "execution_count": 67,
     "metadata": {},
     "output_type": "execute_result"
    }
   ],
   "source": [
    "lasso.alphas_"
   ]
  },
  {
   "cell_type": "code",
   "execution_count": 68,
   "metadata": {},
   "outputs": [
    {
     "data": {
      "text/plain": [
       "0.0007648196573237463"
      ]
     },
     "execution_count": 68,
     "metadata": {},
     "output_type": "execute_result"
    }
   ],
   "source": [
    "lasso.alpha_"
   ]
  },
  {
   "cell_type": "code",
   "execution_count": 70,
   "metadata": {},
   "outputs": [
    {
     "data": {
      "text/plain": [
       "array([[0.90758798, 1.04636168, 0.98743898],\n",
       "       [0.84841457, 1.02191575, 0.91599441],\n",
       "       [0.79705692, 0.98092361, 0.85405254]])"
      ]
     },
     "execution_count": 70,
     "metadata": {},
     "output_type": "execute_result"
    }
   ],
   "source": [
    "lasso.mse_path_[:3]"
   ]
  },
  {
   "cell_type": "code",
   "execution_count": 71,
   "metadata": {},
   "outputs": [
    {
     "data": {
      "text/plain": [
       "(100, 3)"
      ]
     },
     "execution_count": 71,
     "metadata": {},
     "output_type": "execute_result"
    }
   ],
   "source": [
    "lasso.mse_path_.shape  # (n_alphas, n_folds)"
   ]
  },
  {
   "cell_type": "code",
   "execution_count": 73,
   "metadata": {},
   "outputs": [
    {
     "data": {
      "text/plain": [
       "array([0.98046288, 0.92877491, 0.87734435, 0.82111412, 0.771886  ])"
      ]
     },
     "execution_count": 73,
     "metadata": {},
     "output_type": "execute_result"
    }
   ],
   "source": [
    "mse = np.mean(lasso.mse_path_, axis=1)\n",
    "mse[:5]"
   ]
  },
  {
   "cell_type": "code",
   "execution_count": 75,
   "metadata": {},
   "outputs": [
    {
     "data": {
      "image/png": "[encoded data removed]",
      "text/plain": [
       "<Figure size 432x288 with 1 Axes>"
      ]
     },
     "metadata": {
      "needs_background": "light"
     },
     "output_type": "display_data"
    }
   ],
   "source": [
    "plt.plot(np.log10(lasso.alphas_), mse)\n",
    "plt.scatter(np.log10(lasso.alpha_), mse[np.log10(lasso.alphas_) == np.log10(lasso.alpha_)], c='r', marker='*')\n",
    "plt.xlabel('log(alpha)')\n",
    "plt.ylabel('mse')\n",
    "plt.show()"
   ]
  },
  {
   "cell_type": "code",
   "execution_count": 76,
   "metadata": {},
   "outputs": [
    {
     "data": {
      "text/html": [
       "<div>\n",
       "<style scoped>\n",
       "    .dataframe tbody tr th:only-of-type {\n",
       "        vertical-align: middle;\n",
       "    }\n",
       "\n",
       "    .dataframe tbody tr th {\n",
       "        vertical-align: top;\n",
       "    }\n",
       "\n",
       "    .dataframe thead th {\n",
       "        text-align: right;\n",
       "    }\n",
       "</style>\n",
       "<table border=\"1\" class=\"dataframe\">\n",
       "  <thead>\n",
       "    <tr style=\"text-align: right;\">\n",
       "      <th></th>\n",
       "      <th>columns</th>\n",
       "      <th>coef_lr</th>\n",
       "      <th>coef_ridge</th>\n",
       "      <th>coef_lasso</th>\n",
       "    </tr>\n",
       "  </thead>\n",
       "  <tbody>\n",
       "    <tr>\n",
       "      <td>19</td>\n",
       "      <td>RAD_8</td>\n",
       "      <td>0.430980</td>\n",
       "      <td>0.369360</td>\n",
       "      <td>0.457131</td>\n",
       "    </tr>\n",
       "    <tr>\n",
       "      <td>20</td>\n",
       "      <td>RAD_24</td>\n",
       "      <td>0.350072</td>\n",
       "      <td>0.265701</td>\n",
       "      <td>0.355853</td>\n",
       "    </tr>\n",
       "    <tr>\n",
       "      <td>5</td>\n",
       "      <td>RM</td>\n",
       "      <td>0.262871</td>\n",
       "      <td>0.269159</td>\n",
       "      <td>0.265072</td>\n",
       "    </tr>\n",
       "    <tr>\n",
       "      <td>18</td>\n",
       "      <td>RAD_7</td>\n",
       "      <td>0.218813</td>\n",
       "      <td>0.189883</td>\n",
       "      <td>0.246153</td>\n",
       "    </tr>\n",
       "    <tr>\n",
       "      <td>1</td>\n",
       "      <td>ZN</td>\n",
       "      <td>0.154984</td>\n",
       "      <td>0.142650</td>\n",
       "      <td>0.149146</td>\n",
       "    </tr>\n",
       "    <tr>\n",
       "      <td>10</td>\n",
       "      <td>B</td>\n",
       "      <td>0.095611</td>\n",
       "      <td>0.093884</td>\n",
       "      <td>0.094096</td>\n",
       "    </tr>\n",
       "    <tr>\n",
       "      <td>14</td>\n",
       "      <td>RAD_3</td>\n",
       "      <td>0.073990</td>\n",
       "      <td>0.083285</td>\n",
       "      <td>0.117886</td>\n",
       "    </tr>\n",
       "    <tr>\n",
       "      <td>3</td>\n",
       "      <td>CHAS</td>\n",
       "      <td>-0.009853</td>\n",
       "      <td>-0.005911</td>\n",
       "      <td>-0.007402</td>\n",
       "    </tr>\n",
       "    <tr>\n",
       "      <td>2</td>\n",
       "      <td>INDUS</td>\n",
       "      <td>-0.028094</td>\n",
       "      <td>-0.039446</td>\n",
       "      <td>-0.033162</td>\n",
       "    </tr>\n",
       "    <tr>\n",
       "      <td>16</td>\n",
       "      <td>RAD_5</td>\n",
       "      <td>-0.048476</td>\n",
       "      <td>-0.042601</td>\n",
       "      <td>0.000000</td>\n",
       "    </tr>\n",
       "    <tr>\n",
       "      <td>6</td>\n",
       "      <td>AGE</td>\n",
       "      <td>-0.092622</td>\n",
       "      <td>-0.093357</td>\n",
       "      <td>-0.092289</td>\n",
       "    </tr>\n",
       "    <tr>\n",
       "      <td>15</td>\n",
       "      <td>RAD_4</td>\n",
       "      <td>-0.114154</td>\n",
       "      <td>-0.106715</td>\n",
       "      <td>-0.062320</td>\n",
       "    </tr>\n",
       "    <tr>\n",
       "      <td>0</td>\n",
       "      <td>CRIM</td>\n",
       "      <td>-0.130507</td>\n",
       "      <td>-0.123610</td>\n",
       "      <td>-0.126369</td>\n",
       "    </tr>\n",
       "    <tr>\n",
       "      <td>13</td>\n",
       "      <td>RAD_2</td>\n",
       "      <td>-0.141178</td>\n",
       "      <td>-0.099093</td>\n",
       "      <td>-0.064863</td>\n",
       "    </tr>\n",
       "    <tr>\n",
       "      <td>4</td>\n",
       "      <td>NOX</td>\n",
       "      <td>-0.148661</td>\n",
       "      <td>-0.139663</td>\n",
       "      <td>-0.143507</td>\n",
       "    </tr>\n",
       "    <tr>\n",
       "      <td>9</td>\n",
       "      <td>PTRATIO</td>\n",
       "      <td>-0.206153</td>\n",
       "      <td>-0.201251</td>\n",
       "      <td>-0.203561</td>\n",
       "    </tr>\n",
       "    <tr>\n",
       "      <td>8</td>\n",
       "      <td>TAX</td>\n",
       "      <td>-0.212889</td>\n",
       "      <td>-0.176020</td>\n",
       "      <td>-0.195425</td>\n",
       "    </tr>\n",
       "    <tr>\n",
       "      <td>17</td>\n",
       "      <td>RAD_6</td>\n",
       "      <td>-0.290754</td>\n",
       "      <td>-0.262571</td>\n",
       "      <td>-0.230967</td>\n",
       "    </tr>\n",
       "    <tr>\n",
       "      <td>7</td>\n",
       "      <td>DIS</td>\n",
       "      <td>-0.338307</td>\n",
       "      <td>-0.326647</td>\n",
       "      <td>-0.331041</td>\n",
       "    </tr>\n",
       "    <tr>\n",
       "      <td>11</td>\n",
       "      <td>LSTAT</td>\n",
       "      <td>-0.340822</td>\n",
       "      <td>-0.337822</td>\n",
       "      <td>-0.341236</td>\n",
       "    </tr>\n",
       "    <tr>\n",
       "      <td>12</td>\n",
       "      <td>RAD_1</td>\n",
       "      <td>-0.479293</td>\n",
       "      <td>-0.397250</td>\n",
       "      <td>-0.406778</td>\n",
       "    </tr>\n",
       "  </tbody>\n",
       "</table>\n",
       "</div>"
      ],
      "text/plain": [
       "    columns   coef_lr  coef_ridge  coef_lasso\n",
       "19    RAD_8  0.430980    0.369360    0.457131\n",
       "20   RAD_24  0.350072    0.265701    0.355853\n",
       "5        RM  0.262871    0.269159    0.265072\n",
       "18    RAD_7  0.218813    0.189883    0.246153\n",
       "1        ZN  0.154984    0.142650    0.149146\n",
       "10        B  0.095611    0.093884    0.094096\n",
       "14    RAD_3  0.073990    0.083285    0.117886\n",
       "3      CHAS -0.009853   -0.005911   -0.007402\n",
       "2     INDUS -0.028094   -0.039446   -0.033162\n",
       "16    RAD_5 -0.048476   -0.042601    0.000000\n",
       "6       AGE -0.092622   -0.093357   -0.092289\n",
       "15    RAD_4 -0.114154   -0.106715   -0.062320\n",
       "0      CRIM -0.130507   -0.123610   -0.126369\n",
       "13    RAD_2 -0.141178   -0.099093   -0.064863\n",
       "4       NOX -0.148661   -0.139663   -0.143507\n",
       "9   PTRATIO -0.206153   -0.201251   -0.203561\n",
       "8       TAX -0.212889   -0.176020   -0.195425\n",
       "17    RAD_6 -0.290754   -0.262571   -0.230967\n",
       "7       DIS -0.338307   -0.326647   -0.331041\n",
       "11    LSTAT -0.340822   -0.337822   -0.341236\n",
       "12    RAD_1 -0.479293   -0.397250   -0.406778"
      ]
     },
     "execution_count": 76,
     "metadata": {},
     "output_type": "execute_result"
    }
   ],
   "source": [
    "fs = pd.DataFrame({'columns':list(feat_names), \n",
    "                  'coef_lr':list(lr_reg.coef_), \n",
    "                  'coef_ridge':list(ridge.coef_), \n",
    "                  'coef_lasso':list(lasso.coef_)})\n",
    "fs.sort_values(by=['coef_lr'], ascending=False)"
   ]
  },
  {
   "cell_type": "code",
   "execution_count": 77,
   "metadata": {},
   "outputs": [
    {
     "name": "stdout",
     "output_type": "stream",
     "text": [
      "The r2 score of LinearRegression on test: 0.8069551816288218\n",
      "The r2 score of RidgeCV on test: 0.8108655762007414\n",
      "The r2 score of LassoCV on test: 0.8083240165745612\n"
     ]
    }
   ],
   "source": [
    "print('The r2 score of LinearRegression on test:', \n",
    "      lr_reg.score(X_test, y_test))\n",
    "print('The r2 score of RidgeCV on test:', \n",
    "      ridge.score(X_test, y_test))\n",
    "print('The r2 score of LassoCV on test:', \n",
    "      lasso.score(X_test, y_test))"
   ]
  },
  {
   "cell_type": "markdown",
   "metadata": {},
   "source": [
    "## 对标签y作log变换"
   ]
  },
  {
   "cell_type": "code",
   "execution_count": 81,
   "metadata": {},
   "outputs": [],
   "source": [
    "data = pd.read_csv(dpath + 'FE_boston_housing_try.csv')\n",
    "\n",
    "y = pd.DataFrame(data=data, columns=['MEDV', 'log_MEDV'])\n",
    "X = data.drop(['MEDV', 'log_MEDV'], axis=1)\n",
    "feat_names = X.columns"
   ]
  },
  {
   "cell_type": "code",
   "execution_count": 82,
   "metadata": {},
   "outputs": [
    {
     "data": {
      "text/plain": [
       "(392, 2)"
      ]
     },
     "execution_count": 82,
     "metadata": {},
     "output_type": "execute_result"
    }
   ],
   "source": [
    "X_train, X_test, y_train, y_test = train_test_split(X, y, random_state=666, test_size=0.2)\n",
    "y_train.shape"
   ]
  },
  {
   "cell_type": "code",
   "execution_count": 83,
   "metadata": {},
   "outputs": [
    {
     "data": {
      "text/plain": [
       "RidgeCV(alphas=array([1.00000000e-02, 5.14949495e-01, 1.01989899e+00, 1.52484848e+00,\n",
       "       2.02979798e+00, 2.53474747e+00, 3.03969697e+00, 3.54464646e+00,\n",
       "       4.04959596e+00, 4.55454545e+00, 5.05949495e+00, 5.56444444e+00,\n",
       "       6.06939394e+00, 6.57434343e+00, 7.07929293e+00, 7.58424242e+00,\n",
       "       8.08919192e+00, 8.59414141e+00, 9.09909091e+00, 9.60404040e+00,\n",
       "       1.01089899e+01, 1.06139394e+0...\n",
       "       4.04059596e+01, 4.09109091e+01, 4.14158586e+01, 4.19208081e+01,\n",
       "       4.24257576e+01, 4.29307071e+01, 4.34356566e+01, 4.39406061e+01,\n",
       "       4.44455556e+01, 4.49505051e+01, 4.54554545e+01, 4.59604040e+01,\n",
       "       4.64653535e+01, 4.69703030e+01, 4.74752525e+01, 4.79802020e+01,\n",
       "       4.84851515e+01, 4.89901010e+01, 4.94950505e+01, 5.00000000e+01]),\n",
       "        cv=None, fit_intercept=True, gcv_mode=None, normalize=False,\n",
       "        scoring=None, store_cv_values=True)"
      ]
     },
     "execution_count": 83,
     "metadata": {},
     "output_type": "execute_result"
    }
   ],
   "source": [
    "alphas = np.linspace(0.01, 50, num=100)\n",
    "ridge1 = RidgeCV(alphas=alphas, store_cv_values=True)\n",
    "ridge1.fit(X_train, y_train)"
   ]
  },
  {
   "cell_type": "code",
   "execution_count": 100,
   "metadata": {},
   "outputs": [
    {
     "name": "stdout",
     "output_type": "stream",
     "text": [
      "(2, 21)\n"
     ]
    },
    {
     "data": {
      "text/plain": [
       "array([[-0.12361029,  0.14265024, -0.03944591, -0.00591068, -0.13966255,\n",
       "         0.26915921, -0.09335694, -0.32664737, -0.17602039, -0.20125095,\n",
       "         0.09388382, -0.33782206, -0.39724966, -0.09909347,  0.08328536,\n",
       "        -0.10671507, -0.04260068, -0.26257134,  0.189883  ,  0.36936046,\n",
       "         0.26570139],\n",
       "       [-0.22908435,  0.08995517,  0.02312774,  0.02011639, -0.16594431,\n",
       "         0.14697191, -0.04342137, -0.23720992, -0.20799741, -0.17367331,\n",
       "         0.0977058 , -0.46302328, -0.35631597, -0.10048974,  0.02053123,\n",
       "        -0.13226394, -0.02127551, -0.1443902 ,  0.15441183,  0.23035263,\n",
       "         0.34943969]])"
      ]
     },
     "execution_count": 100,
     "metadata": {},
     "output_type": "execute_result"
    }
   ],
   "source": [
    "print(ridge1.coef_.shape)\n",
    "ridge1.coef_"
   ]
  },
  {
   "cell_type": "code",
   "execution_count": 103,
   "metadata": {},
   "outputs": [
    {
     "data": {
      "text/html": [
       "<div>\n",
       "<style scoped>\n",
       "    .dataframe tbody tr th:only-of-type {\n",
       "        vertical-align: middle;\n",
       "    }\n",
       "\n",
       "    .dataframe tbody tr th {\n",
       "        vertical-align: top;\n",
       "    }\n",
       "\n",
       "    .dataframe thead th {\n",
       "        text-align: right;\n",
       "    }\n",
       "</style>\n",
       "<table border=\"1\" class=\"dataframe\">\n",
       "  <thead>\n",
       "    <tr style=\"text-align: right;\">\n",
       "      <th></th>\n",
       "      <th>columns</th>\n",
       "      <th>coef_ridge_org</th>\n",
       "      <th>coef_ridge_log</th>\n",
       "    </tr>\n",
       "  </thead>\n",
       "  <tbody>\n",
       "    <tr>\n",
       "      <td>19</td>\n",
       "      <td>RAD_8</td>\n",
       "      <td>0.369360</td>\n",
       "      <td>0.230353</td>\n",
       "    </tr>\n",
       "    <tr>\n",
       "      <td>5</td>\n",
       "      <td>RM</td>\n",
       "      <td>0.269159</td>\n",
       "      <td>0.146972</td>\n",
       "    </tr>\n",
       "    <tr>\n",
       "      <td>20</td>\n",
       "      <td>RAD_24</td>\n",
       "      <td>0.265701</td>\n",
       "      <td>0.349440</td>\n",
       "    </tr>\n",
       "    <tr>\n",
       "      <td>18</td>\n",
       "      <td>RAD_7</td>\n",
       "      <td>0.189883</td>\n",
       "      <td>0.154412</td>\n",
       "    </tr>\n",
       "    <tr>\n",
       "      <td>1</td>\n",
       "      <td>ZN</td>\n",
       "      <td>0.142650</td>\n",
       "      <td>0.089955</td>\n",
       "    </tr>\n",
       "    <tr>\n",
       "      <td>10</td>\n",
       "      <td>B</td>\n",
       "      <td>0.093884</td>\n",
       "      <td>0.097706</td>\n",
       "    </tr>\n",
       "    <tr>\n",
       "      <td>14</td>\n",
       "      <td>RAD_3</td>\n",
       "      <td>0.083285</td>\n",
       "      <td>0.020531</td>\n",
       "    </tr>\n",
       "    <tr>\n",
       "      <td>3</td>\n",
       "      <td>CHAS</td>\n",
       "      <td>-0.005911</td>\n",
       "      <td>0.020116</td>\n",
       "    </tr>\n",
       "    <tr>\n",
       "      <td>2</td>\n",
       "      <td>INDUS</td>\n",
       "      <td>-0.039446</td>\n",
       "      <td>0.023128</td>\n",
       "    </tr>\n",
       "    <tr>\n",
       "      <td>16</td>\n",
       "      <td>RAD_5</td>\n",
       "      <td>-0.042601</td>\n",
       "      <td>-0.021276</td>\n",
       "    </tr>\n",
       "    <tr>\n",
       "      <td>6</td>\n",
       "      <td>AGE</td>\n",
       "      <td>-0.093357</td>\n",
       "      <td>-0.043421</td>\n",
       "    </tr>\n",
       "    <tr>\n",
       "      <td>13</td>\n",
       "      <td>RAD_2</td>\n",
       "      <td>-0.099093</td>\n",
       "      <td>-0.100490</td>\n",
       "    </tr>\n",
       "    <tr>\n",
       "      <td>15</td>\n",
       "      <td>RAD_4</td>\n",
       "      <td>-0.106715</td>\n",
       "      <td>-0.132264</td>\n",
       "    </tr>\n",
       "    <tr>\n",
       "      <td>0</td>\n",
       "      <td>CRIM</td>\n",
       "      <td>-0.123610</td>\n",
       "      <td>-0.229084</td>\n",
       "    </tr>\n",
       "    <tr>\n",
       "      <td>4</td>\n",
       "      <td>NOX</td>\n",
       "      <td>-0.139663</td>\n",
       "      <td>-0.165944</td>\n",
       "    </tr>\n",
       "    <tr>\n",
       "      <td>8</td>\n",
       "      <td>TAX</td>\n",
       "      <td>-0.176020</td>\n",
       "      <td>-0.207997</td>\n",
       "    </tr>\n",
       "    <tr>\n",
       "      <td>9</td>\n",
       "      <td>PTRATIO</td>\n",
       "      <td>-0.201251</td>\n",
       "      <td>-0.173673</td>\n",
       "    </tr>\n",
       "    <tr>\n",
       "      <td>17</td>\n",
       "      <td>RAD_6</td>\n",
       "      <td>-0.262571</td>\n",
       "      <td>-0.144390</td>\n",
       "    </tr>\n",
       "    <tr>\n",
       "      <td>7</td>\n",
       "      <td>DIS</td>\n",
       "      <td>-0.326647</td>\n",
       "      <td>-0.237210</td>\n",
       "    </tr>\n",
       "    <tr>\n",
       "      <td>11</td>\n",
       "      <td>LSTAT</td>\n",
       "      <td>-0.337822</td>\n",
       "      <td>-0.463023</td>\n",
       "    </tr>\n",
       "    <tr>\n",
       "      <td>12</td>\n",
       "      <td>RAD_1</td>\n",
       "      <td>-0.397250</td>\n",
       "      <td>-0.356316</td>\n",
       "    </tr>\n",
       "  </tbody>\n",
       "</table>\n",
       "</div>"
      ],
      "text/plain": [
       "    columns  coef_ridge_org  coef_ridge_log\n",
       "19    RAD_8        0.369360        0.230353\n",
       "5        RM        0.269159        0.146972\n",
       "20   RAD_24        0.265701        0.349440\n",
       "18    RAD_7        0.189883        0.154412\n",
       "1        ZN        0.142650        0.089955\n",
       "10        B        0.093884        0.097706\n",
       "14    RAD_3        0.083285        0.020531\n",
       "3      CHAS       -0.005911        0.020116\n",
       "2     INDUS       -0.039446        0.023128\n",
       "16    RAD_5       -0.042601       -0.021276\n",
       "6       AGE       -0.093357       -0.043421\n",
       "13    RAD_2       -0.099093       -0.100490\n",
       "15    RAD_4       -0.106715       -0.132264\n",
       "0      CRIM       -0.123610       -0.229084\n",
       "4       NOX       -0.139663       -0.165944\n",
       "8       TAX       -0.176020       -0.207997\n",
       "9   PTRATIO       -0.201251       -0.173673\n",
       "17    RAD_6       -0.262571       -0.144390\n",
       "7       DIS       -0.326647       -0.237210\n",
       "11    LSTAT       -0.337822       -0.463023\n",
       "12    RAD_1       -0.397250       -0.356316"
      ]
     },
     "execution_count": 103,
     "metadata": {},
     "output_type": "execute_result"
    }
   ],
   "source": [
    "fs = pd.DataFrame({'columns':list(feat_names), \n",
    "                  'coef_ridge_org':list(ridge1.coef_[0,:]), \n",
    "                  'coef_ridge_log':list(ridge1.coef_[1,:])})\n",
    "fs.sort_values(by=['coef_ridge_org'], ascending=False)"
   ]
  },
  {
   "cell_type": "code",
   "execution_count": 96,
   "metadata": {},
   "outputs": [
    {
     "data": {
      "text/plain": [
       "array([[-0.37973373, -0.36134758],\n",
       "       [ 0.65216383,  0.78710903],\n",
       "       [-1.11910882, -1.14043324],\n",
       "       [ 1.44404003,  1.26036633],\n",
       "       [ 0.23565046,  0.32560408]])"
      ]
     },
     "execution_count": 96,
     "metadata": {},
     "output_type": "execute_result"
    }
   ],
   "source": [
    "y_predict = ridge1.predict(X_test)\n",
    "y_predict[:5]"
   ]
  },
  {
   "cell_type": "code",
   "execution_count": 97,
   "metadata": {},
   "outputs": [
    {
     "data": {
      "text/plain": [
       "0.8108655762007425"
      ]
     },
     "execution_count": 97,
     "metadata": {},
     "output_type": "execute_result"
    }
   ],
   "source": [
    "from sklearn.metrics import r2_score\n",
    "\n",
    "r2_score(y_test.iloc[:,0], y_predict[:,0])"
   ]
  },
  {
   "cell_type": "code",
   "execution_count": 98,
   "metadata": {},
   "outputs": [
    {
     "data": {
      "text/plain": [
       "0.8231287294805505"
      ]
     },
     "execution_count": 98,
     "metadata": {},
     "output_type": "execute_result"
    }
   ],
   "source": [
    "r2_score(y_test.iloc[:,1], y_predict[:,1])"
   ]
  },
  {
   "cell_type": "markdown",
   "metadata": {},
   "source": [
    "**总结**\n",
    "\n",
    "lr_reg在测试集上r2分数：0.8069551816288218\n",
    "\n",
    "ridge在测试集上r2分数：0.8108655762007414\n",
    "\n",
    "lasso在测试集上r2分数：0.8083240165745612\n",
    "\n",
    "对y（价格）取log并使用表现最好的ridge，在测试集上的r2 score又略变好：0.8231287294805505\n",
    "\n",
    "ridge 和 lasso模型出现的本意是为了解决训练数据集中存在的多重共线性问题，对模型性能并不会大幅提升，一般模型性能会略微上升或者下降，想让线性回归模型性能大幅上升，可以尝试多项式回归。"
   ]
  }
 ],
 "metadata": {
  "kernelspec": {
   "display_name": "Python 3",
   "language": "python",
   "name": "python3"
  },
  "language_info": {
   "codemirror_mode": {
    "name": "ipython",
    "version": 3
   },
   "file_extension": ".py",
   "mimetype": "text/x-python",
   "name": "python",
   "nbconvert_exporter": "python",
   "pygments_lexer": "ipython3",
   "version": "3.6.9"
  }
 },
 "nbformat": 4,
 "nbformat_minor": 4
}
